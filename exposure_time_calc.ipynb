{
 "cells": [
  {
   "cell_type": "code",
   "execution_count": 32,
   "metadata": {},
   "outputs": [
    {
     "data": {
      "text/latex": [
       "$0.036759084 \\; \\mathrm{\\frac{e^{-}}{s}}$"
      ],
      "text/plain": [
       "<Quantity 0.036759083708911545 electron / s>"
      ]
     },
     "execution_count": 32,
     "metadata": {},
     "output_type": "execute_result"
    }
   ],
   "source": [
    "import astropy.units as u\n",
    "import numpy as np\n",
    "import matplotlib.pyplot as plt\n",
    "%matplotlib inline\n",
    "#F0=949*u.photon/u.second/u.cm**2/u.AA\n",
    "F0=450*u.photon/u.second/u.cm**2/u.AA#nemati spreadsheets\n",
    "z=3\n",
    "mz=22\n",
    "wavel=575*u.nm\n",
    "bw=50*u.nm\n",
    "QE_eff=.045*u.electron/u.photon*.55\n",
    "X=1#0.7\n",
    "Fz=F0*z*(10**(-mz/2.5))*np.pi**2*(X*wavel)**2*bw*QE_eff*(u.radian**2/u.arcsecond**2)\n",
    "Fz.decompose()"
   ]
  },
  {
   "cell_type": "markdown",
   "metadata": {},
   "source": [
    " $F_0 \\  ( 10^{-m_{p}/2.5}) \\  \\pi(D/2)^2 \\ \\Delta\\lambda \\ \\text{QE}_{eff}$"
   ]
  },
  {
   "cell_type": "code",
   "execution_count": 38,
   "metadata": {},
   "outputs": [
    {
     "data": {
      "text/latex": [
       "$0.011053356 \\; \\mathrm{\\frac{e^{-}}{s}}$"
      ],
      "text/plain": [
       "<Quantity 0.011053356247182518 electron / s>"
      ]
     },
     "execution_count": 38,
     "metadata": {},
     "output_type": "execute_result"
    }
   ],
   "source": [
    "D=2.37*u.m\n",
    "m_star=4.61\n",
    "\n",
    "f_ratio=1e-9\n",
    "m_p=-2.5*np.log10(f_ratio)\n",
    "Fex=F0*(10**(-(m_p+m_star)/2.5))*np.pi**2*(D/2)**2*bw*QE_eff\n",
    "Fex.decompose()"
   ]
  },
  {
   "cell_type": "code",
   "execution_count": 39,
   "metadata": {},
   "outputs": [
    {
     "data": {
      "image/png": "[encoded data removed]",
      "text/plain": [
       "<matplotlib.figure.Figure at 0x1518b6c518>"
      ]
     },
     "metadata": {},
     "output_type": "display_data"
    }
   ],
   "source": [
    "t=1*u.hour*np.arange(0.1,20,.1)\n",
    "scale=2\n",
    "plt.figure(figsize=[4,3])\n",
    "ax=plt.subplot(111)\n",
    "plt.plot(t,(Fex*t/np.sqrt((Fex)*t)).decompose(),\"-.\",\n",
    "        label=\"$n_{zodi}$=%i\"%(0))\n",
    "plt.plot(t,(Fex*t/np.sqrt((Fex+Fz)*t)).decompose(),\"--\",\n",
    "        label=\"$n_{zodi}$=%i\"%(z))\n",
    "#plt.plot(t,np.ones(t.size)*5,\"--\")\n",
    "\n",
    "plt.plot(t,(Fex*t/np.sqrt((Fex+scale*Fz)*t)).decompose(),\n",
    "        label=\"$n_{zodi}$=%i\"%(scale*z))\n",
    "ax.set_yticks([0,5,10,25])\n",
    "plt.grid()\n",
    "\n",
    "\n",
    "plt.xlabel(t.unit)\n",
    "plt.ylabel(\"SNR\")\n",
    "plt.legend()\n",
    "plt.title(r'Detection of %.0e planet ($m_{V}$= 5)'%(f_ratio))\n",
    "plt.savefig(\"detection.pdf\",bbox_inches=\"tight\")"
   ]
  },
  {
   "cell_type": "code",
   "execution_count": 35,
   "metadata": {},
   "outputs": [
    {
     "data": {
      "text/plain": [
       "6"
      ]
     },
     "execution_count": 35,
     "metadata": {},
     "output_type": "execute_result"
    }
   ],
   "source": [
    "scale*z"
   ]
  },
  {
   "cell_type": "code",
   "execution_count": null,
   "metadata": {},
   "outputs": [],
   "source": [
    "mz"
   ]
  },
  {
   "cell_type": "code",
   "execution_count": null,
   "metadata": {
    "collapsed": true
   },
   "outputs": [],
   "source": []
  }
 ],
 "metadata": {
  "kernelspec": {
   "display_name": "Python [conda env:astroconda]",
   "language": "python",
   "name": "conda-env-astroconda-py"
  },
  "language_info": {
   "codemirror_mode": {
    "name": "ipython",
    "version": 3
   },
   "file_extension": ".py",
   "mimetype": "text/x-python",
   "name": "python",
   "nbconvert_exporter": "python",
   "pygments_lexer": "ipython3",
   "version": "3.6.1"
  }
 },
 "nbformat": 4,
 "nbformat_minor": 2
}
