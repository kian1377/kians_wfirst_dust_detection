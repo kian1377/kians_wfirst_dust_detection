{
 "cells": [
  {
   "cell_type": "code",
   "execution_count": 1,
   "metadata": {
    "collapsed": true
   },
   "outputs": [],
   "source": [
    "import astropy.io.fits as fits\n",
    "import matplotlib.pyplot as plt\n",
    "import numpy as np\n",
    "%matplotlib inline\n",
    "#noisy:\n",
    "cube=fits.getdata(\"/Users/edouglas/Downloads/OS5_ADI_3.1/OS5_adi_3_polx_lowfc_random_47_Uma_roll_m13deg_HLC_sequence_noisy_with_planets.fits\")\n",
    "#noiseless:\n",
    "cube=fits.getdata(\"/Users/edouglas/Downloads/OS5_ADI_3.1/OS5_adi_3_polx_lowfc_random_47_Uma_roll_m13deg_HLC_sequence_with_planets.fits\")\n"
   ]
  },
  {
   "cell_type": "code",
   "execution_count": null,
   "metadata": {
    "collapsed": true
   },
   "outputs": [],
   "source": [
    "mean=np.mean((cube[:,:,:]+1),axis=0)\n",
    "plt.imshow(mean)\n",
    "min_max=[mean.min(),mean.max()]"
   ]
  },
  {
   "cell_type": "code",
   "execution_count": null,
   "metadata": {
    "collapsed": true
   },
   "outputs": [],
   "source": [
    "import dtcwt\n",
    "\n",
    "transform = dtcwt.Transform2d()\n",
    "\n",
    "\n",
    "# Compute two levels of dtcwt with the defaul wavelet family\n",
    "mandrill_t = transform.forward(mean, nlevels=1)\n",
    "# Show the absolute images for each direction in level 2.\n",
    "# Note that the 2nd level has index 1 since the 1st has index 0.\n",
    "plt.figure(2,figsize=[15,10])\n",
    "for slice_idx in range(mandrill_t.highpasses[0].shape[2]):\n",
    "    plt.subplot(2, 3, int(slice_idx+1))\n",
    "    plt.imshow(np.abs(mandrill_t.highpasses[0][:,:,slice_idx]), cmap=plt.cm.spectral, clim=(0,1))\n"
   ]
  },
  {
   "cell_type": "code",
   "execution_count": null,
   "metadata": {
    "collapsed": true
   },
   "outputs": [],
   "source": [
    "plt.imshow(mean-(np.abs(np.mean(mandrill_t.highpasses[0][:,:,:],axis=2))),cmap=plt.cm.gnuplot,)"
   ]
  },
  {
   "cell_type": "code",
   "execution_count": null,
   "metadata": {
    "collapsed": true
   },
   "outputs": [],
   "source": [
    "plt.imshow(mean-mandrill_t.lowpass[:-1,:-1])"
   ]
  },
  {
   "cell_type": "code",
   "execution_count": null,
   "metadata": {
    "collapsed": true
   },
   "outputs": [],
   "source": [
    "dtcwt.Pyramid?\n"
   ]
  },
  {
   "cell_type": "code",
   "execution_count": null,
   "metadata": {
    "collapsed": true
   },
   "outputs": [],
   "source": []
  }
 ],
 "metadata": {
  "kernelspec": {
   "display_name": "Python [conda env:astroconda]",
   "language": "python",
   "name": "conda-env-astroconda-py"
  },
  "language_info": {
   "codemirror_mode": {
    "name": "ipython",
    "version": 3
   },
   "file_extension": ".py",
   "mimetype": "text/x-python",
   "name": "python",
   "nbconvert_exporter": "python",
   "pygments_lexer": "ipython3",
   "version": "3.6.1"
  }
 },
 "nbformat": 4,
 "nbformat_minor": 2
}
