{
 "cells": [
  {
   "cell_type": "code",
   "execution_count": null,
   "metadata": {},
   "outputs": [],
   "source": [
    "import matplotlib.pyplot as plt\n",
    "import astropy.io.fits as fits\n",
    "import numpy as np\n",
    "from pathlib import Path\n",
    "#reload(hlc_processing)\n",
    "%matplotlib inline\n",
    "zodi_d=Path(\"zodipics/\").glob(\"zodipic_*pc03mas.fits\")\n",
    "for zodi_file in zodi_d:\n",
    "    im_name =  Path(str(zodi_file)[:-5]+ \"_nearest_HLC.fits\")\n",
    "\n",
    "    im_name =  Path(str(zodi_file)[:-5]+ \"_nearest_HLC.fits\")\n",
    "    \n",
    "    try:\n",
    "        plt.figure()\n",
    "        plt.title(zodi_file)\n",
    "        plt.imshow(fits.getdata(im_name))\n",
    "        plt.colorbar()\n",
    "    except Exception as err:\n",
    "        print(err)"
   ]
  },
  {
   "cell_type": "code",
   "execution_count": null,
   "metadata": {},
   "outputs": [],
   "source": [
    "import poppy\n",
    "plt.figure(figsize=[5,3],dpi=450)\n",
    "HLC_plate_scale_AS=0.010037853970807873\n",
    "zodihlcs=list(Path(\"zodipics/\").glob(\"zodipic_*pc03mas.fits\"))#\n",
    "zodihlcs.sort()\n",
    "for i,zodi_file in enumerate(zodihlcs):\n",
    "    im =  fits.open(Path(str(zodi_file)[:-5]+ \"_nearest_HLC.fits\"))\n",
    "    inp =  fits.open(Path(str(zodi_file)[:-5]+ \"_nearest_input.fits\"))\n",
    "    im[0].header[\"PIXELSCL\"]=HLC_plate_scale_AS\n",
    "    r,avg=poppy.utils.radial_profile(im)\n",
    "\n",
    "    rinp,avginp=poppy.utils.radial_profile(inp)\n",
    "\n",
    "    avgplt=plt.plot(r,avg/avg.max(),'--',label=str(zodi_file).split(\"_\")[1].split(\"pc\")[0]+\" parsec\",\n",
    "                    linewidth=2/(i+1))\n",
    "\n",
    "    plt.plot(rinp,avginp/avginp.max(),linewidth=2/(i+1),color=avgplt[0].get_color())\n",
    "\n",
    "    plt.xlim(0,.45)\n",
    "plt.legend()\n",
    "plt.yscale(\"log\")\n",
    "plt.ylim([1e-3,1])\n",
    "plt.title(\"Zodiacal dust vs. distance\")\n",
    "plt.xlabel(\"arcsec\")\n",
    "plt.ylabel(\"normalized \\n  flux\",rotation=0, labelpad=25)"
   ]
  },
  {
   "cell_type": "code",
   "execution_count": null,
   "metadata": {},
   "outputs": [],
   "source": [
    "fitsfile=\"/Users/edouglas/Box Sync/WFIRST_SIT_FILES/DebesModels/Model_Annulus/annulus_inc30_r0.1.fits\"\n",
    "annul=fits.open(fitsfile)\n",
    "\n",
    "annul_hlc=fits.open(fitsfile+\"_nearest.fits\")\n",
    "\n",
    "\n"
   ]
  },
  {
   "cell_type": "code",
   "execution_count": null,
   "metadata": {},
   "outputs": [],
   "source": [
    "        #ax.set_aspect(1)\n",
    "        plt.figure(figsize=[5,4],dpi=450)\n",
    "        zodi_r_axis,zodi_ravg=poppy.utils.radial_profile(annul)\n",
    "        #annul_hlc[0].header[\"PIXELSCL\"]=HLC_plate_scale_AS\n",
    "\n",
    "\n",
    "        r_axis,ravg=poppy.utils.radial_profile(annul_hlc)\n",
    "\n",
    "        ax=plt.subplot(111)\n",
    "        ax.plot(zodi_r_axis,zodi_ravg/np.nanmax(zodi_ravg),'-.',label=\"Input\")\n",
    "\n",
    "        #ax.plot([lambda_D.decompose()*206265*3,lambda_D.decompose()*206265*3],[1e-12, 1],'--',color=\"orange\")\n",
    "        #ax.text(lambda_D.decompose()*206265*2.2,.85,\"IWA\",color=\"orange\")\n",
    "\n",
    "        ax.plot(r_axis,ravg/ravg.max(),label=\"HLC output\")\n",
    "        ax.set_ylim([.1,1])\n",
    "        ax.set_xlim([-.05,.5])\n",
    "\n",
    "        #plt.yscale(\"log\")\n",
    "        plt.xlabel(\"$\\prime\\prime$\")\n",
    "        plt.ylabel(\"Normalized flux\")\n"
   ]
  },
  {
   "cell_type": "code",
   "execution_count": null,
   "metadata": {
    "collapsed": true
   },
   "outputs": [],
   "source": []
  }
 ],
 "metadata": {
  "kernelspec": {
   "display_name": "Python [conda env:astroconda]",
   "language": "python",
   "name": "conda-env-astroconda-py"
  },
  "language_info": {
   "codemirror_mode": {
    "name": "ipython",
    "version": 3
   },
   "file_extension": ".py",
   "mimetype": "text/x-python",
   "name": "python",
   "nbconvert_exporter": "python",
   "pygments_lexer": "ipython3",
   "version": "3.6.6"
  }
 },
 "nbformat": 4,
 "nbformat_minor": 2
}
