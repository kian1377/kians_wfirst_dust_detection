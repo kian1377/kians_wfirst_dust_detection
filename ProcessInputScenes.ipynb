{
 "cells": [
  {
   "cell_type": "markdown",
   "metadata": {},
   "source": [
    "# Purpose:\n",
    "\n",
    "This notebook intends to demonstrate creation of a library of PSFs and use them to generate a post-coronagraph datacube.\n",
    "\n",
    "Before the library is created, a monochromatic scene is generated for testing purposes. \n",
    "\n",
    "\n",
    "### NOTES:\n",
    "\n",
    "no qualitative difference between ratios images of 3AU zodi with 1mas and 3 mas sampling.\n",
    "\n",
    "\n",
    "\n",
    "\n",
    "\n"
   ]
  },
  {
   "cell_type": "code",
   "execution_count": 1,
   "metadata": {},
   "outputs": [],
   "source": [
    "from importlib import reload\n",
    "\n",
    "import hlc_processing\n",
    "reload(hlc_processing)\n",
    "\n",
    "#dependencies:\n",
    "\n",
    "import astropy.io.fits as fits\n",
    "import astropy.units as u\n",
    "import os\n",
    "import numpy as np\n",
    "import poppy.utils as utils\n",
    "import poppy\n",
    "import matplotlib.pyplot as plt\n",
    "from scipy.ndimage import rotate\n",
    "from matplotlib.colors import LogNorm\n",
    "#%matplotlib inline\n",
    "import glob\n",
    "\n",
    "home = os.path.expanduser(\"~/\")\n",
    "\n",
    "import time\n",
    "\n",
    "from utils import displ_scale  \n",
    "\n",
    "#test_input=np.ones([2,3,3])\n",
    "\n",
    "#webbpsf.setup_logging(level=\"WARN\") ##switching logging from info to warn made propagation 2x faster\n",
    "\n",
    "#print(webbpsf.__version__)\n",
    "plt.rcParams.update({'image.origin': 'lower',\n",
    "                     'image.interpolation':\"nearest\"})\n",
    "\n",
    "\n"
   ]
  },
  {
   "cell_type": "code",
   "execution_count": 2,
   "metadata": {},
   "outputs": [],
   "source": [
    "#import ipyparallel as ipp\n",
    "#rc = ipp.Client()\n",
    "#with rc[:].sync_imports():\n",
    "#    import numpy\n",
    "#%px print('hi')"
   ]
  },
  {
   "cell_type": "code",
   "execution_count": 3,
   "metadata": {},
   "outputs": [
    {
     "name": "stdout",
     "output_type": "stream",
     "text": [
      "C:\\Users\\Kian\\Documents\\GitHub\\wfirst_dust_detection\n",
      "C:\\Users\\Kian\\Documents\\GitHub\\wfirst_dust_detection\n"
     ]
    }
   ],
   "source": [
    "print(os.getcwd())\n",
    "my_home_dir = os.getcwd()\n",
    "print(my_home_dir)"
   ]
  },
  {
   "cell_type": "code",
   "execution_count": 4,
   "metadata": {},
   "outputs": [],
   "source": [
    "#ouput parameters:\n",
    "\n",
    "#lambda/D/4 resolution:\n",
    "det_oversample=4\n",
    "\n",
    "resel = (575*u.nm/(2.4*u.m)*u.radian).to(u.arcsec)\n",
    "\n",
    "out_pixscale = (resel/det_oversample).value\n"
   ]
  },
  {
   "cell_type": "code",
   "execution_count": 5,
   "metadata": {},
   "outputs": [
    {
     "data": {
      "text/plain": [
       "0.012354402457508377"
      ]
     },
     "execution_count": 5,
     "metadata": {},
     "output_type": "execute_result"
    }
   ],
   "source": [
    "out_pixscale\n"
   ]
  },
  {
   "cell_type": "markdown",
   "metadata": {},
   "source": [
    "## Plot input"
   ]
  },
  {
   "cell_type": "code",
   "execution_count": null,
   "metadata": {},
   "outputs": [],
   "source": []
  },
  {
   "cell_type": "markdown",
   "metadata": {},
   "source": [
    "## Create grid of pixel coordinates\n",
    "\n"
   ]
  },
  {
   "cell_type": "code",
   "execution_count": 6,
   "metadata": {},
   "outputs": [
    {
     "data": {
      "text/plain": [
       "['C:\\\\Users\\\\Kian\\\\Documents\\\\GitHub\\\\wfirst_dust_detection\\\\DebesModels\\\\Model_Annulus\\\\annulus_inc0_r0.1.fits',\n",
       " 'C:\\\\Users\\\\Kian\\\\Documents\\\\GitHub\\\\wfirst_dust_detection\\\\DebesModels\\\\Model_Annulus\\\\annulus_inc0_r0.2.fits',\n",
       " 'C:\\\\Users\\\\Kian\\\\Documents\\\\GitHub\\\\wfirst_dust_detection\\\\DebesModels\\\\Model_Annulus\\\\annulus_inc0_r0.3.fits',\n",
       " 'C:\\\\Users\\\\Kian\\\\Documents\\\\GitHub\\\\wfirst_dust_detection\\\\DebesModels\\\\Model_Annulus\\\\annulus_inc0_r0.4.fits',\n",
       " 'C:\\\\Users\\\\Kian\\\\Documents\\\\GitHub\\\\wfirst_dust_detection\\\\DebesModels\\\\Model_Annulus\\\\annulus_inc0_r0.5.fits',\n",
       " 'C:\\\\Users\\\\Kian\\\\Documents\\\\GitHub\\\\wfirst_dust_detection\\\\DebesModels\\\\Model_Annulus\\\\annulus_inc30_r0.1.fits',\n",
       " 'C:\\\\Users\\\\Kian\\\\Documents\\\\GitHub\\\\wfirst_dust_detection\\\\DebesModels\\\\Model_Annulus\\\\annulus_inc30_r0.2.fits',\n",
       " 'C:\\\\Users\\\\Kian\\\\Documents\\\\GitHub\\\\wfirst_dust_detection\\\\DebesModels\\\\Model_Annulus\\\\annulus_inc30_r0.3.fits',\n",
       " 'C:\\\\Users\\\\Kian\\\\Documents\\\\GitHub\\\\wfirst_dust_detection\\\\DebesModels\\\\Model_Annulus\\\\annulus_inc30_r0.4.fits',\n",
       " 'C:\\\\Users\\\\Kian\\\\Documents\\\\GitHub\\\\wfirst_dust_detection\\\\DebesModels\\\\Model_Annulus\\\\annulus_inc30_r0.5.fits',\n",
       " 'C:\\\\Users\\\\Kian\\\\Documents\\\\GitHub\\\\wfirst_dust_detection\\\\DebesModels\\\\Model_Annulus\\\\annulus_inc45_r0.1.fits',\n",
       " 'C:\\\\Users\\\\Kian\\\\Documents\\\\GitHub\\\\wfirst_dust_detection\\\\DebesModels\\\\Model_Annulus\\\\annulus_inc45_r0.2.fits',\n",
       " 'C:\\\\Users\\\\Kian\\\\Documents\\\\GitHub\\\\wfirst_dust_detection\\\\DebesModels\\\\Model_Annulus\\\\annulus_inc45_r0.3.fits',\n",
       " 'C:\\\\Users\\\\Kian\\\\Documents\\\\GitHub\\\\wfirst_dust_detection\\\\DebesModels\\\\Model_Annulus\\\\annulus_inc45_r0.4.fits',\n",
       " 'C:\\\\Users\\\\Kian\\\\Documents\\\\GitHub\\\\wfirst_dust_detection\\\\DebesModels\\\\Model_Annulus\\\\annulus_inc45_r0.5.fits',\n",
       " 'C:\\\\Users\\\\Kian\\\\Documents\\\\GitHub\\\\wfirst_dust_detection\\\\DebesModels\\\\Model_Annulus\\\\annulus_inc60_r0.1.fits',\n",
       " 'C:\\\\Users\\\\Kian\\\\Documents\\\\GitHub\\\\wfirst_dust_detection\\\\DebesModels\\\\Model_Annulus\\\\annulus_inc60_r0.2.fits',\n",
       " 'C:\\\\Users\\\\Kian\\\\Documents\\\\GitHub\\\\wfirst_dust_detection\\\\DebesModels\\\\Model_Annulus\\\\annulus_inc60_r0.3.fits',\n",
       " 'C:\\\\Users\\\\Kian\\\\Documents\\\\GitHub\\\\wfirst_dust_detection\\\\DebesModels\\\\Model_Annulus\\\\annulus_inc60_r0.4.fits',\n",
       " 'C:\\\\Users\\\\Kian\\\\Documents\\\\GitHub\\\\wfirst_dust_detection\\\\DebesModels\\\\Model_Annulus\\\\annulus_inc60_r0.5.fits',\n",
       " 'C:\\\\Users\\\\Kian\\\\Documents\\\\GitHub\\\\wfirst_dust_detection\\\\DebesModels\\\\Model_Annulus\\\\annulus_inc89_r0.1.fits',\n",
       " 'C:\\\\Users\\\\Kian\\\\Documents\\\\GitHub\\\\wfirst_dust_detection\\\\DebesModels\\\\Model_Annulus\\\\annulus_inc89_r0.2.fits',\n",
       " 'C:\\\\Users\\\\Kian\\\\Documents\\\\GitHub\\\\wfirst_dust_detection\\\\DebesModels\\\\Model_Annulus\\\\annulus_inc89_r0.3.fits',\n",
       " 'C:\\\\Users\\\\Kian\\\\Documents\\\\GitHub\\\\wfirst_dust_detection\\\\DebesModels\\\\Model_Annulus\\\\annulus_inc89_r0.4.fits',\n",
       " 'C:\\\\Users\\\\Kian\\\\Documents\\\\GitHub\\\\wfirst_dust_detection\\\\DebesModels\\\\Model_Annulus\\\\annulus_inc89_r0.5.fits',\n",
       " 'C:\\\\Users\\\\Kian\\\\Documents\\\\GitHub\\\\wfirst_dust_detection\\\\DebesModels\\\\Model_ConstantTau\\\\constanttau_inc0_r0.1.fits',\n",
       " 'C:\\\\Users\\\\Kian\\\\Documents\\\\GitHub\\\\wfirst_dust_detection\\\\DebesModels\\\\Model_ConstantTau\\\\constanttau_inc0_r0.2.fits',\n",
       " 'C:\\\\Users\\\\Kian\\\\Documents\\\\GitHub\\\\wfirst_dust_detection\\\\DebesModels\\\\Model_ConstantTau\\\\constanttau_inc0_r0.3.fits',\n",
       " 'C:\\\\Users\\\\Kian\\\\Documents\\\\GitHub\\\\wfirst_dust_detection\\\\DebesModels\\\\Model_ConstantTau\\\\constanttau_inc0_r0.4.fits',\n",
       " 'C:\\\\Users\\\\Kian\\\\Documents\\\\GitHub\\\\wfirst_dust_detection\\\\DebesModels\\\\Model_ConstantTau\\\\constanttau_inc0_r0.5.fits',\n",
       " 'C:\\\\Users\\\\Kian\\\\Documents\\\\GitHub\\\\wfirst_dust_detection\\\\DebesModels\\\\Model_ConstantTau\\\\constanttau_inc30_r0.1.fits',\n",
       " 'C:\\\\Users\\\\Kian\\\\Documents\\\\GitHub\\\\wfirst_dust_detection\\\\DebesModels\\\\Model_ConstantTau\\\\constanttau_inc30_r0.2.fits',\n",
       " 'C:\\\\Users\\\\Kian\\\\Documents\\\\GitHub\\\\wfirst_dust_detection\\\\DebesModels\\\\Model_ConstantTau\\\\constanttau_inc30_r0.3.fits',\n",
       " 'C:\\\\Users\\\\Kian\\\\Documents\\\\GitHub\\\\wfirst_dust_detection\\\\DebesModels\\\\Model_ConstantTau\\\\constanttau_inc30_r0.4.fits',\n",
       " 'C:\\\\Users\\\\Kian\\\\Documents\\\\GitHub\\\\wfirst_dust_detection\\\\DebesModels\\\\Model_ConstantTau\\\\constanttau_inc30_r0.5.fits',\n",
       " 'C:\\\\Users\\\\Kian\\\\Documents\\\\GitHub\\\\wfirst_dust_detection\\\\DebesModels\\\\Model_ConstantTau\\\\constanttau_inc45_r0.1.fits',\n",
       " 'C:\\\\Users\\\\Kian\\\\Documents\\\\GitHub\\\\wfirst_dust_detection\\\\DebesModels\\\\Model_ConstantTau\\\\constanttau_inc45_r0.2.fits',\n",
       " 'C:\\\\Users\\\\Kian\\\\Documents\\\\GitHub\\\\wfirst_dust_detection\\\\DebesModels\\\\Model_ConstantTau\\\\constanttau_inc45_r0.3.fits',\n",
       " 'C:\\\\Users\\\\Kian\\\\Documents\\\\GitHub\\\\wfirst_dust_detection\\\\DebesModels\\\\Model_ConstantTau\\\\constanttau_inc45_r0.4.fits',\n",
       " 'C:\\\\Users\\\\Kian\\\\Documents\\\\GitHub\\\\wfirst_dust_detection\\\\DebesModels\\\\Model_ConstantTau\\\\constanttau_inc45_r0.5.fits',\n",
       " 'C:\\\\Users\\\\Kian\\\\Documents\\\\GitHub\\\\wfirst_dust_detection\\\\DebesModels\\\\Model_ConstantTau\\\\constanttau_inc60_r0.1.fits',\n",
       " 'C:\\\\Users\\\\Kian\\\\Documents\\\\GitHub\\\\wfirst_dust_detection\\\\DebesModels\\\\Model_ConstantTau\\\\constanttau_inc60_r0.2.fits',\n",
       " 'C:\\\\Users\\\\Kian\\\\Documents\\\\GitHub\\\\wfirst_dust_detection\\\\DebesModels\\\\Model_ConstantTau\\\\constanttau_inc60_r0.3.fits',\n",
       " 'C:\\\\Users\\\\Kian\\\\Documents\\\\GitHub\\\\wfirst_dust_detection\\\\DebesModels\\\\Model_ConstantTau\\\\constanttau_inc60_r0.4.fits',\n",
       " 'C:\\\\Users\\\\Kian\\\\Documents\\\\GitHub\\\\wfirst_dust_detection\\\\DebesModels\\\\Model_ConstantTau\\\\constanttau_inc60_r0.5.fits',\n",
       " 'C:\\\\Users\\\\Kian\\\\Documents\\\\GitHub\\\\wfirst_dust_detection\\\\DebesModels\\\\Model_ConstantTau\\\\constanttau_inc89_r0.1.fits',\n",
       " 'C:\\\\Users\\\\Kian\\\\Documents\\\\GitHub\\\\wfirst_dust_detection\\\\DebesModels\\\\Model_ConstantTau\\\\constanttau_inc89_r0.2.fits',\n",
       " 'C:\\\\Users\\\\Kian\\\\Documents\\\\GitHub\\\\wfirst_dust_detection\\\\DebesModels\\\\Model_ConstantTau\\\\constanttau_inc89_r0.3.fits',\n",
       " 'C:\\\\Users\\\\Kian\\\\Documents\\\\GitHub\\\\wfirst_dust_detection\\\\DebesModels\\\\Model_ConstantTau\\\\constanttau_inc89_r0.4.fits',\n",
       " 'C:\\\\Users\\\\Kian\\\\Documents\\\\GitHub\\\\wfirst_dust_detection\\\\DebesModels\\\\Model_ConstantTau\\\\constanttau_inc89_r0.5.fits',\n",
       " 'C:\\\\Users\\\\Kian\\\\Documents\\\\GitHub\\\\wfirst_dust_detection\\\\DebesModels\\\\Model_GAP\\\\gap_inc0_r0.2.fits',\n",
       " 'C:\\\\Users\\\\Kian\\\\Documents\\\\GitHub\\\\wfirst_dust_detection\\\\DebesModels\\\\Model_GAP\\\\gap_inc30_r0.2.fits',\n",
       " 'C:\\\\Users\\\\Kian\\\\Documents\\\\GitHub\\\\wfirst_dust_detection\\\\DebesModels\\\\Model_GAP\\\\gap_inc45_r0.2.fits',\n",
       " 'C:\\\\Users\\\\Kian\\\\Documents\\\\GitHub\\\\wfirst_dust_detection\\\\DebesModels\\\\Model_GAP\\\\gap_inc60_r0.2.fits',\n",
       " 'C:\\\\Users\\\\Kian\\\\Documents\\\\GitHub\\\\wfirst_dust_detection\\\\DebesModels\\\\Model_GAP\\\\gap_inc89_r0.2.fits',\n",
       " 'C:\\\\Users\\\\Kian\\\\Documents\\\\GitHub\\\\wfirst_dust_detection\\\\DebesModels\\\\Model_Ring\\\\ring_inc0_r0.1.fits',\n",
       " 'C:\\\\Users\\\\Kian\\\\Documents\\\\GitHub\\\\wfirst_dust_detection\\\\DebesModels\\\\Model_Ring\\\\ring_inc0_r0.2.fits',\n",
       " 'C:\\\\Users\\\\Kian\\\\Documents\\\\GitHub\\\\wfirst_dust_detection\\\\DebesModels\\\\Model_Ring\\\\ring_inc0_r0.3.fits',\n",
       " 'C:\\\\Users\\\\Kian\\\\Documents\\\\GitHub\\\\wfirst_dust_detection\\\\DebesModels\\\\Model_Ring\\\\ring_inc0_r0.4.fits',\n",
       " 'C:\\\\Users\\\\Kian\\\\Documents\\\\GitHub\\\\wfirst_dust_detection\\\\DebesModels\\\\Model_Ring\\\\ring_inc0_r0.5.fits',\n",
       " 'C:\\\\Users\\\\Kian\\\\Documents\\\\GitHub\\\\wfirst_dust_detection\\\\DebesModels\\\\Model_Ring\\\\ring_inc30_r0.1.fits',\n",
       " 'C:\\\\Users\\\\Kian\\\\Documents\\\\GitHub\\\\wfirst_dust_detection\\\\DebesModels\\\\Model_Ring\\\\ring_inc30_r0.2.fits',\n",
       " 'C:\\\\Users\\\\Kian\\\\Documents\\\\GitHub\\\\wfirst_dust_detection\\\\DebesModels\\\\Model_Ring\\\\ring_inc30_r0.3.fits',\n",
       " 'C:\\\\Users\\\\Kian\\\\Documents\\\\GitHub\\\\wfirst_dust_detection\\\\DebesModels\\\\Model_Ring\\\\ring_inc30_r0.4.fits',\n",
       " 'C:\\\\Users\\\\Kian\\\\Documents\\\\GitHub\\\\wfirst_dust_detection\\\\DebesModels\\\\Model_Ring\\\\ring_inc30_r0.5.fits',\n",
       " 'C:\\\\Users\\\\Kian\\\\Documents\\\\GitHub\\\\wfirst_dust_detection\\\\DebesModels\\\\Model_Ring\\\\ring_inc45_r0.1.fits',\n",
       " 'C:\\\\Users\\\\Kian\\\\Documents\\\\GitHub\\\\wfirst_dust_detection\\\\DebesModels\\\\Model_Ring\\\\ring_inc45_r0.2.fits',\n",
       " 'C:\\\\Users\\\\Kian\\\\Documents\\\\GitHub\\\\wfirst_dust_detection\\\\DebesModels\\\\Model_Ring\\\\ring_inc45_r0.3.fits',\n",
       " 'C:\\\\Users\\\\Kian\\\\Documents\\\\GitHub\\\\wfirst_dust_detection\\\\DebesModels\\\\Model_Ring\\\\ring_inc45_r0.4.fits',\n",
       " 'C:\\\\Users\\\\Kian\\\\Documents\\\\GitHub\\\\wfirst_dust_detection\\\\DebesModels\\\\Model_Ring\\\\ring_inc45_r0.5.fits',\n",
       " 'C:\\\\Users\\\\Kian\\\\Documents\\\\GitHub\\\\wfirst_dust_detection\\\\DebesModels\\\\Model_Ring\\\\ring_inc60_r0.1.fits',\n",
       " 'C:\\\\Users\\\\Kian\\\\Documents\\\\GitHub\\\\wfirst_dust_detection\\\\DebesModels\\\\Model_Ring\\\\ring_inc60_r0.2.fits',\n",
       " 'C:\\\\Users\\\\Kian\\\\Documents\\\\GitHub\\\\wfirst_dust_detection\\\\DebesModels\\\\Model_Ring\\\\ring_inc60_r0.3.fits',\n",
       " 'C:\\\\Users\\\\Kian\\\\Documents\\\\GitHub\\\\wfirst_dust_detection\\\\DebesModels\\\\Model_Ring\\\\ring_inc60_r0.4.fits',\n",
       " 'C:\\\\Users\\\\Kian\\\\Documents\\\\GitHub\\\\wfirst_dust_detection\\\\DebesModels\\\\Model_Ring\\\\ring_inc60_r0.5.fits',\n",
       " 'C:\\\\Users\\\\Kian\\\\Documents\\\\GitHub\\\\wfirst_dust_detection\\\\DebesModels\\\\Model_Ring\\\\ring_inc89_r0.1.fits',\n",
       " 'C:\\\\Users\\\\Kian\\\\Documents\\\\GitHub\\\\wfirst_dust_detection\\\\DebesModels\\\\Model_Ring\\\\ring_inc89_r0.2.fits',\n",
       " 'C:\\\\Users\\\\Kian\\\\Documents\\\\GitHub\\\\wfirst_dust_detection\\\\DebesModels\\\\Model_Ring\\\\ring_inc89_r0.3.fits',\n",
       " 'C:\\\\Users\\\\Kian\\\\Documents\\\\GitHub\\\\wfirst_dust_detection\\\\DebesModels\\\\Model_Ring\\\\ring_inc89_r0.4.fits',\n",
       " 'C:\\\\Users\\\\Kian\\\\Documents\\\\GitHub\\\\wfirst_dust_detection\\\\DebesModels\\\\Model_Ring\\\\ring_inc89_r0.5.fits']"
      ]
     },
     "execution_count": 6,
     "metadata": {},
     "output_type": "execute_result"
    }
   ],
   "source": [
    "debes_models = glob.glob(my_home_dir+\"\\DebesModels\\*\\**.fits\",recursive = True)\n",
    "debes_models"
   ]
  },
  {
   "cell_type": "code",
   "execution_count": 7,
   "metadata": {},
   "outputs": [],
   "source": [
    "localzodi = 5.2e-11 #Jy/pix (22 mags/sq as)\n"
   ]
  },
  {
   "cell_type": "code",
   "execution_count": 9,
   "metadata": {},
   "outputs": [
    {
     "name": "stdout",
     "output_type": "stream",
     "text": [
      "C:\\Users\\Kian\\Documents\\GitHub\\wfirst_dust_detection\\DebesModels\\Model_Annulus\\annulus_inc0_r0.1.fits\n"
     ]
    }
   ],
   "source": [
    "print(debes_models[0])\n",
    "example_file = fits.open(debes_models[0])\n",
    "example_file[0].header\n",
    "localzodi_fits = fits.HDUList([fits.PrimaryHDU(localzodi*np.ones(example_file[0].data.shape))])\n",
    "localzodi_fits[0].header[\"unit\"] = \"jansky/as**2\"\n",
    "localzodi_fits[0].header[\"CX\"] = example_file[0].header[\"CX\"]\n",
    "localzodi_fits[0].header[\"CY\"] = example_file[0].header[\"CY\"]\n",
    "localzodi_fits[0].header[\"PIXELSCL\"] = example_file[0].header[\"PIXELSCL\"]\n",
    "localzodi_fits.writeto(\"localzodi.fits\",overwrite=True)\n"
   ]
  },
  {
   "cell_type": "code",
   "execution_count": 10,
   "metadata": {},
   "outputs": [
    {
     "data": {
      "text/plain": [
       "'for ring in debes_models:\\n    ringfits=fits.open(ring)\\n    ringfits[0].header[\"PIXELSCL\"] = (0.003, \"Pixel dimension in arcseconds\")\\n    fits.writeto(ring,ringfits[0].data,ringfits[0].header,overwrite=True)'"
      ]
     },
     "execution_count": 10,
     "metadata": {},
     "output_type": "execute_result"
    }
   ],
   "source": [
    "\"\"\"for ring in debes_models:\n",
    "    ringfits=fits.open(ring)\n",
    "    ringfits[0].header[\"PIXELSCL\"] = (0.003, \"Pixel dimension in arcseconds\")\n",
    "    fits.writeto(ring,ringfits[0].data,ringfits[0].header,overwrite=True)\"\"\""
   ]
  },
  {
   "cell_type": "markdown",
   "metadata": {},
   "source": [
    "## Retrieve HLC PSF"
   ]
  },
  {
   "cell_type": "code",
   "execution_count": 12,
   "metadata": {},
   "outputs": [
    {
     "name": "stdout",
     "output_type": "stream",
     "text": [
      "[]\n"
     ]
    }
   ],
   "source": [
    "offsetfiles = glob.glob(my_home_dir+\"\\offset_psfs\\psf_xoff_*mas_yoff_*mas.fits\") # Generate my own library of psfs? If so, how?\n",
    "print(offsetfiles)\n",
    "\n",
    "example_offaxis_psf = fits.open(offaxis_psfs[0])"
   ]
  },
  {
   "cell_type": "code",
   "execution_count": 15,
   "metadata": {},
   "outputs": [
    {
     "ename": "IndexError",
     "evalue": "list index out of range",
     "output_type": "error",
     "traceback": [
      "\u001b[1;31m---------------------------------------------------------------------------\u001b[0m",
      "\u001b[1;31mIndexError\u001b[0m                                Traceback (most recent call last)",
      "\u001b[1;32m<ipython-input-15-ed927f8cbffb>\u001b[0m in \u001b[0;36m<module>\u001b[1;34m\u001b[0m\n\u001b[0;32m      3\u001b[0m \u001b[0mxmas\u001b[0m \u001b[1;33m=\u001b[0m \u001b[0mnp\u001b[0m\u001b[1;33m.\u001b[0m\u001b[0marray\u001b[0m\u001b[1;33m(\u001b[0m\u001b[1;33m[\u001b[0m\u001b[0mfloat\u001b[0m\u001b[1;33m(\u001b[0m\u001b[0mfname\u001b[0m\u001b[1;33m.\u001b[0m\u001b[0msplit\u001b[0m\u001b[1;33m(\u001b[0m\u001b[1;34m\"/\"\u001b[0m\u001b[1;33m)\u001b[0m\u001b[1;33m[\u001b[0m\u001b[1;33m-\u001b[0m\u001b[1;36m1\u001b[0m\u001b[1;33m]\u001b[0m\u001b[1;33m[\u001b[0m\u001b[1;36m9\u001b[0m\u001b[1;33m:\u001b[0m\u001b[1;36m13\u001b[0m\u001b[1;33m]\u001b[0m\u001b[1;33m)\u001b[0m \u001b[1;32mfor\u001b[0m \u001b[0mfname\u001b[0m \u001b[1;32min\u001b[0m \u001b[0moffsetfiles\u001b[0m\u001b[1;33m]\u001b[0m\u001b[1;33m)\u001b[0m\u001b[1;33m*\u001b[0m\u001b[0mu\u001b[0m\u001b[1;33m.\u001b[0m\u001b[0mmilliarcsecond\u001b[0m\u001b[1;33m\u001b[0m\u001b[1;33m\u001b[0m\u001b[0m\n\u001b[0;32m      4\u001b[0m \u001b[1;33m\u001b[0m\u001b[0m\n\u001b[1;32m----> 5\u001b[1;33m \u001b[0mhlc_header\u001b[0m \u001b[1;33m=\u001b[0m \u001b[0mfits\u001b[0m\u001b[1;33m.\u001b[0m\u001b[0mgetheader\u001b[0m\u001b[1;33m(\u001b[0m\u001b[0moffsetfiles\u001b[0m\u001b[1;33m[\u001b[0m\u001b[1;36m0\u001b[0m\u001b[1;33m]\u001b[0m\u001b[1;33m)\u001b[0m\u001b[1;33m\u001b[0m\u001b[1;33m\u001b[0m\u001b[0m\n\u001b[0m\u001b[0;32m      6\u001b[0m \u001b[1;33m\u001b[0m\u001b[0m\n\u001b[0;32m      7\u001b[0m \u001b[0mn\u001b[0m \u001b[1;33m=\u001b[0m \u001b[1;36m200\u001b[0m\u001b[1;33m\u001b[0m\u001b[1;33m\u001b[0m\u001b[0m\n",
      "\u001b[1;31mIndexError\u001b[0m: list index out of range"
     ]
    }
   ],
   "source": [
    "offsetfiles.sort() # at the moment offsetfiles is empty\n",
    "\n",
    "xmas = np.array([float(fname.split(\"/\")[-1][9:13]) for fname in offsetfiles])*u.milliarcsecond\n",
    "\n",
    "hlc_header = fits.getheader(offsetfiles[0])\n",
    "\n",
    "n = 200\n",
    "\n",
    "HLCPSFs = np.empty([n,n,len(offsetfiles)])\n",
    "\n",
    "for i,fname in enumerate(offsetfiles):\n",
    "    HLCPSFs[:,:,i] = fits.getdata(fname)\n",
    "xmas\n",
    "\n",
    "HLC_header = fits.getheader(fname)\n",
    "\n",
    "lambda_D = HLC_header[\"lambda_c\"]*u.micron/(2.37*u.m)\n",
    "\n",
    "HLC_plate_scale = (HLC_header[\"pixsize\"]*lambda_D*u.radian).to(u.arcsec) #arcsec/pixel of HLC PSFs\n",
    "\n",
    "#pixsize is HLC simulation pixel size in lambda_c/D  \n",
    "HLC_header[\"PIXELSCL\"] = HLC_plate_scale.value\n",
    "HLC_plate_scale"
   ]
  },
  {
   "cell_type": "code",
   "execution_count": 32,
   "metadata": {},
   "outputs": [
    {
     "name": "stdout",
     "output_type": "stream",
     "text": [
      "[<astropy.io.fits.hdu.image.PrimaryHDU object at 0x000002148B60A668>]\n",
      "[<astropy.io.fits.hdu.image.PrimaryHDU object at 0x000002148B5FD630>]\n"
     ]
    },
    {
     "data": {
      "text/latex": [
       "$[0,~43.080662,~100.52155,~114.88177,~129.24199,~157.96242,~172.32265,~186.68288,~215.40331,~229.76355,~258.48398,~287.20441,~344.64529,~387.72598,~402.08618,~416.44641,~430.80661,~445.16684] \\; \\mathrm{marcsec}$"
      ],
      "text/plain": [
       "<Quantity [  0.      ,  43.08066 , 100.521545, 114.881775, 129.24199 ,\n",
       "           157.96242 , 172.32265 , 186.68288 , 215.4033  , 229.76355 ,\n",
       "           258.48398 , 287.2044  , 344.6453  , 387.72598 , 402.08618 ,\n",
       "           416.4464  , 430.8066  , 445.16684 ] marcsec>"
      ]
     },
     "execution_count": 32,
     "metadata": {},
     "output_type": "execute_result"
    }
   ],
   "source": [
    "# The original Ewan code\n",
    "#hlc_large_range = fits.open(home+\"/projects/WFIRST/data/OS5_ADI_3.2/OS5_adi_3_highres_polx_lowfc_random_offset_psfs.fits\")\n",
    "#hlc_large_offsets = fits.open(home+\"/projects/WFIRST/data/OS5_ADI_3.2/OS5_adi_3_highres_polx_lowfc_random_offset_psfs_offsets.fits\")\n",
    "\n",
    "hlc_large_range = fits.open(my_home_dir+\"\\offset_psfs\\OS5_ADI_3.2\\OS5_adi_3_highres_polx_lowfc_random_offset_psfs.fits\")\n",
    "print(hlc_large_range)\n",
    "\n",
    "hlc_large_offsets = fits.open(my_home_dir+\"\\offset_psfs\\OS5_ADI_3.2\\OS5_adi_3_highres_polx_lowfc_random_offset_psfs_offsets.fits\")\n",
    "print(hlc_large_offsets)\n",
    "\n",
    "# add the OS5 cube, starting at 225mas, outside the high resolution PSFs\n",
    "lambda_D = 0.550*u.micron/(2.37*u.m)\n",
    "\n",
    "trimmed = hlc_large_range[0].data[:,8:-9,8:-9] # replace the 8 with 0 or colon\n",
    "xmas2 = np.array(list(hlc_large_offsets[0].data[:]*lambda_D.decompose().value*206265e3))*u.milliarcsecond\n",
    "#HLCPSFs2 = np.concatenate(#[HLCPSFs,np.moveaxis(trimmed, 0, -1)],axis=2)\n",
    "hlcpsfs = np.moveaxis(trimmed,0,-1)\n",
    "    \n",
    "fits.writeto(\"composite_cube.fits\",hlcpsfs.T,overwrite = True)\n",
    "\n",
    "xmas2"
   ]
  },
  {
   "cell_type": "code",
   "execution_count": 39,
   "metadata": {},
   "outputs": [
    {
     "data": {
      "image/png": "[encoded data removed]",
      "text/plain": [
       "<Figure size 1080x288 with 6 Axes>"
      ]
     },
     "metadata": {
      "needs_background": "light"
     },
     "output_type": "display_data"
    }
   ],
   "source": [
    "#interpolate over a grid\n",
    "#see https://stackoverflow.com/a/28858633/2142498\n",
    "from scipy.interpolate import RegularGridInterpolator \n",
    "\n",
    "n = 200\n",
    "\n",
    "x = range(n) #(np.arange(-hlc_header[\"NAXIS1\"]/2,hlc_header[\"NAXIS1\"]/2)+.5)*hlc_header[\"PIXSIZE\"]\n",
    "\n",
    "y = range(n) #(np.arange(-hlc_header[\"NAXIS2\"]/2,hlc_header[\"NAXIS2\"]/2)+.5)*hlc_header[\"PIXSIZE\"]\n",
    "\n",
    "z = xmas2\n",
    "\n",
    "my_interpolating_function = RegularGridInterpolator((x, y, z), hlcpsfs2,\n",
    "                                                    bounds_error = False,\n",
    "                                                    method = \"nearest\", #~2x faster than linear\n",
    "                                                    fill_value = 0)\n",
    "\n",
    "grid = np.meshgrid(x,y)\n",
    "pts = np.vstack([np.vstack([grid[0].flatten(),grid[1].flatten()]),0*np.ones(len(grid[0].flatten()))]).T\n",
    "interpped = my_interpolating_function(pts).reshape(n,n).T\n",
    "\n",
    "\n",
    "plt.figure(figsize=[15,4])\n",
    "\n",
    "# Plot the original PSF\n",
    "plt.subplot(131)\n",
    "plt.title(\"input\")\n",
    "plt.imshow(hlcpsfs[:,:,0])\n",
    "plt.colorbar()\n",
    "# Plot the interpolated PSF\n",
    "plt.subplot(132)\n",
    "plt.title(\"interpolated\")\n",
    "plt.imshow(interpped)\n",
    "plt.colorbar()\n",
    "# Plot the inerpolated - original PSF\n",
    "plt.subplot(133)\n",
    "plt.title(\"residual\")\n",
    "plt.imshow(interpped-hlcpsfs[:,:,0])\n",
    "plt.colorbar()\n",
    "\n",
    "plt.show()"
   ]
  },
  {
   "cell_type": "code",
   "execution_count": 40,
   "metadata": {},
   "outputs": [
    {
     "data": {
      "text/plain": [
       "False"
      ]
     },
     "execution_count": 40,
     "metadata": {},
     "output_type": "execute_result"
    }
   ],
   "source": [
    "hlc_processing.USE_OPENCV"
   ]
  },
  {
   "cell_type": "code",
   "execution_count": 15,
   "metadata": {},
   "outputs": [
    {
     "ename": "NameError",
     "evalue": "name 'HLC_header' is not defined",
     "output_type": "error",
     "traceback": [
      "\u001b[1;31m---------------------------------------------------------------------------\u001b[0m",
      "\u001b[1;31mNameError\u001b[0m                                 Traceback (most recent call last)",
      "\u001b[1;32m<ipython-input-15-54ff8cf416d3>\u001b[0m in \u001b[0;36m<module>\u001b[1;34m\u001b[0m\n\u001b[1;32m----> 1\u001b[1;33m \u001b[0mmask_radius\u001b[0m\u001b[1;33m=\u001b[0m\u001b[1;36m0.7\u001b[0m\u001b[1;33m/\u001b[0m\u001b[0mHLC_header\u001b[0m\u001b[1;33m[\u001b[0m\u001b[1;34m\"pixsize\"\u001b[0m\u001b[1;33m]\u001b[0m\u001b[1;33m\u001b[0m\u001b[1;33m\u001b[0m\u001b[0m\n\u001b[0m",
      "\u001b[1;31mNameError\u001b[0m: name 'HLC_header' is not defined"
     ]
    }
   ],
   "source": [
    "mask_radius=0.7/HLC_header[\"pixsize\"]"
   ]
  },
  {
   "cell_type": "code",
   "execution_count": 16,
   "metadata": {},
   "outputs": [
    {
     "ename": "NameError",
     "evalue": "name 'my_interpolating_function' is not defined",
     "output_type": "error",
     "traceback": [
      "\u001b[1;31m---------------------------------------------------------------------------\u001b[0m",
      "\u001b[1;31mNameError\u001b[0m                                 Traceback (most recent call last)",
      "\u001b[1;32m<ipython-input-16-2d51c1ec1c44>\u001b[0m in \u001b[0;36m<module>\u001b[1;34m\u001b[0m\n\u001b[0;32m      1\u001b[0m \u001b[0mreload\u001b[0m\u001b[1;33m(\u001b[0m\u001b[0mhlc_processing\u001b[0m\u001b[1;33m)\u001b[0m\u001b[1;33m\u001b[0m\u001b[1;33m\u001b[0m\u001b[0m\n\u001b[0;32m      2\u001b[0m planet3=hlc_processing.closest_monochrome_PSF(-300*u.milliarcsecond,200*u.milliarcsecond,\n\u001b[1;32m----> 3\u001b[1;33m                                               \u001b[0mmy_interpolating_function\u001b[0m\u001b[1;33m,\u001b[0m\u001b[1;33m\u001b[0m\u001b[1;33m\u001b[0m\u001b[0m\n\u001b[0m\u001b[0;32m      4\u001b[0m                                               \u001b[0mxmas2\u001b[0m\u001b[1;33m,\u001b[0m\u001b[1;33m\u001b[0m\u001b[1;33m\u001b[0m\u001b[0m\n\u001b[0;32m      5\u001b[0m                                               \u001b[0mHLC_plate_scale\u001b[0m\u001b[1;33m,\u001b[0m\u001b[1;33m\u001b[0m\u001b[1;33m\u001b[0m\u001b[0m\n",
      "\u001b[1;31mNameError\u001b[0m: name 'my_interpolating_function' is not defined"
     ]
    }
   ],
   "source": [
    "reload(hlc_processing)\n",
    "planet3 = hlc_processing.closest_monochrome_PSF(-300*u.milliarcsecond,200*u.milliarcsecond,\n",
    "                                              my_interpolating_function,\n",
    "                                              xmas2,\n",
    "                                              HLC_plate_scale,\n",
    "                                              mask_radius=mask_radius)\n",
    "\n",
    "%prun hlc_processing.closest_monochrome_PSF(-300*u.milliarcsecond,200*u.milliarcsecond,my_interpolating_function,xmas2,HLC_plate_scale,mask_radius=mask_radius)\n",
    "plt.imshow(planet3[150:170,130:150])\n",
    "plt.show()\n",
    "\n",
    "#??Mask isn't quite circular"
   ]
  },
  {
   "cell_type": "code",
   "execution_count": 17,
   "metadata": {},
   "outputs": [
    {
     "ename": "NameError",
     "evalue": "name 'xmas2' is not defined",
     "output_type": "error",
     "traceback": [
      "\u001b[1;31m---------------------------------------------------------------------------\u001b[0m",
      "\u001b[1;31mNameError\u001b[0m                                 Traceback (most recent call last)",
      "\u001b[1;32m<ipython-input-17-7476da0b83a6>\u001b[0m in \u001b[0;36m<module>\u001b[1;34m\u001b[0m\n\u001b[0;32m      1\u001b[0m \u001b[0mthresh\u001b[0m\u001b[1;33m=\u001b[0m\u001b[1;36m1e32\u001b[0m\u001b[1;33m\u001b[0m\u001b[1;33m\u001b[0m\u001b[0m\n\u001b[0;32m      2\u001b[0m \u001b[1;33m\u001b[0m\u001b[0m\n\u001b[1;32m----> 3\u001b[1;33m \u001b[0mxmas2\u001b[0m\u001b[1;33m\u001b[0m\u001b[1;33m\u001b[0m\u001b[0m\n\u001b[0m",
      "\u001b[1;31mNameError\u001b[0m: name 'xmas2' is not defined"
     ]
    }
   ],
   "source": [
    "thresh = 1e32\n",
    "\n",
    "xmas2"
   ]
  },
  {
   "cell_type": "code",
   "execution_count": 18,
   "metadata": {},
   "outputs": [
    {
     "ename": "NameError",
     "evalue": "name 'my_interpolating_function' is not defined",
     "output_type": "error",
     "traceback": [
      "\u001b[1;31m---------------------------------------------------------------------------\u001b[0m",
      "\u001b[1;31mNameError\u001b[0m                                 Traceback (most recent call last)",
      "\u001b[1;32m<ipython-input-18-3629fcedabd1>\u001b[0m in \u001b[0;36m<module>\u001b[1;34m\u001b[0m\n\u001b[0;32m      8\u001b[0m \u001b[0mcore_mask_radius\u001b[0m\u001b[1;33m=\u001b[0m\u001b[1;36m.15\u001b[0m\u001b[1;33m*\u001b[0m\u001b[0mu\u001b[0m\u001b[1;33m.\u001b[0m\u001b[0marcsec\u001b[0m\u001b[1;33m\u001b[0m\u001b[1;33m\u001b[0m\u001b[0m\n\u001b[0;32m      9\u001b[0m im,zodi = hlc_processing.fit_to_hlc(zodi_path,\n\u001b[1;32m---> 10\u001b[1;33m                                     \u001b[0mmy_interpolating_function\u001b[0m\u001b[1;33m,\u001b[0m\u001b[1;33m\u001b[0m\u001b[1;33m\u001b[0m\u001b[0m\n\u001b[0m\u001b[0;32m     11\u001b[0m                                     \u001b[0mxmas2\u001b[0m\u001b[1;33m,\u001b[0m\u001b[1;33m\u001b[0m\u001b[1;33m\u001b[0m\u001b[0m\n\u001b[0;32m     12\u001b[0m                                     \u001b[0mHLC_plate_scale\u001b[0m\u001b[1;33m,\u001b[0m\u001b[1;33m\u001b[0m\u001b[1;33m\u001b[0m\u001b[0m\n",
      "\u001b[1;31mNameError\u001b[0m: name 'my_interpolating_function' is not defined"
     ]
    }
   ],
   "source": [
    "zodi_fname = \"zodipic_10pc03mas01alpha.fits\"\n",
    "\n",
    "\n",
    "zodi_path = home + \"projects/WFIRST/data/zodipic/\" + zodi_fname\n",
    "\n",
    "reload(hlc_processing)\n",
    "core_mask_radius = .15*u.arcsec\n",
    "im,zodi = hlc_processing.fit_to_hlc(zodi_path,\n",
    "                                    my_interpolating_function,\n",
    "                                    xmas2,\n",
    "                                    HLC_plate_scale,\n",
    "                                    display=True,\n",
    "                                    thresh=thresh)\n",
    "\n",
    "im_name = zodi_path[:-4]+\"_HLC.fits\"\n",
    "\n",
    "zodi_header = fits.getheader(zodi_path)\n",
    "zodi_header[\"thresh\"]=thresh\n",
    "zodi_header[\"coremask\"]=core_mask_radius.value\n",
    "\n",
    "fits.writeto(im_name,im,overwrite=True,header=zodi_header) #    fits.writeto(outfits,im,overwrite=True)\n",
    "\n",
    "zodi_name = zodi_path+str(thresh)+\"_input.fits\"\n",
    "fits.writeto(zodi_name, zodi.filled(fill_value = 0), overwrite = True)\n",
    "\n",
    "\n",
    "\n",
    "\n"
   ]
  },
  {
   "cell_type": "code",
   "execution_count": 19,
   "metadata": {},
   "outputs": [
    {
     "ename": "NameError",
     "evalue": "name 'my_interpolating_function' is not defined",
     "output_type": "error",
     "traceback": [
      "\u001b[1;31m---------------------------------------------------------------------------\u001b[0m",
      "\u001b[1;31mNameError\u001b[0m                                 Traceback (most recent call last)",
      "\u001b[1;32m<ipython-input-19-6f54d68dabb7>\u001b[0m in \u001b[0;36m<module>\u001b[1;34m\u001b[0m\n\u001b[0;32m      2\u001b[0m \u001b[0mcore_mask_radius\u001b[0m\u001b[1;33m=\u001b[0m\u001b[1;36m.15\u001b[0m\u001b[1;33m*\u001b[0m\u001b[0mu\u001b[0m\u001b[1;33m.\u001b[0m\u001b[0marcsec\u001b[0m\u001b[1;33m\u001b[0m\u001b[1;33m\u001b[0m\u001b[0m\n\u001b[0;32m      3\u001b[0m im,zodi = hlc_processing.fit_to_hlc(zodi_path,\n\u001b[1;32m----> 4\u001b[1;33m                                     \u001b[0mmy_interpolating_function\u001b[0m\u001b[1;33m,\u001b[0m\u001b[1;33m\u001b[0m\u001b[1;33m\u001b[0m\u001b[0m\n\u001b[0m\u001b[0;32m      5\u001b[0m                                     \u001b[0mxmas2\u001b[0m\u001b[1;33m,\u001b[0m\u001b[1;33m\u001b[0m\u001b[1;33m\u001b[0m\u001b[0m\n\u001b[0;32m      6\u001b[0m                                     \u001b[0mHLC_plate_scale\u001b[0m\u001b[1;33m,\u001b[0m\u001b[1;33m\u001b[0m\u001b[1;33m\u001b[0m\u001b[0m\n",
      "\u001b[1;31mNameError\u001b[0m: name 'my_interpolating_function' is not defined"
     ]
    }
   ],
   "source": [
    "core_mask_radius = .15*u.arcsec\n",
    "im,zodi = hlc_processing.fit_to_hlc(zodi_path,\n",
    "                                    my_interpolating_function,\n",
    "                                    xmas2,\n",
    "                                    HLC_plate_scale,\n",
    "                                    display=True,\n",
    "                                    core_mask_radius=core_mask_radius,\n",
    "                                    thresh=thresh)\n",
    "\n",
    "im_name = zodi_path[:-4]+\"_coremasked_HLC.fits\"\n",
    "\n",
    "zodi_header = fits.getheader(zodi_path)\n",
    "zodi_header[\"thresh\"] = thresh\n",
    "zodi_header[\"coremask\"] = core_mask_radius.value\n",
    "\n",
    "fits.writeto(im_name,im, overwrite = True, header = zodi_header) #    fits.writeto(outfits,im,overwrite=True)\n",
    "\n",
    "zodi_name = zodi_path+str(thresh)+\"_coremasked_input.fits\"\n",
    "fits.writeto(zodi_name, zodi.filled(fill_value = 0), overwrite=True)\n",
    "\n",
    "\n",
    "\n",
    "\n"
   ]
  },
  {
   "cell_type": "code",
   "execution_count": 20,
   "metadata": {},
   "outputs": [
    {
     "ename": "NameError",
     "evalue": "name 'zodi_name' is not defined",
     "output_type": "error",
     "traceback": [
      "\u001b[1;31m---------------------------------------------------------------------------\u001b[0m",
      "\u001b[1;31mNameError\u001b[0m                                 Traceback (most recent call last)",
      "\u001b[1;32m<ipython-input-20-8121c546d850>\u001b[0m in \u001b[0;36m<module>\u001b[1;34m\u001b[0m\n\u001b[1;32m----> 1\u001b[1;33m \u001b[0mzodi_name\u001b[0m\u001b[1;33m\u001b[0m\u001b[1;33m\u001b[0m\u001b[0m\n\u001b[0m",
      "\u001b[1;31mNameError\u001b[0m: name 'zodi_name' is not defined"
     ]
    }
   ],
   "source": [
    "zodi_name"
   ]
  },
  {
   "cell_type": "code",
   "execution_count": 21,
   "metadata": {},
   "outputs": [
    {
     "ename": "NameError",
     "evalue": "name 'my_interpolating_function' is not defined",
     "output_type": "error",
     "traceback": [
      "\u001b[1;31m---------------------------------------------------------------------------\u001b[0m",
      "\u001b[1;31mNameError\u001b[0m                                 Traceback (most recent call last)",
      "\u001b[1;32m<ipython-input-21-829995cbee53>\u001b[0m in \u001b[0;36m<module>\u001b[1;34m\u001b[0m\n\u001b[0;32m      2\u001b[0m \u001b[0mimportlib\u001b[0m\u001b[1;33m.\u001b[0m\u001b[0mreload\u001b[0m\u001b[1;33m(\u001b[0m\u001b[0mhlc_processing\u001b[0m\u001b[1;33m)\u001b[0m\u001b[1;33m\u001b[0m\u001b[1;33m\u001b[0m\u001b[0m\n\u001b[0;32m      3\u001b[0m im,zodi = hlc_processing.fit_to_hlc(zodi_path,\n\u001b[1;32m----> 4\u001b[1;33m                                     \u001b[0mmy_interpolating_function\u001b[0m\u001b[1;33m,\u001b[0m\u001b[1;33m\u001b[0m\u001b[1;33m\u001b[0m\u001b[0m\n\u001b[0m\u001b[0;32m      5\u001b[0m                                     \u001b[0mxmas2\u001b[0m\u001b[1;33m,\u001b[0m\u001b[1;33m\u001b[0m\u001b[1;33m\u001b[0m\u001b[0m\n\u001b[0;32m      6\u001b[0m                                     \u001b[0mHLC_plate_scale\u001b[0m\u001b[1;33m,\u001b[0m\u001b[1;33m\u001b[0m\u001b[1;33m\u001b[0m\u001b[0m\n",
      "\u001b[1;31mNameError\u001b[0m: name 'my_interpolating_function' is not defined"
     ]
    }
   ],
   "source": [
    "reload(hlc_processing)\n",
    "im,zodi = hlc_processing.fit_to_hlc(zodi_path,\n",
    "                                    my_interpolating_function,\n",
    "                                    xmas2,\n",
    "                                    HLC_plate_scale,\n",
    "                                    display = True,\n",
    "                                    thresh = thresh)"
   ]
  },
  {
   "cell_type": "code",
   "execution_count": 22,
   "metadata": {},
   "outputs": [
    {
     "ename": "NameError",
     "evalue": "name 'HLC_header' is not defined",
     "output_type": "error",
     "traceback": [
      "\u001b[1;31m---------------------------------------------------------------------------\u001b[0m",
      "\u001b[1;31mNameError\u001b[0m                                 Traceback (most recent call last)",
      "\u001b[1;32m<ipython-input-22-7fc16d8faf79>\u001b[0m in \u001b[0;36m<module>\u001b[1;34m\u001b[0m\n\u001b[0;32m      1\u001b[0m \u001b[0mim_name\u001b[0m \u001b[1;33m=\u001b[0m \u001b[0mzodi_path\u001b[0m\u001b[1;33m[\u001b[0m\u001b[1;33m:\u001b[0m\u001b[1;33m-\u001b[0m\u001b[1;36m4\u001b[0m\u001b[1;33m]\u001b[0m\u001b[1;33m+\u001b[0m\u001b[1;34m\"_HLC.fits\"\u001b[0m\u001b[1;33m\u001b[0m\u001b[1;33m\u001b[0m\u001b[0m\n\u001b[0;32m      2\u001b[0m \u001b[1;33m\u001b[0m\u001b[0m\n\u001b[1;32m----> 3\u001b[1;33m \u001b[0mzodi_header\u001b[0m\u001b[1;33m=\u001b[0m\u001b[0mHLC_header\u001b[0m\u001b[1;33m.\u001b[0m\u001b[0mcopy\u001b[0m\u001b[1;33m(\u001b[0m\u001b[1;33m)\u001b[0m\u001b[1;33m\u001b[0m\u001b[1;33m\u001b[0m\u001b[0m\n\u001b[0m\u001b[0;32m      4\u001b[0m \u001b[0mzodi_header\u001b[0m\u001b[1;33m[\u001b[0m\u001b[1;34m\"thresh\"\u001b[0m\u001b[1;33m]\u001b[0m\u001b[1;33m=\u001b[0m\u001b[0mthresh\u001b[0m\u001b[1;33m\u001b[0m\u001b[1;33m\u001b[0m\u001b[0m\n\u001b[0;32m      5\u001b[0m \u001b[1;33m\u001b[0m\u001b[0m\n",
      "\u001b[1;31mNameError\u001b[0m: name 'HLC_header' is not defined"
     ]
    }
   ],
   "source": [
    "im_name = zodi_path[:-4]+\"_HLC.fits\"\n",
    "\n",
    "zodi_header = HLC_header.copy()\n",
    "zodi_header[\"thresh\"] = thresh\n",
    "\n",
    "\n",
    "fits.writeto(im_name,im,overwrite=True,header=zodi_header) # fits.writeto(outfits,im,overwrite=True)\n",
    "\n",
    "zodi_name = zodi_path+\"_input.fits\"\n",
    "fits.writeto(zodi_name,zodi.filled(fill_value = 0),overwrite = True)"
   ]
  },
  {
   "cell_type": "code",
   "execution_count": 23,
   "metadata": {},
   "outputs": [
    {
     "ename": "NameError",
     "evalue": "name 'my_interpolating_function' is not defined",
     "output_type": "error",
     "traceback": [
      "\u001b[1;31m---------------------------------------------------------------------------\u001b[0m",
      "\u001b[1;31mNameError\u001b[0m                                 Traceback (most recent call last)",
      "\u001b[1;32m<ipython-input-23-28ff279b2155>\u001b[0m in \u001b[0;36m<module>\u001b[1;34m\u001b[0m\n\u001b[0;32m      6\u001b[0m \u001b[1;33m\u001b[0m\u001b[0m\n\u001b[0;32m      7\u001b[0m im,zodi = hlc_processing.fit_to_hlc(zodi_path,\n\u001b[1;32m----> 8\u001b[1;33m                                   \u001b[0mmy_interpolating_function\u001b[0m\u001b[1;33m,\u001b[0m\u001b[1;33m\u001b[0m\u001b[1;33m\u001b[0m\u001b[0m\n\u001b[0m\u001b[0;32m      9\u001b[0m                                   \u001b[0mxmas2\u001b[0m\u001b[1;33m,\u001b[0m\u001b[1;33m\u001b[0m\u001b[1;33m\u001b[0m\u001b[0m\n\u001b[0;32m     10\u001b[0m                                   \u001b[0mHLC_plate_scale\u001b[0m\u001b[1;33m,\u001b[0m\u001b[1;33m\u001b[0m\u001b[1;33m\u001b[0m\u001b[0m\n",
      "\u001b[1;31mNameError\u001b[0m: name 'my_interpolating_function' is not defined"
     ]
    }
   ],
   "source": [
    "zodi_fname = \"zodipic_03pc03mas.fits\"\n",
    "\n",
    "\n",
    "zodi_path = home + \"projects/WFIRST/data/zodipic/\" + zodi_fname\n",
    "\n",
    "\n",
    "im,zodi = hlc_processing.fit_to_hlc(zodi_path,\n",
    "                                  my_interpolating_function,\n",
    "                                  xmas2,\n",
    "                                  HLC_plate_scale,\n",
    "                                  thresh=thresh)\n",
    "\n",
    "im_name = zodi_path[:-4]+\"_HLC.fits\"\n",
    "\n",
    "zodi_header = HLC_header.copy()\n",
    "zodi_header[\"thresh\"] = thresh\n",
    "fits.writeto(im_name,im,overwrite=True,header=zodi_header) #    fits.writeto(outfits,im,overwrite=True)\n",
    "\n",
    "zodi_name = zodi_path+str(thresh)+\".fits\"\n",
    "fits.writeto(zodi_name,zodi.filled(fill_value=0),overwrite=True)\n",
    "\n",
    "\n",
    "\n",
    "\n"
   ]
  },
  {
   "cell_type": "code",
   "execution_count": 24,
   "metadata": {},
   "outputs": [
    {
     "ename": "NameError",
     "evalue": "name 'my_interpolating_function' is not defined",
     "output_type": "error",
     "traceback": [
      "\u001b[1;31m---------------------------------------------------------------------------\u001b[0m",
      "\u001b[1;31mNameError\u001b[0m                                 Traceback (most recent call last)",
      "\u001b[1;32m<ipython-input-24-34cd53361202>\u001b[0m in \u001b[0;36m<module>\u001b[1;34m\u001b[0m\n\u001b[0;32m      6\u001b[0m \u001b[1;33m\u001b[0m\u001b[0m\n\u001b[0;32m      7\u001b[0m im,zodi=hlc_processing.fit_to_hlc(zodi_file,\n\u001b[1;32m----> 8\u001b[1;33m                                   \u001b[0mmy_interpolating_function\u001b[0m\u001b[1;33m,\u001b[0m\u001b[1;33m\u001b[0m\u001b[1;33m\u001b[0m\u001b[0m\n\u001b[0m\u001b[0;32m      9\u001b[0m                                   \u001b[0mxmas2\u001b[0m\u001b[1;33m,\u001b[0m\u001b[1;33m\u001b[0m\u001b[1;33m\u001b[0m\u001b[0m\n\u001b[0;32m     10\u001b[0m                                   \u001b[0mHLC_plate_scale\u001b[0m\u001b[1;33m,\u001b[0m\u001b[1;33m\u001b[0m\u001b[1;33m\u001b[0m\u001b[0m\n",
      "\u001b[1;31mNameError\u001b[0m: name 'my_interpolating_function' is not defined"
     ]
    }
   ],
   "source": [
    "reload(hlc_processing)\n",
    "zodi_file = home+\"projects/WFIRST/data/zodipic/zodipic_10pc03mas.fits\"\n",
    "\n",
    "\n",
    "im,zodi = hlc_processing.fit_to_hlc(zodi_file,\n",
    "                                  my_interpolating_function,\n",
    "                                  xmas2,\n",
    "                                  HLC_plate_scale,\n",
    "                                  thresh=1e32)\n",
    "im_name = zodi_file+\"_HLC.fits\"\n",
    "fits.writeto(im_name,im,overwrite=True,header=fits.getheader(zodi_file) )#    fits.writeto(outfits,im,overwrite=True)\n"
   ]
  },
  {
   "cell_type": "code",
   "execution_count": 25,
   "metadata": {},
   "outputs": [
    {
     "ename": "NameError",
     "evalue": "name 'my_interpolating_function' is not defined",
     "output_type": "error",
     "traceback": [
      "\u001b[1;31m---------------------------------------------------------------------------\u001b[0m",
      "\u001b[1;31mNameError\u001b[0m                                 Traceback (most recent call last)",
      "\u001b[1;32m<ipython-input-25-4f44778359d6>\u001b[0m in \u001b[0;36m<module>\u001b[1;34m\u001b[0m\n\u001b[0;32m      6\u001b[0m \u001b[1;33m\u001b[0m\u001b[0m\n\u001b[0;32m      7\u001b[0m im,zodi=hlc_processing.fit_to_hlc(zodi_file,\n\u001b[1;32m----> 8\u001b[1;33m                                   \u001b[0mmy_interpolating_function\u001b[0m\u001b[1;33m,\u001b[0m\u001b[1;33m\u001b[0m\u001b[1;33m\u001b[0m\u001b[0m\n\u001b[0m\u001b[0;32m      9\u001b[0m                                   \u001b[0mxmas2\u001b[0m\u001b[1;33m,\u001b[0m\u001b[1;33m\u001b[0m\u001b[1;33m\u001b[0m\u001b[0m\n\u001b[0;32m     10\u001b[0m                                   \u001b[0mHLC_plate_scale\u001b[0m\u001b[1;33m,\u001b[0m\u001b[1;33m\u001b[0m\u001b[1;33m\u001b[0m\u001b[0m\n",
      "\u001b[1;31mNameError\u001b[0m: name 'my_interpolating_function' is not defined"
     ]
    }
   ],
   "source": [
    "reload(hlc_processing)\n",
    "zodi_file = home+\"projects/WFIRST/data/zodipic/zodipic_10pc03mas.fits\"\n",
    "\n",
    "\n",
    "im,zodi = hlc_processing.fit_to_hlc(zodi_file,\n",
    "                                  my_interpolating_function,\n",
    "                                  xmas2,\n",
    "                                  HLC_plate_scale,\n",
    "                                  core_mask_radius=core_mask_radius,\n",
    "                                  thresh = 1e32)\n",
    "im_name = zodi_file+\"_coremasked_HLC.fits\"\n",
    "fits.writeto(im_name, im, overwrite = True, header = fits.getheader(zodi_file)) # fits.writeto(outfits,im,overwrite=True)\n"
   ]
  },
  {
   "cell_type": "code",
   "execution_count": 26,
   "metadata": {},
   "outputs": [
    {
     "ename": "NameError",
     "evalue": "name 'my_interpolating_function' is not defined",
     "output_type": "error",
     "traceback": [
      "\u001b[1;31m---------------------------------------------------------------------------\u001b[0m",
      "\u001b[1;31mNameError\u001b[0m                                 Traceback (most recent call last)",
      "\u001b[1;32m<ipython-input-26-df7c8544bd82>\u001b[0m in \u001b[0;36m<module>\u001b[1;34m\u001b[0m\n\u001b[0;32m      4\u001b[0m \u001b[1;33m\u001b[0m\u001b[0m\n\u001b[0;32m      5\u001b[0m im,zodi=hlc_processing.fit_to_hlc(zodi_file,\n\u001b[1;32m----> 6\u001b[1;33m                                   \u001b[0mmy_interpolating_function\u001b[0m\u001b[1;33m,\u001b[0m\u001b[1;33m\u001b[0m\u001b[1;33m\u001b[0m\u001b[0m\n\u001b[0m\u001b[0;32m      7\u001b[0m                                   \u001b[0mxmas2\u001b[0m\u001b[1;33m,\u001b[0m\u001b[1;33m\u001b[0m\u001b[1;33m\u001b[0m\u001b[0m\n\u001b[0;32m      8\u001b[0m                                   \u001b[0mHLC_plate_scale\u001b[0m\u001b[1;33m,\u001b[0m\u001b[1;33m\u001b[0m\u001b[1;33m\u001b[0m\u001b[0m\n",
      "\u001b[1;31mNameError\u001b[0m: name 'my_interpolating_function' is not defined"
     ]
    }
   ],
   "source": [
    "reload(hlc_processing)\n",
    "zodi_file = home+\"projects/WFIRST/data/zodipic/zodipic_10pc03mas01alpha.fits\"\n",
    "\n",
    "\n",
    "im,zodi = hlc_processing.fit_to_hlc(zodi_file,\n",
    "                                  my_interpolating_function,\n",
    "                                  xmas2,\n",
    "                                  HLC_plate_scale,\n",
    "                                  thresh=thresh)\n",
    "im_name = zodi_file+\"_HLC\"+str(thresh)+\".fits\"\n",
    "fits.writeto(im_name, im, overwrite = True, header = fits.getheader(zodi_file)) # fits.writeto(outfits,im,overwrite=True)"
   ]
  },
  {
   "cell_type": "code",
   "execution_count": 27,
   "metadata": {
    "scrolled": true
   },
   "outputs": [
    {
     "ename": "NameError",
     "evalue": "name 'zodi' is not defined",
     "output_type": "error",
     "traceback": [
      "\u001b[1;31m---------------------------------------------------------------------------\u001b[0m",
      "\u001b[1;31mNameError\u001b[0m                                 Traceback (most recent call last)",
      "\u001b[1;32m<ipython-input-27-3d0eedbcfa65>\u001b[0m in \u001b[0;36m<module>\u001b[1;34m\u001b[0m\n\u001b[0;32m      1\u001b[0m \u001b[0mzodi_name\u001b[0m\u001b[1;33m=\u001b[0m\u001b[0mzodi_file\u001b[0m\u001b[1;33m+\u001b[0m\u001b[1;34m\"_HLC\"\u001b[0m\u001b[1;33m+\u001b[0m\u001b[0mstr\u001b[0m\u001b[1;33m(\u001b[0m\u001b[0mthresh\u001b[0m\u001b[1;33m)\u001b[0m\u001b[1;33m+\u001b[0m\u001b[1;34m\"_input.fits\"\u001b[0m\u001b[1;33m\u001b[0m\u001b[1;33m\u001b[0m\u001b[0m\n\u001b[1;32m----> 2\u001b[1;33m \u001b[0mfits\u001b[0m\u001b[1;33m.\u001b[0m\u001b[0mwriteto\u001b[0m\u001b[1;33m(\u001b[0m\u001b[0mzodi_name\u001b[0m\u001b[1;33m,\u001b[0m\u001b[0mzodi\u001b[0m\u001b[1;33m.\u001b[0m\u001b[0mfilled\u001b[0m\u001b[1;33m(\u001b[0m\u001b[0mfill_value\u001b[0m\u001b[1;33m=\u001b[0m\u001b[1;36m0\u001b[0m\u001b[1;33m)\u001b[0m\u001b[1;33m,\u001b[0m\u001b[0moverwrite\u001b[0m\u001b[1;33m=\u001b[0m\u001b[1;32mTrue\u001b[0m\u001b[1;33m)\u001b[0m\u001b[1;33m\u001b[0m\u001b[1;33m\u001b[0m\u001b[0m\n\u001b[0m\u001b[0;32m      3\u001b[0m \u001b[1;33m\u001b[0m\u001b[0m\n\u001b[0;32m      4\u001b[0m \u001b[1;33m\u001b[0m\u001b[0m\n\u001b[0;32m      5\u001b[0m im_m,zodi_m=hlc_processing.fit_to_hlc(zodi_file,\n",
      "\u001b[1;31mNameError\u001b[0m: name 'zodi' is not defined"
     ]
    }
   ],
   "source": [
    "zodi_name = zodi_file+\"_HLC\"+str(thresh)+\"_input.fits\"\n",
    "fits.writeto(zodi_name,zodi.filled(fill_value = 0), overwrite = True)\n",
    "\n",
    "\n",
    "im_m,zodi_m = hlc_processing.fit_to_hlc(zodi_file,\n",
    "                                      my_interpolating_function,\n",
    "                                      xmas2,\n",
    "                                      HLC_plate_scale,\n",
    "                                      thresh=thresh,mask_radius=mask_radius)\n",
    "\n",
    "im_m_name = zodi_file+\"_HLC\"+str(thresh)+\"_masked\"+str(mask_radius)+\".fits\"\n",
    "fits.writeto(im_m_name, im_m, overwrite = True, header = fits.getheader(zodi_file))"
   ]
  },
  {
   "cell_type": "code",
   "execution_count": 28,
   "metadata": {},
   "outputs": [
    {
     "ename": "NameError",
     "evalue": "name 'im_m_name' is not defined",
     "output_type": "error",
     "traceback": [
      "\u001b[1;31m---------------------------------------------------------------------------\u001b[0m",
      "\u001b[1;31mNameError\u001b[0m                                 Traceback (most recent call last)",
      "\u001b[1;32m<ipython-input-28-c23609a1fd34>\u001b[0m in \u001b[0;36m<module>\u001b[1;34m\u001b[0m\n\u001b[1;32m----> 1\u001b[1;33m \u001b[0mim_m\u001b[0m\u001b[1;33m=\u001b[0m\u001b[0mfits\u001b[0m\u001b[1;33m.\u001b[0m\u001b[0mgetdata\u001b[0m\u001b[1;33m(\u001b[0m\u001b[0mim_m_name\u001b[0m\u001b[1;33m)\u001b[0m\u001b[1;33m\u001b[0m\u001b[1;33m\u001b[0m\u001b[0m\n\u001b[0m\u001b[0;32m      2\u001b[0m \u001b[0mzodi_m\u001b[0m\u001b[1;33m=\u001b[0m\u001b[0mfits\u001b[0m\u001b[1;33m.\u001b[0m\u001b[0mgetdata\u001b[0m\u001b[1;33m(\u001b[0m\u001b[0mzodi_name\u001b[0m\u001b[1;33m)\u001b[0m\u001b[1;33m\u001b[0m\u001b[1;33m\u001b[0m\u001b[0m\n\u001b[0;32m      3\u001b[0m \u001b[1;33m\u001b[0m\u001b[0m\n\u001b[0;32m      4\u001b[0m \u001b[1;33m\u001b[0m\u001b[0m\n",
      "\u001b[1;31mNameError\u001b[0m: name 'im_m_name' is not defined"
     ]
    }
   ],
   "source": [
    "im_m = fits.getdata(im_m_name)\n",
    "zodi_m = fits.getdata(zodi_name)\n",
    "\n",
    "\n"
   ]
  },
  {
   "cell_type": "code",
   "execution_count": 29,
   "metadata": {
    "scrolled": false
   },
   "outputs": [
    {
     "ename": "FileNotFoundError",
     "evalue": "[Errno 2] No such file or directory: 'C:\\\\Users\\\\Kian/projects/WFIRST/data/zodipic/zodipic_10pc03mas01alpha.fits'",
     "output_type": "error",
     "traceback": [
      "\u001b[1;31m---------------------------------------------------------------------------\u001b[0m",
      "\u001b[1;31mFileNotFoundError\u001b[0m                         Traceback (most recent call last)",
      "\u001b[1;32m<ipython-input-29-e1bb8b1c1edb>\u001b[0m in \u001b[0;36m<module>\u001b[1;34m\u001b[0m\n\u001b[1;32m----> 1\u001b[1;33m \u001b[0mzodi_fits\u001b[0m\u001b[1;33m=\u001b[0m\u001b[0mfits\u001b[0m\u001b[1;33m.\u001b[0m\u001b[0mopen\u001b[0m\u001b[1;33m(\u001b[0m\u001b[0mzodi_file\u001b[0m\u001b[1;33m)\u001b[0m\u001b[1;33m\u001b[0m\u001b[1;33m\u001b[0m\u001b[0m\n\u001b[0m\u001b[0;32m      2\u001b[0m \u001b[0mzodi_pixscale\u001b[0m \u001b[1;33m=\u001b[0m \u001b[0mzodi_fits\u001b[0m\u001b[1;33m[\u001b[0m\u001b[1;36m0\u001b[0m\u001b[1;33m]\u001b[0m\u001b[1;33m.\u001b[0m\u001b[0mheader\u001b[0m\u001b[1;33m[\u001b[0m\u001b[1;34m\"PIXELSCL\"\u001b[0m\u001b[1;33m]\u001b[0m\u001b[1;33m*\u001b[0m\u001b[0mu\u001b[0m\u001b[1;33m.\u001b[0m\u001b[0marcsecond\u001b[0m\u001b[1;33m\u001b[0m\u001b[1;33m\u001b[0m\u001b[0m\n\u001b[0;32m      3\u001b[0m \u001b[1;33m\u001b[0m\u001b[0m\n\u001b[0;32m      4\u001b[0m \u001b[0mplt\u001b[0m\u001b[1;33m.\u001b[0m\u001b[0mfigure\u001b[0m\u001b[1;33m(\u001b[0m\u001b[0mfigsize\u001b[0m\u001b[1;33m=\u001b[0m\u001b[1;33m[\u001b[0m\u001b[1;36m6\u001b[0m\u001b[1;33m,\u001b[0m\u001b[1;36m9\u001b[0m\u001b[1;33m]\u001b[0m\u001b[1;33m)\u001b[0m\u001b[1;33m\u001b[0m\u001b[1;33m\u001b[0m\u001b[0m\n\u001b[0;32m      5\u001b[0m \u001b[1;33m\u001b[0m\u001b[0m\n",
      "\u001b[1;32m~\\Anaconda3\\lib\\site-packages\\astropy\\io\\fits\\hdu\\hdulist.py\u001b[0m in \u001b[0;36mfitsopen\u001b[1;34m(name, mode, memmap, save_backup, cache, lazy_load_hdus, **kwargs)\u001b[0m\n\u001b[0;32m    149\u001b[0m \u001b[1;33m\u001b[0m\u001b[0m\n\u001b[0;32m    150\u001b[0m     return HDUList.fromfile(name, mode, memmap, save_backup, cache,\n\u001b[1;32m--> 151\u001b[1;33m                             lazy_load_hdus, **kwargs)\n\u001b[0m\u001b[0;32m    152\u001b[0m \u001b[1;33m\u001b[0m\u001b[0m\n\u001b[0;32m    153\u001b[0m \u001b[1;33m\u001b[0m\u001b[0m\n",
      "\u001b[1;32m~\\Anaconda3\\lib\\site-packages\\astropy\\io\\fits\\hdu\\hdulist.py\u001b[0m in \u001b[0;36mfromfile\u001b[1;34m(cls, fileobj, mode, memmap, save_backup, cache, lazy_load_hdus, **kwargs)\u001b[0m\n\u001b[0;32m    388\u001b[0m         return cls._readfrom(fileobj=fileobj, mode=mode, memmap=memmap,\n\u001b[0;32m    389\u001b[0m                              \u001b[0msave_backup\u001b[0m\u001b[1;33m=\u001b[0m\u001b[0msave_backup\u001b[0m\u001b[1;33m,\u001b[0m \u001b[0mcache\u001b[0m\u001b[1;33m=\u001b[0m\u001b[0mcache\u001b[0m\u001b[1;33m,\u001b[0m\u001b[1;33m\u001b[0m\u001b[1;33m\u001b[0m\u001b[0m\n\u001b[1;32m--> 390\u001b[1;33m                              lazy_load_hdus=lazy_load_hdus, **kwargs)\n\u001b[0m\u001b[0;32m    391\u001b[0m \u001b[1;33m\u001b[0m\u001b[0m\n\u001b[0;32m    392\u001b[0m     \u001b[1;33m@\u001b[0m\u001b[0mclassmethod\u001b[0m\u001b[1;33m\u001b[0m\u001b[1;33m\u001b[0m\u001b[0m\n",
      "\u001b[1;32m~\\Anaconda3\\lib\\site-packages\\astropy\\io\\fits\\hdu\\hdulist.py\u001b[0m in \u001b[0;36m_readfrom\u001b[1;34m(cls, fileobj, data, mode, memmap, save_backup, cache, lazy_load_hdus, **kwargs)\u001b[0m\n\u001b[0;32m   1037\u001b[0m             \u001b[1;32mif\u001b[0m \u001b[1;32mnot\u001b[0m \u001b[0misinstance\u001b[0m\u001b[1;33m(\u001b[0m\u001b[0mfileobj\u001b[0m\u001b[1;33m,\u001b[0m \u001b[0m_File\u001b[0m\u001b[1;33m)\u001b[0m\u001b[1;33m:\u001b[0m\u001b[1;33m\u001b[0m\u001b[1;33m\u001b[0m\u001b[0m\n\u001b[0;32m   1038\u001b[0m                 \u001b[1;31m# instantiate a FITS file object (ffo)\u001b[0m\u001b[1;33m\u001b[0m\u001b[1;33m\u001b[0m\u001b[1;33m\u001b[0m\u001b[0m\n\u001b[1;32m-> 1039\u001b[1;33m                 \u001b[0mfileobj\u001b[0m \u001b[1;33m=\u001b[0m \u001b[0m_File\u001b[0m\u001b[1;33m(\u001b[0m\u001b[0mfileobj\u001b[0m\u001b[1;33m,\u001b[0m \u001b[0mmode\u001b[0m\u001b[1;33m=\u001b[0m\u001b[0mmode\u001b[0m\u001b[1;33m,\u001b[0m \u001b[0mmemmap\u001b[0m\u001b[1;33m=\u001b[0m\u001b[0mmemmap\u001b[0m\u001b[1;33m,\u001b[0m \u001b[0mcache\u001b[0m\u001b[1;33m=\u001b[0m\u001b[0mcache\u001b[0m\u001b[1;33m)\u001b[0m\u001b[1;33m\u001b[0m\u001b[1;33m\u001b[0m\u001b[0m\n\u001b[0m\u001b[0;32m   1040\u001b[0m             \u001b[1;31m# The Astropy mode is determined by the _File initializer if the\u001b[0m\u001b[1;33m\u001b[0m\u001b[1;33m\u001b[0m\u001b[1;33m\u001b[0m\u001b[0m\n\u001b[0;32m   1041\u001b[0m             \u001b[1;31m# supplied mode was None\u001b[0m\u001b[1;33m\u001b[0m\u001b[1;33m\u001b[0m\u001b[1;33m\u001b[0m\u001b[0m\n",
      "\u001b[1;32m~\\Anaconda3\\lib\\site-packages\\astropy\\utils\\decorators.py\u001b[0m in \u001b[0;36mwrapper\u001b[1;34m(*args, **kwargs)\u001b[0m\n\u001b[0;32m    519\u001b[0m                             \u001b[0mkwargs\u001b[0m\u001b[1;33m[\u001b[0m\u001b[0mnew_name\u001b[0m\u001b[1;33m[\u001b[0m\u001b[0mi\u001b[0m\u001b[1;33m]\u001b[0m\u001b[1;33m]\u001b[0m \u001b[1;33m=\u001b[0m \u001b[0mvalue\u001b[0m\u001b[1;33m\u001b[0m\u001b[1;33m\u001b[0m\u001b[0m\n\u001b[0;32m    520\u001b[0m \u001b[1;33m\u001b[0m\u001b[0m\n\u001b[1;32m--> 521\u001b[1;33m             \u001b[1;32mreturn\u001b[0m \u001b[0mfunction\u001b[0m\u001b[1;33m(\u001b[0m\u001b[1;33m*\u001b[0m\u001b[0margs\u001b[0m\u001b[1;33m,\u001b[0m \u001b[1;33m**\u001b[0m\u001b[0mkwargs\u001b[0m\u001b[1;33m)\u001b[0m\u001b[1;33m\u001b[0m\u001b[1;33m\u001b[0m\u001b[0m\n\u001b[0m\u001b[0;32m    522\u001b[0m \u001b[1;33m\u001b[0m\u001b[0m\n\u001b[0;32m    523\u001b[0m         \u001b[1;32mreturn\u001b[0m \u001b[0mwrapper\u001b[0m\u001b[1;33m\u001b[0m\u001b[1;33m\u001b[0m\u001b[0m\n",
      "\u001b[1;32m~\\Anaconda3\\lib\\site-packages\\astropy\\io\\fits\\file.py\u001b[0m in \u001b[0;36m__init__\u001b[1;34m(self, fileobj, mode, memmap, overwrite, cache)\u001b[0m\n\u001b[0;32m    176\u001b[0m             \u001b[0mself\u001b[0m\u001b[1;33m.\u001b[0m\u001b[0m_open_fileobj\u001b[0m\u001b[1;33m(\u001b[0m\u001b[0mfileobj\u001b[0m\u001b[1;33m,\u001b[0m \u001b[0mmode\u001b[0m\u001b[1;33m,\u001b[0m \u001b[0moverwrite\u001b[0m\u001b[1;33m)\u001b[0m\u001b[1;33m\u001b[0m\u001b[1;33m\u001b[0m\u001b[0m\n\u001b[0;32m    177\u001b[0m         \u001b[1;32melif\u001b[0m \u001b[0misinstance\u001b[0m\u001b[1;33m(\u001b[0m\u001b[0mfileobj\u001b[0m\u001b[1;33m,\u001b[0m \u001b[0mstr\u001b[0m\u001b[1;33m)\u001b[0m\u001b[1;33m:\u001b[0m\u001b[1;33m\u001b[0m\u001b[1;33m\u001b[0m\u001b[0m\n\u001b[1;32m--> 178\u001b[1;33m             \u001b[0mself\u001b[0m\u001b[1;33m.\u001b[0m\u001b[0m_open_filename\u001b[0m\u001b[1;33m(\u001b[0m\u001b[0mfileobj\u001b[0m\u001b[1;33m,\u001b[0m \u001b[0mmode\u001b[0m\u001b[1;33m,\u001b[0m \u001b[0moverwrite\u001b[0m\u001b[1;33m)\u001b[0m\u001b[1;33m\u001b[0m\u001b[1;33m\u001b[0m\u001b[0m\n\u001b[0m\u001b[0;32m    179\u001b[0m         \u001b[1;32melse\u001b[0m\u001b[1;33m:\u001b[0m\u001b[1;33m\u001b[0m\u001b[1;33m\u001b[0m\u001b[0m\n\u001b[0;32m    180\u001b[0m             \u001b[0mself\u001b[0m\u001b[1;33m.\u001b[0m\u001b[0m_open_filelike\u001b[0m\u001b[1;33m(\u001b[0m\u001b[0mfileobj\u001b[0m\u001b[1;33m,\u001b[0m \u001b[0mmode\u001b[0m\u001b[1;33m,\u001b[0m \u001b[0moverwrite\u001b[0m\u001b[1;33m)\u001b[0m\u001b[1;33m\u001b[0m\u001b[1;33m\u001b[0m\u001b[0m\n",
      "\u001b[1;32m~\\Anaconda3\\lib\\site-packages\\astropy\\io\\fits\\file.py\u001b[0m in \u001b[0;36m_open_filename\u001b[1;34m(self, filename, mode, overwrite)\u001b[0m\n\u001b[0;32m    553\u001b[0m \u001b[1;33m\u001b[0m\u001b[0m\n\u001b[0;32m    554\u001b[0m         \u001b[1;32mif\u001b[0m \u001b[1;32mnot\u001b[0m \u001b[0mself\u001b[0m\u001b[1;33m.\u001b[0m\u001b[0m_try_read_compressed\u001b[0m\u001b[1;33m(\u001b[0m\u001b[0mself\u001b[0m\u001b[1;33m.\u001b[0m\u001b[0mname\u001b[0m\u001b[1;33m,\u001b[0m \u001b[0mmagic\u001b[0m\u001b[1;33m,\u001b[0m \u001b[0mmode\u001b[0m\u001b[1;33m,\u001b[0m \u001b[0mext\u001b[0m\u001b[1;33m=\u001b[0m\u001b[0mext\u001b[0m\u001b[1;33m)\u001b[0m\u001b[1;33m:\u001b[0m\u001b[1;33m\u001b[0m\u001b[1;33m\u001b[0m\u001b[0m\n\u001b[1;32m--> 555\u001b[1;33m             \u001b[0mself\u001b[0m\u001b[1;33m.\u001b[0m\u001b[0m_file\u001b[0m \u001b[1;33m=\u001b[0m \u001b[0mfileobj_open\u001b[0m\u001b[1;33m(\u001b[0m\u001b[0mself\u001b[0m\u001b[1;33m.\u001b[0m\u001b[0mname\u001b[0m\u001b[1;33m,\u001b[0m \u001b[0mIO_FITS_MODES\u001b[0m\u001b[1;33m[\u001b[0m\u001b[0mmode\u001b[0m\u001b[1;33m]\u001b[0m\u001b[1;33m)\u001b[0m\u001b[1;33m\u001b[0m\u001b[1;33m\u001b[0m\u001b[0m\n\u001b[0m\u001b[0;32m    556\u001b[0m             \u001b[0mself\u001b[0m\u001b[1;33m.\u001b[0m\u001b[0mclose_on_error\u001b[0m \u001b[1;33m=\u001b[0m \u001b[1;32mTrue\u001b[0m\u001b[1;33m\u001b[0m\u001b[1;33m\u001b[0m\u001b[0m\n\u001b[0;32m    557\u001b[0m \u001b[1;33m\u001b[0m\u001b[0m\n",
      "\u001b[1;32m~\\Anaconda3\\lib\\site-packages\\astropy\\io\\fits\\util.py\u001b[0m in \u001b[0;36mfileobj_open\u001b[1;34m(filename, mode)\u001b[0m\n\u001b[0;32m    386\u001b[0m     \"\"\"\n\u001b[0;32m    387\u001b[0m \u001b[1;33m\u001b[0m\u001b[0m\n\u001b[1;32m--> 388\u001b[1;33m     \u001b[1;32mreturn\u001b[0m \u001b[0mopen\u001b[0m\u001b[1;33m(\u001b[0m\u001b[0mfilename\u001b[0m\u001b[1;33m,\u001b[0m \u001b[0mmode\u001b[0m\u001b[1;33m,\u001b[0m \u001b[0mbuffering\u001b[0m\u001b[1;33m=\u001b[0m\u001b[1;36m0\u001b[0m\u001b[1;33m)\u001b[0m\u001b[1;33m\u001b[0m\u001b[1;33m\u001b[0m\u001b[0m\n\u001b[0m\u001b[0;32m    389\u001b[0m \u001b[1;33m\u001b[0m\u001b[0m\n\u001b[0;32m    390\u001b[0m \u001b[1;33m\u001b[0m\u001b[0m\n",
      "\u001b[1;31mFileNotFoundError\u001b[0m: [Errno 2] No such file or directory: 'C:\\\\Users\\\\Kian/projects/WFIRST/data/zodipic/zodipic_10pc03mas01alpha.fits'"
     ]
    }
   ],
   "source": [
    "zodi_fits = fits.open(zodi_file)\n",
    "zodi_pixscale = zodi_fits[0].header[\"PIXELSCL\"]*u.arcsecond\n",
    "\n",
    "plt.figure(figsize=[6,9])\n",
    "\n",
    "x_hlc,y_hlc = np.meshgrid(np.arange(-n/2,n/2),np.arange(-n/2,n/2))\n",
    "x_hlc = (x_hlc+.5).flatten()*HLC_plate_scale\n",
    "y_hlc = (y_hlc+.5).flatten()*HLC_plate_scale\n",
    "halfpix_hlc = HLC_plate_scale.to(u.arcsec).value*0.5\n",
    "halfpix = zodi_pixscale.to(u.arcsec).value*0.5\n",
    "\n",
    "\n",
    "\n",
    "HLC_extent = ([x_hlc.min().to(u.arcsec).value-halfpix,\n",
    "           x_hlc.max().to(u.arcsec).value+halfpix, \n",
    "           y_hlc.min().to(u.arcsec).value-halfpix,\n",
    "            y_hlc.max().to(u.arcsec).value+halfpix])\n",
    "\n",
    "\n",
    "fov=.4\n",
    "pixnum = np.int(zodi_m.shape[0])\n",
    "x,y = np.meshgrid(np.arange(-pixnum/2,pixnum/2),np.arange(-pixnum/2,pixnum/2))\n",
    "x = (x+.5).flatten()*zodi_pixscale\n",
    "y = (y+.5).flatten()*zodi_pixscale\n",
    "\n",
    "\n",
    "zodi_extent = ([x.min().to(u.arcsec).value-halfpix,\n",
    "           x.max().to(u.arcsec).value+halfpix, \n",
    "           y.min().to(u.arcsec).value-halfpix,\n",
    "            y.max().to(u.arcsec).value+halfpix])\n",
    "\n",
    "plt.subplot(311)\n",
    "plt.title(\"Input\")\n",
    "plt.imshow(zodi_m,norm=LogNorm(),extent=zodi_extent)\n",
    "plt.xlim([-fov,fov])\n",
    "plt.ylim([-fov,fov])\n",
    "\n",
    "plt.colorbar()\n",
    "plt.subplot(312)\n",
    "\n",
    "plt.xlim([-fov,fov])\n",
    "plt.ylim([-fov,fov])\n",
    "plt.title(\"Unmasked PSF\")\n",
    "\n",
    "plt.imshow(im,interpolation=\"nearest\",norm=LogNorm(),extent=HLC_extent,vmin=1e-15)\n",
    "\n",
    "\n",
    "\n",
    "plt.xlim([-fov,fov])\n",
    "plt.ylim([-fov,fov])\n",
    "\n",
    "\n",
    "plt.colorbar()\n",
    "plt.subplot(313)\n",
    "\n",
    "plt.title(\"Masked PSF\")\n",
    "plt.xlim([-fov,fov])\n",
    "plt.ylim([-fov,fov])\n",
    "\n",
    "plt.imshow(im_m,interpolation=\"nearest\",norm=LogNorm(),extent=HLC_extent,vmin=1e-15)\n",
    "\n",
    "\n",
    "\n",
    "\n",
    "\n",
    "\n",
    "plt.colorbar()\n",
    "\n",
    "\n",
    "plt.tight_layout()\n",
    "plt.savefig(zodi_file+\"_input_outputs\"+str(mask_radius)+\"_mask.pdf\",bbox_inches=\"tight\")\n",
    "\n",
    "plt.show()\n"
   ]
  },
  {
   "cell_type": "code",
   "execution_count": 30,
   "metadata": {},
   "outputs": [
    {
     "ename": "NameError",
     "evalue": "name 'my_interpolating_function' is not defined",
     "output_type": "error",
     "traceback": [
      "\u001b[1;31m---------------------------------------------------------------------------\u001b[0m",
      "\u001b[1;31mNameError\u001b[0m                                 Traceback (most recent call last)",
      "\u001b[1;32m<ipython-input-30-639e8bbc6bb1>\u001b[0m in \u001b[0;36m<module>\u001b[1;34m\u001b[0m\n\u001b[0;32m      5\u001b[0m planet1=hlc_processing.closest_monochrome_PSF(100*u.milliarcsecond,\n\u001b[0;32m      6\u001b[0m                                \u001b[1;36m0\u001b[0m\u001b[1;33m*\u001b[0m\u001b[0mu\u001b[0m\u001b[1;33m.\u001b[0m\u001b[0mmilliarcsecond\u001b[0m\u001b[1;33m,\u001b[0m\u001b[1;33m\u001b[0m\u001b[1;33m\u001b[0m\u001b[0m\n\u001b[1;32m----> 7\u001b[1;33m                                \u001b[0mmy_interpolating_function\u001b[0m\u001b[1;33m,\u001b[0m\u001b[0mxmas2\u001b[0m\u001b[1;33m,\u001b[0m\u001b[1;33m\u001b[0m\u001b[1;33m\u001b[0m\u001b[0m\n\u001b[0m\u001b[0;32m      8\u001b[0m                                \u001b[0mHLC_plate_scale\u001b[0m\u001b[1;33m,\u001b[0m\u001b[1;33m\u001b[0m\u001b[1;33m\u001b[0m\u001b[0m\n\u001b[0;32m      9\u001b[0m                               mask_radius=mask_radius) \n",
      "\u001b[1;31mNameError\u001b[0m: name 'my_interpolating_function' is not defined"
     ]
    },
    {
     "data": {
      "image/png": "[encoded data removed]",
      "text/plain": [
       "<Figure size 1008x432 with 1 Axes>"
      ]
     },
     "metadata": {
      "needs_background": "light"
     },
     "output_type": "display_data"
    }
   ],
   "source": [
    "#check that coordinates match expectation.\n",
    "plt.figure(figsize=[7*2,3*2])\n",
    "\n",
    "plt.subplot(121)\n",
    "planet1=hlc_processing.closest_monochrome_PSF(100*u.milliarcsecond,\n",
    "                               0*u.milliarcsecond,\n",
    "                               my_interpolating_function,xmas2,\n",
    "                               HLC_plate_scale,\n",
    "                              mask_radius=mask_radius) \n",
    "planet2=hlc_processing.closest_monochrome_PSF(0*u.milliarcsecond,-40*u.milliarcsecond,\n",
    "                               my_interpolating_function,\n",
    "                               xmas2,\n",
    "                               HLC_plate_scale,\n",
    "                               mask_radius=mask_radius)\n",
    "planet3=hlc_processing.closest_monochrome_PSF(-200*u.milliarcsecond,200*u.milliarcsecond,\n",
    "                               my_interpolating_function,\n",
    "                               xmas2,\n",
    "                               HLC_plate_scale,\n",
    "                               mask_radius=mask_radius)\n",
    "#plt.figure(figsize=[6,4])\n",
    "plt.imshow(np.array(planet1/planet1.max()+planet2/planet2.max()+planet3/planet3.max()),\n",
    "          cmap=plt.cm.plasma,interpolation=\"nearest\",extent=HLC_extent)#,vmin=-8)\n",
    "plt.grid()\n",
    "\n",
    "\n",
    "plt.colorbar()\n",
    "\n",
    "plt.subplot(122)\n",
    "planet1=hlc_processing.closest_monochrome_PSF(100*u.milliarcsecond,\n",
    "                               0*u.milliarcsecond,\n",
    "                               my_interpolating_function,\n",
    "                                              xmas2,\n",
    "                                              HLC_plate_scale,\n",
    "                              )#mask_radius=mask_radius) \n",
    "planet2=hlc_processing.closest_monochrome_PSF(0*u.milliarcsecond,-40*u.milliarcsecond,\n",
    "                               my_interpolating_function,\n",
    "                               xmas2,HLC_plate_scale,)#,mask_radius=mask_radius)\n",
    "planet3=hlc_processing.closest_monochrome_PSF(-200*u.milliarcsecond,200*u.milliarcsecond,\n",
    "                               my_interpolating_function,\n",
    "                               xmas2,\n",
    "                                              HLC_plate_scale,)#,mask_radius=mask_radius)\n",
    "plt.imshow(np.array(planet1/planet1.max()+planet2/planet2.max()+planet3/planet3.max()),\n",
    "          cmap=plt.cm.plasma,interpolation=\"nearest\",extent=HLC_extent)#,vmin=-8)\n",
    "plt.colorbar()\n",
    "plt.grid()\n",
    "plt.savefig(\"normalized_psfs\"+str(mask_radius)+\"_mask.pdf\",bbox_inches=\"tight\")\n",
    "plt.show()"
   ]
  },
  {
   "cell_type": "code",
   "execution_count": 31,
   "metadata": {
    "scrolled": false
   },
   "outputs": [
    {
     "ename": "NameError",
     "evalue": "name 'im' is not defined",
     "output_type": "error",
     "traceback": [
      "\u001b[1;31m---------------------------------------------------------------------------\u001b[0m",
      "\u001b[1;31mNameError\u001b[0m                                 Traceback (most recent call last)",
      "\u001b[1;32m<ipython-input-31-e0b0db34f52d>\u001b[0m in \u001b[0;36m<module>\u001b[1;34m\u001b[0m\n\u001b[0;32m      2\u001b[0m \u001b[0mplt\u001b[0m\u001b[1;33m.\u001b[0m\u001b[0mfigure\u001b[0m\u001b[1;33m(\u001b[0m\u001b[0mfigsize\u001b[0m\u001b[1;33m=\u001b[0m\u001b[1;33m[\u001b[0m\u001b[1;36m9\u001b[0m\u001b[1;33m,\u001b[0m\u001b[1;36m4\u001b[0m\u001b[1;33m]\u001b[0m\u001b[1;33m)\u001b[0m\u001b[1;33m\u001b[0m\u001b[1;33m\u001b[0m\u001b[0m\n\u001b[0;32m      3\u001b[0m \u001b[0mplt\u001b[0m\u001b[1;33m.\u001b[0m\u001b[0msubplot\u001b[0m\u001b[1;33m(\u001b[0m\u001b[1;36m121\u001b[0m\u001b[1;33m)\u001b[0m\u001b[1;33m\u001b[0m\u001b[1;33m\u001b[0m\u001b[0m\n\u001b[1;32m----> 4\u001b[1;33m \u001b[0mratio\u001b[0m\u001b[1;33m=\u001b[0m\u001b[0mim\u001b[0m\u001b[1;33m/\u001b[0m\u001b[0mim_m\u001b[0m\u001b[1;33m\u001b[0m\u001b[1;33m\u001b[0m\u001b[0m\n\u001b[0m\u001b[0;32m      5\u001b[0m \u001b[1;31m#ratio.mask=zodi_m\u001b[0m\u001b[1;33m\u001b[0m\u001b[1;33m\u001b[0m\u001b[1;33m\u001b[0m\u001b[0m\n\u001b[0;32m      6\u001b[0m plt.imshow(ratio,extent=HLC_extent,interpolation=\"nearest\",\n",
      "\u001b[1;31mNameError\u001b[0m: name 'im' is not defined"
     ]
    },
    {
     "data": {
      "image/png": "[encoded data removed]",
      "text/plain": [
       "<Figure size 648x288 with 1 Axes>"
      ]
     },
     "metadata": {
      "needs_background": "light"
     },
     "output_type": "display_data"
    }
   ],
   "source": [
    "#plot ratio map and radial curve\n",
    "plt.figure(figsize=[9,4])\n",
    "plt.subplot(121)\n",
    "ratio=im/im_m\n",
    "#ratio.mask=zodi_m\n",
    "plt.imshow(ratio,extent=HLC_extent,interpolation=\"nearest\",\n",
    "           vmin=0,vmax=10,#norm=LogNorm(),\n",
    "           cmap=plt.cm.magma)\n",
    "plt.colorbar()#orientation=\"horizontal\")\n",
    "plt.xlim([-fov,fov])\n",
    "plt.ylim([-fov,fov])\n",
    "\n",
    "\n",
    "plt.subplot(122)\n",
    "plt.plot(x_hlc[0:200],ratio[:,100])\n",
    "#plt.yscale(\"log\")\n",
    "plt.xlim([0,.3])\n",
    "plt.ylim([0,10])\n",
    "plt.xlabel(\"$\\prime\\prime$\")\n",
    "fits.writeto(im_m_name+\"ratio.fits\",ratio,zodi_fits[0].header,overwrite=True)\n",
    "plt.savefig(im_m_name+\"ratio.pdf\",bbox_inches=\"tight\")\n",
    "plt.show()\n"
   ]
  },
  {
   "cell_type": "code",
   "execution_count": 32,
   "metadata": {
    "scrolled": false
   },
   "outputs": [
    {
     "ename": "FileNotFoundError",
     "evalue": "[Errno 2] No such file or directory: 'C:\\\\Users\\\\Kian/projects/WFIRST/data/zodipic/zodipic_10pc03mas01alpha.fits'",
     "output_type": "error",
     "traceback": [
      "\u001b[1;31m---------------------------------------------------------------------------\u001b[0m",
      "\u001b[1;31mFileNotFoundError\u001b[0m                         Traceback (most recent call last)",
      "\u001b[1;32m<ipython-input-32-8fb03a64d168>\u001b[0m in \u001b[0;36m<module>\u001b[1;34m\u001b[0m\n\u001b[0;32m      1\u001b[0m \u001b[1;33m\u001b[0m\u001b[0m\n\u001b[1;32m----> 2\u001b[1;33m \u001b[0mzodi\u001b[0m\u001b[1;33m=\u001b[0m \u001b[0mfits\u001b[0m\u001b[1;33m.\u001b[0m\u001b[0mopen\u001b[0m\u001b[1;33m(\u001b[0m\u001b[0mzodi_file\u001b[0m\u001b[1;33m)\u001b[0m\u001b[1;33m[\u001b[0m\u001b[1;36m0\u001b[0m\u001b[1;33m]\u001b[0m\u001b[1;33m\u001b[0m\u001b[1;33m\u001b[0m\u001b[0m\n\u001b[0m\u001b[0;32m      3\u001b[0m \u001b[1;33m\u001b[0m\u001b[0m\n\u001b[0;32m      4\u001b[0m \u001b[0mplt\u001b[0m\u001b[1;33m.\u001b[0m\u001b[0mfigure\u001b[0m\u001b[1;33m(\u001b[0m\u001b[0mfigsize\u001b[0m\u001b[1;33m=\u001b[0m\u001b[1;33m[\u001b[0m\u001b[1;36m8\u001b[0m\u001b[1;33m,\u001b[0m\u001b[1;36m8\u001b[0m\u001b[1;33m]\u001b[0m\u001b[1;33m)\u001b[0m\u001b[1;33m\u001b[0m\u001b[1;33m\u001b[0m\u001b[0m\n\u001b[0;32m      5\u001b[0m \u001b[1;33m\u001b[0m\u001b[0m\n",
      "\u001b[1;32m~\\Anaconda3\\lib\\site-packages\\astropy\\io\\fits\\hdu\\hdulist.py\u001b[0m in \u001b[0;36mfitsopen\u001b[1;34m(name, mode, memmap, save_backup, cache, lazy_load_hdus, **kwargs)\u001b[0m\n\u001b[0;32m    149\u001b[0m \u001b[1;33m\u001b[0m\u001b[0m\n\u001b[0;32m    150\u001b[0m     return HDUList.fromfile(name, mode, memmap, save_backup, cache,\n\u001b[1;32m--> 151\u001b[1;33m                             lazy_load_hdus, **kwargs)\n\u001b[0m\u001b[0;32m    152\u001b[0m \u001b[1;33m\u001b[0m\u001b[0m\n\u001b[0;32m    153\u001b[0m \u001b[1;33m\u001b[0m\u001b[0m\n",
      "\u001b[1;32m~\\Anaconda3\\lib\\site-packages\\astropy\\io\\fits\\hdu\\hdulist.py\u001b[0m in \u001b[0;36mfromfile\u001b[1;34m(cls, fileobj, mode, memmap, save_backup, cache, lazy_load_hdus, **kwargs)\u001b[0m\n\u001b[0;32m    388\u001b[0m         return cls._readfrom(fileobj=fileobj, mode=mode, memmap=memmap,\n\u001b[0;32m    389\u001b[0m                              \u001b[0msave_backup\u001b[0m\u001b[1;33m=\u001b[0m\u001b[0msave_backup\u001b[0m\u001b[1;33m,\u001b[0m \u001b[0mcache\u001b[0m\u001b[1;33m=\u001b[0m\u001b[0mcache\u001b[0m\u001b[1;33m,\u001b[0m\u001b[1;33m\u001b[0m\u001b[1;33m\u001b[0m\u001b[0m\n\u001b[1;32m--> 390\u001b[1;33m                              lazy_load_hdus=lazy_load_hdus, **kwargs)\n\u001b[0m\u001b[0;32m    391\u001b[0m \u001b[1;33m\u001b[0m\u001b[0m\n\u001b[0;32m    392\u001b[0m     \u001b[1;33m@\u001b[0m\u001b[0mclassmethod\u001b[0m\u001b[1;33m\u001b[0m\u001b[1;33m\u001b[0m\u001b[0m\n",
      "\u001b[1;32m~\\Anaconda3\\lib\\site-packages\\astropy\\io\\fits\\hdu\\hdulist.py\u001b[0m in \u001b[0;36m_readfrom\u001b[1;34m(cls, fileobj, data, mode, memmap, save_backup, cache, lazy_load_hdus, **kwargs)\u001b[0m\n\u001b[0;32m   1037\u001b[0m             \u001b[1;32mif\u001b[0m \u001b[1;32mnot\u001b[0m \u001b[0misinstance\u001b[0m\u001b[1;33m(\u001b[0m\u001b[0mfileobj\u001b[0m\u001b[1;33m,\u001b[0m \u001b[0m_File\u001b[0m\u001b[1;33m)\u001b[0m\u001b[1;33m:\u001b[0m\u001b[1;33m\u001b[0m\u001b[1;33m\u001b[0m\u001b[0m\n\u001b[0;32m   1038\u001b[0m                 \u001b[1;31m# instantiate a FITS file object (ffo)\u001b[0m\u001b[1;33m\u001b[0m\u001b[1;33m\u001b[0m\u001b[1;33m\u001b[0m\u001b[0m\n\u001b[1;32m-> 1039\u001b[1;33m                 \u001b[0mfileobj\u001b[0m \u001b[1;33m=\u001b[0m \u001b[0m_File\u001b[0m\u001b[1;33m(\u001b[0m\u001b[0mfileobj\u001b[0m\u001b[1;33m,\u001b[0m \u001b[0mmode\u001b[0m\u001b[1;33m=\u001b[0m\u001b[0mmode\u001b[0m\u001b[1;33m,\u001b[0m \u001b[0mmemmap\u001b[0m\u001b[1;33m=\u001b[0m\u001b[0mmemmap\u001b[0m\u001b[1;33m,\u001b[0m \u001b[0mcache\u001b[0m\u001b[1;33m=\u001b[0m\u001b[0mcache\u001b[0m\u001b[1;33m)\u001b[0m\u001b[1;33m\u001b[0m\u001b[1;33m\u001b[0m\u001b[0m\n\u001b[0m\u001b[0;32m   1040\u001b[0m             \u001b[1;31m# The Astropy mode is determined by the _File initializer if the\u001b[0m\u001b[1;33m\u001b[0m\u001b[1;33m\u001b[0m\u001b[1;33m\u001b[0m\u001b[0m\n\u001b[0;32m   1041\u001b[0m             \u001b[1;31m# supplied mode was None\u001b[0m\u001b[1;33m\u001b[0m\u001b[1;33m\u001b[0m\u001b[1;33m\u001b[0m\u001b[0m\n",
      "\u001b[1;32m~\\Anaconda3\\lib\\site-packages\\astropy\\utils\\decorators.py\u001b[0m in \u001b[0;36mwrapper\u001b[1;34m(*args, **kwargs)\u001b[0m\n\u001b[0;32m    519\u001b[0m                             \u001b[0mkwargs\u001b[0m\u001b[1;33m[\u001b[0m\u001b[0mnew_name\u001b[0m\u001b[1;33m[\u001b[0m\u001b[0mi\u001b[0m\u001b[1;33m]\u001b[0m\u001b[1;33m]\u001b[0m \u001b[1;33m=\u001b[0m \u001b[0mvalue\u001b[0m\u001b[1;33m\u001b[0m\u001b[1;33m\u001b[0m\u001b[0m\n\u001b[0;32m    520\u001b[0m \u001b[1;33m\u001b[0m\u001b[0m\n\u001b[1;32m--> 521\u001b[1;33m             \u001b[1;32mreturn\u001b[0m \u001b[0mfunction\u001b[0m\u001b[1;33m(\u001b[0m\u001b[1;33m*\u001b[0m\u001b[0margs\u001b[0m\u001b[1;33m,\u001b[0m \u001b[1;33m**\u001b[0m\u001b[0mkwargs\u001b[0m\u001b[1;33m)\u001b[0m\u001b[1;33m\u001b[0m\u001b[1;33m\u001b[0m\u001b[0m\n\u001b[0m\u001b[0;32m    522\u001b[0m \u001b[1;33m\u001b[0m\u001b[0m\n\u001b[0;32m    523\u001b[0m         \u001b[1;32mreturn\u001b[0m \u001b[0mwrapper\u001b[0m\u001b[1;33m\u001b[0m\u001b[1;33m\u001b[0m\u001b[0m\n",
      "\u001b[1;32m~\\Anaconda3\\lib\\site-packages\\astropy\\io\\fits\\file.py\u001b[0m in \u001b[0;36m__init__\u001b[1;34m(self, fileobj, mode, memmap, overwrite, cache)\u001b[0m\n\u001b[0;32m    176\u001b[0m             \u001b[0mself\u001b[0m\u001b[1;33m.\u001b[0m\u001b[0m_open_fileobj\u001b[0m\u001b[1;33m(\u001b[0m\u001b[0mfileobj\u001b[0m\u001b[1;33m,\u001b[0m \u001b[0mmode\u001b[0m\u001b[1;33m,\u001b[0m \u001b[0moverwrite\u001b[0m\u001b[1;33m)\u001b[0m\u001b[1;33m\u001b[0m\u001b[1;33m\u001b[0m\u001b[0m\n\u001b[0;32m    177\u001b[0m         \u001b[1;32melif\u001b[0m \u001b[0misinstance\u001b[0m\u001b[1;33m(\u001b[0m\u001b[0mfileobj\u001b[0m\u001b[1;33m,\u001b[0m \u001b[0mstr\u001b[0m\u001b[1;33m)\u001b[0m\u001b[1;33m:\u001b[0m\u001b[1;33m\u001b[0m\u001b[1;33m\u001b[0m\u001b[0m\n\u001b[1;32m--> 178\u001b[1;33m             \u001b[0mself\u001b[0m\u001b[1;33m.\u001b[0m\u001b[0m_open_filename\u001b[0m\u001b[1;33m(\u001b[0m\u001b[0mfileobj\u001b[0m\u001b[1;33m,\u001b[0m \u001b[0mmode\u001b[0m\u001b[1;33m,\u001b[0m \u001b[0moverwrite\u001b[0m\u001b[1;33m)\u001b[0m\u001b[1;33m\u001b[0m\u001b[1;33m\u001b[0m\u001b[0m\n\u001b[0m\u001b[0;32m    179\u001b[0m         \u001b[1;32melse\u001b[0m\u001b[1;33m:\u001b[0m\u001b[1;33m\u001b[0m\u001b[1;33m\u001b[0m\u001b[0m\n\u001b[0;32m    180\u001b[0m             \u001b[0mself\u001b[0m\u001b[1;33m.\u001b[0m\u001b[0m_open_filelike\u001b[0m\u001b[1;33m(\u001b[0m\u001b[0mfileobj\u001b[0m\u001b[1;33m,\u001b[0m \u001b[0mmode\u001b[0m\u001b[1;33m,\u001b[0m \u001b[0moverwrite\u001b[0m\u001b[1;33m)\u001b[0m\u001b[1;33m\u001b[0m\u001b[1;33m\u001b[0m\u001b[0m\n",
      "\u001b[1;32m~\\Anaconda3\\lib\\site-packages\\astropy\\io\\fits\\file.py\u001b[0m in \u001b[0;36m_open_filename\u001b[1;34m(self, filename, mode, overwrite)\u001b[0m\n\u001b[0;32m    553\u001b[0m \u001b[1;33m\u001b[0m\u001b[0m\n\u001b[0;32m    554\u001b[0m         \u001b[1;32mif\u001b[0m \u001b[1;32mnot\u001b[0m \u001b[0mself\u001b[0m\u001b[1;33m.\u001b[0m\u001b[0m_try_read_compressed\u001b[0m\u001b[1;33m(\u001b[0m\u001b[0mself\u001b[0m\u001b[1;33m.\u001b[0m\u001b[0mname\u001b[0m\u001b[1;33m,\u001b[0m \u001b[0mmagic\u001b[0m\u001b[1;33m,\u001b[0m \u001b[0mmode\u001b[0m\u001b[1;33m,\u001b[0m \u001b[0mext\u001b[0m\u001b[1;33m=\u001b[0m\u001b[0mext\u001b[0m\u001b[1;33m)\u001b[0m\u001b[1;33m:\u001b[0m\u001b[1;33m\u001b[0m\u001b[1;33m\u001b[0m\u001b[0m\n\u001b[1;32m--> 555\u001b[1;33m             \u001b[0mself\u001b[0m\u001b[1;33m.\u001b[0m\u001b[0m_file\u001b[0m \u001b[1;33m=\u001b[0m \u001b[0mfileobj_open\u001b[0m\u001b[1;33m(\u001b[0m\u001b[0mself\u001b[0m\u001b[1;33m.\u001b[0m\u001b[0mname\u001b[0m\u001b[1;33m,\u001b[0m \u001b[0mIO_FITS_MODES\u001b[0m\u001b[1;33m[\u001b[0m\u001b[0mmode\u001b[0m\u001b[1;33m]\u001b[0m\u001b[1;33m)\u001b[0m\u001b[1;33m\u001b[0m\u001b[1;33m\u001b[0m\u001b[0m\n\u001b[0m\u001b[0;32m    556\u001b[0m             \u001b[0mself\u001b[0m\u001b[1;33m.\u001b[0m\u001b[0mclose_on_error\u001b[0m \u001b[1;33m=\u001b[0m \u001b[1;32mTrue\u001b[0m\u001b[1;33m\u001b[0m\u001b[1;33m\u001b[0m\u001b[0m\n\u001b[0;32m    557\u001b[0m \u001b[1;33m\u001b[0m\u001b[0m\n",
      "\u001b[1;32m~\\Anaconda3\\lib\\site-packages\\astropy\\io\\fits\\util.py\u001b[0m in \u001b[0;36mfileobj_open\u001b[1;34m(filename, mode)\u001b[0m\n\u001b[0;32m    386\u001b[0m     \"\"\"\n\u001b[0;32m    387\u001b[0m \u001b[1;33m\u001b[0m\u001b[0m\n\u001b[1;32m--> 388\u001b[1;33m     \u001b[1;32mreturn\u001b[0m \u001b[0mopen\u001b[0m\u001b[1;33m(\u001b[0m\u001b[0mfilename\u001b[0m\u001b[1;33m,\u001b[0m \u001b[0mmode\u001b[0m\u001b[1;33m,\u001b[0m \u001b[0mbuffering\u001b[0m\u001b[1;33m=\u001b[0m\u001b[1;36m0\u001b[0m\u001b[1;33m)\u001b[0m\u001b[1;33m\u001b[0m\u001b[1;33m\u001b[0m\u001b[0m\n\u001b[0m\u001b[0;32m    389\u001b[0m \u001b[1;33m\u001b[0m\u001b[0m\n\u001b[0;32m    390\u001b[0m \u001b[1;33m\u001b[0m\u001b[0m\n",
      "\u001b[1;31mFileNotFoundError\u001b[0m: [Errno 2] No such file or directory: 'C:\\\\Users\\\\Kian/projects/WFIRST/data/zodipic/zodipic_10pc03mas01alpha.fits'"
     ]
    }
   ],
   "source": [
    "zodi = fits.open(zodi_file)[0]\n",
    "\n",
    "plt.figure(figsize=[8,8])\n",
    "\n",
    "plt.subplot(221)\n",
    "plt.imshow(zodi.data,norm=LogNorm(),extent=zodi_extent,)\n",
    "plt.colorbar()\n",
    "\n",
    "plt.ylabel(\"$\\prime\\prime$\")\n",
    "\n",
    "plt.xlim([-.25,.25])\n",
    "plt.ylim([-.25,.25])\n",
    "\n",
    "plt.title(\"Zodipic\")\n",
    "\n",
    "plt.subplot(222)\n",
    "\n",
    "plt.imshow(zodi.data,extent=zodi_extent)#,norm=LogNorm(zodi.data[zodi>0].min(),zodi.data.max()))#zodi.data.min(),zodi.data.max))\n",
    "plt.colorbar()\n",
    "plt.title(\"Zodipic core\")\n",
    "plt.xlim([-.05,.05])\n",
    "plt.ylim([-.05,.05])\n",
    "\n",
    "\n",
    "#ax.set_yscale(\"log\")\n",
    "#plt.colorbar()\n",
    "\n",
    "plt.subplot(223)\n",
    "plt.title(\"Zodipic Included Flux\")\n",
    "plt.xlim([-.25,.25])\n",
    "plt.ylim([-.25,.25])\n",
    "plt.ylabel(\"$\\prime\\prime$\")\n",
    "\n",
    "plt.xlabel(\"$\\prime\\prime$\")\n",
    "\n",
    "plt.grid()\n",
    "\n",
    "plt.imshow(zodi.data,extent=zodi_extent,norm=LogNorm(zodi.data[zodi.data>0].min(),zodi.data.max()))#zodi.data.min(),zodi.data.max))\n",
    "plt.colorbar()\n",
    "plt.subplot(224)\n",
    "\n",
    "plt.imshow(im,extent=HLC_extent)\n",
    "plt.colorbar()\n",
    "plt.title(\"HLC Image of Included Flux\")\n",
    "\n",
    "plt.xlim([-.25,.25])\n",
    "plt.ylim([-.25,.25])\n",
    "\n",
    "plt.grid()\n",
    "plt.xlabel(\"$\\prime\\prime$\")\n",
    "\n",
    "plt.tight_layout()\n",
    "plt.show()\n",
    "\n",
    "plt.savefig(\"Zodipic_HLC_1_5mas.png\")"
   ]
  },
  {
   "cell_type": "code",
   "execution_count": 33,
   "metadata": {},
   "outputs": [
    {
     "ename": "NameError",
     "evalue": "name 'im' is not defined",
     "output_type": "error",
     "traceback": [
      "\u001b[1;31m---------------------------------------------------------------------------\u001b[0m",
      "\u001b[1;31mNameError\u001b[0m                                 Traceback (most recent call last)",
      "\u001b[1;32m<ipython-input-33-c277697f5553>\u001b[0m in \u001b[0;36m<module>\u001b[1;34m\u001b[0m\n\u001b[0;32m      1\u001b[0m \u001b[1;33m\u001b[0m\u001b[0m\n\u001b[1;32m----> 2\u001b[1;33m \u001b[0mplt\u001b[0m\u001b[1;33m.\u001b[0m\u001b[0mimshow\u001b[0m\u001b[1;33m(\u001b[0m\u001b[0mim\u001b[0m\u001b[1;33m,\u001b[0m\u001b[0mnorm\u001b[0m\u001b[1;33m=\u001b[0m\u001b[0mLogNorm\u001b[0m\u001b[1;33m(\u001b[0m\u001b[1;33m)\u001b[0m\u001b[1;33m)\u001b[0m\u001b[1;31m#1e-20,1e-15))\u001b[0m\u001b[1;33m\u001b[0m\u001b[1;33m\u001b[0m\u001b[0m\n\u001b[0m\u001b[0;32m      3\u001b[0m \u001b[0mplt\u001b[0m\u001b[1;33m.\u001b[0m\u001b[0mcolorbar\u001b[0m\u001b[1;33m(\u001b[0m\u001b[1;33m)\u001b[0m\u001b[1;33m\u001b[0m\u001b[1;33m\u001b[0m\u001b[0m\n\u001b[0;32m      4\u001b[0m \u001b[0mplt\u001b[0m\u001b[1;33m.\u001b[0m\u001b[0mtitle\u001b[0m\u001b[1;33m(\u001b[0m\u001b[1;34m\"HLC Image of Included Flux\"\u001b[0m\u001b[1;33m)\u001b[0m\u001b[1;33m\u001b[0m\u001b[1;33m\u001b[0m\u001b[0m\n\u001b[0;32m      5\u001b[0m \u001b[0mplt\u001b[0m\u001b[1;33m.\u001b[0m\u001b[0mshow\u001b[0m\u001b[1;33m(\u001b[0m\u001b[1;33m)\u001b[0m\u001b[1;33m\u001b[0m\u001b[1;33m\u001b[0m\u001b[0m\n",
      "\u001b[1;31mNameError\u001b[0m: name 'im' is not defined"
     ]
    }
   ],
   "source": [
    "plt.imshow(im,norm=LogNorm())#1e-20,1e-15))\n",
    "plt.colorbar()\n",
    "plt.title(\"HLC Image of Included Flux\")\n",
    "plt.show()"
   ]
  },
  {
   "cell_type": "code",
   "execution_count": 34,
   "metadata": {},
   "outputs": [
    {
     "ename": "ModuleNotFoundError",
     "evalue": "No module named 'webbpsf'",
     "output_type": "error",
     "traceback": [
      "\u001b[1;31m---------------------------------------------------------------------------\u001b[0m",
      "\u001b[1;31mModuleNotFoundError\u001b[0m                       Traceback (most recent call last)",
      "\u001b[1;32m<ipython-input-34-f0c1a64a3ac3>\u001b[0m in \u001b[0;36m<module>\u001b[1;34m\u001b[0m\n\u001b[0;32m      1\u001b[0m \u001b[1;31m#import webbpsf\u001b[0m\u001b[1;33m\u001b[0m\u001b[1;33m\u001b[0m\u001b[1;33m\u001b[0m\u001b[0m\n\u001b[1;32m----> 2\u001b[1;33m \u001b[1;32mfrom\u001b[0m \u001b[0mwebbpsf\u001b[0m \u001b[1;32mimport\u001b[0m \u001b[0mwfirst\u001b[0m\u001b[1;33m\u001b[0m\u001b[1;33m\u001b[0m\u001b[0m\n\u001b[0m\u001b[0;32m      3\u001b[0m \u001b[1;32mimport\u001b[0m \u001b[0mimportlib\u001b[0m\u001b[1;33m\u001b[0m\u001b[1;33m\u001b[0m\u001b[0m\n\u001b[0;32m      4\u001b[0m \u001b[0mimportlib\u001b[0m\u001b[1;33m.\u001b[0m\u001b[0mreload\u001b[0m\u001b[1;33m(\u001b[0m\u001b[0mwfirst\u001b[0m\u001b[1;33m)\u001b[0m\u001b[1;33m\u001b[0m\u001b[1;33m\u001b[0m\u001b[0m\n\u001b[0;32m      5\u001b[0m \u001b[1;33m\u001b[0m\u001b[0m\n",
      "\u001b[1;31mModuleNotFoundError\u001b[0m: No module named 'webbpsf'"
     ]
    }
   ],
   "source": [
    "#import webbpsf\n",
    "from webbpsf import wfirst\n",
    "import importlib\n",
    "importlib.reload(wfirst)\n",
    "\n",
    "ifs_spc = wfirst.CGI(pixelscale=out_pixscale)\n",
    "ifs_spc.mode = 'DISKSPC_F721'#CHARSPC_F770' #\n",
    "#ifs_spc.cgi_family = \"DISKSPC\"\n",
    "\n",
    "ifs_spc.cgi_family = \"CHARSPC\"\n",
    "\n",
    "FOV=2*1.64\n",
    "\n",
    "#example cube \n",
    "input_fname = home+\"projects/WFIRST/data/zodipic/zodipic_10pc3mas.fits\"\n",
    "dust = fits.open(input_fname)\n",
    "\n",
    "#define adjustable cropping factor\n",
    "border = 1\n",
    "input_cube = dust[0].data#[:,border:-border,border:-border]#[:,90:-90,90:-90]#[:2,580:-580,580:-580]\n",
    "\n",
    "\n",
    "dust[0].header[\"INPUT_FITS\"] = input_fname\n",
    "dust[0].header[\"PIXELSCL\"] = 0.01425\n",
    "dust[0].header[\"INPUT_flux\"] = \"Jy\"\n",
    "\n",
    "#location of center from Ds9 inspection\n",
    "'''\n",
    "DS9 coordinate notes, corners are from 0.5-213.5 and center is at 108.\n",
    "\n",
    "in numpy coordinates the center is at 107,107\n",
    "\n",
    "'''\n",
    "center = (107-border)\n",
    "\n",
    "# find parameters:\n",
    "dim = input_cube.shape\n",
    "if len(dim)>2:\n",
    "    ny = dim[1]\n",
    "    nx = dim[2]\n",
    "else:\n",
    "    ny = dim[0]\n",
    "    nx = dim[1] \n",
    "#test that center is center by removing the flux\n",
    "#input_cube [0,center,center] =1e-11\n",
    "\n"
   ]
  },
  {
   "cell_type": "code",
   "execution_count": 35,
   "metadata": {},
   "outputs": [
    {
     "ename": "NameError",
     "evalue": "name 'HLCPSFs2' is not defined",
     "output_type": "error",
     "traceback": [
      "\u001b[1;31m---------------------------------------------------------------------------\u001b[0m",
      "\u001b[1;31mNameError\u001b[0m                                 Traceback (most recent call last)",
      "\u001b[1;32m<ipython-input-35-d82cd9e8f818>\u001b[0m in \u001b[0;36m<module>\u001b[1;34m\u001b[0m\n\u001b[0;32m      1\u001b[0m \u001b[1;33m\u001b[0m\u001b[0m\n\u001b[1;32m----> 2\u001b[1;33m \u001b[0mHLCPSFs2\u001b[0m\u001b[1;33m[\u001b[0m\u001b[0mHLCPSFs2\u001b[0m\u001b[1;33m[\u001b[0m\u001b[1;33m:\u001b[0m\u001b[1;33m,\u001b[0m\u001b[1;33m:\u001b[0m\u001b[1;33m,\u001b[0m\u001b[1;33m:\u001b[0m\u001b[1;33m]\u001b[0m\u001b[1;33m<\u001b[0m\u001b[1;36m1e-12\u001b[0m\u001b[1;33m]\u001b[0m\u001b[1;33m=\u001b[0m\u001b[1;36m0\u001b[0m\u001b[1;33m\u001b[0m\u001b[1;33m\u001b[0m\u001b[0m\n\u001b[0m\u001b[0;32m      3\u001b[0m \u001b[0mplt\u001b[0m\u001b[1;33m.\u001b[0m\u001b[0mimshow\u001b[0m\u001b[1;33m(\u001b[0m\u001b[0mHLCPSFs2\u001b[0m\u001b[1;33m[\u001b[0m\u001b[1;33m:\u001b[0m\u001b[1;33m,\u001b[0m\u001b[1;33m:\u001b[0m\u001b[1;33m,\u001b[0m\u001b[1;33m:\u001b[0m\u001b[1;33m]\u001b[0m\u001b[1;33m,\u001b[0m\u001b[0mnorm\u001b[0m\u001b[1;33m=\u001b[0m\u001b[0mLogNorm\u001b[0m\u001b[1;33m(\u001b[0m\u001b[0mvmax\u001b[0m\u001b[1;33m=\u001b[0m\u001b[1;36m1e-4\u001b[0m\u001b[1;33m,\u001b[0m\u001b[0mvmin\u001b[0m\u001b[1;33m=\u001b[0m\u001b[1;36m1e-13\u001b[0m\u001b[1;33m)\u001b[0m\u001b[1;33m)\u001b[0m\u001b[1;33m\u001b[0m\u001b[1;33m\u001b[0m\u001b[0m\n\u001b[0;32m      4\u001b[0m \u001b[1;33m\u001b[0m\u001b[0m\n",
      "\u001b[1;31mNameError\u001b[0m: name 'HLCPSFs2' is not defined"
     ]
    }
   ],
   "source": [
    "HLCPSFs2[HLCPSFs2[:,:,:]<1e-12]=0\n",
    "\n",
    "plt.imshow(HLCPSFs2[:,:,:],norm = LogNorm(vmax = 1e-4, vmin = 1e-13))\n"
   ]
  },
  {
   "cell_type": "markdown",
   "metadata": {},
   "source": [
    "## Make video of PSFs"
   ]
  },
  {
   "cell_type": "code",
   "execution_count": 36,
   "metadata": {
    "scrolled": false
   },
   "outputs": [
    {
     "ename": "NameError",
     "evalue": "name 'xmas2' is not defined",
     "output_type": "error",
     "traceback": [
      "\u001b[1;31m---------------------------------------------------------------------------\u001b[0m",
      "\u001b[1;31mNameError\u001b[0m                                 Traceback (most recent call last)",
      "\u001b[1;32m<ipython-input-36-9377e5bbe4eb>\u001b[0m in \u001b[0;36m<module>\u001b[1;34m\u001b[0m\n\u001b[1;32m----> 1\u001b[1;33m \u001b[1;32mfor\u001b[0m \u001b[0mi\u001b[0m\u001b[1;33m,\u001b[0m\u001b[0mangle\u001b[0m \u001b[1;32min\u001b[0m \u001b[0menumerate\u001b[0m\u001b[1;33m(\u001b[0m\u001b[0mxmas2\u001b[0m\u001b[1;33m)\u001b[0m\u001b[1;33m:\u001b[0m\u001b[1;33m\u001b[0m\u001b[1;33m\u001b[0m\u001b[0m\n\u001b[0m\u001b[0;32m      2\u001b[0m     \u001b[0mplt\u001b[0m\u001b[1;33m.\u001b[0m\u001b[0mfigure\u001b[0m\u001b[1;33m(\u001b[0m\u001b[0mdpi\u001b[0m\u001b[1;33m=\u001b[0m\u001b[1;36m300\u001b[0m\u001b[1;33m)\u001b[0m\u001b[1;33m\u001b[0m\u001b[1;33m\u001b[0m\u001b[0m\n\u001b[0;32m      3\u001b[0m     \u001b[1;31m#plt.imshow(HLCPSFs2[:,:,i],norm=LogNorm(vmax=1e-4,vmin=1e-13))\u001b[0m\u001b[1;33m\u001b[0m\u001b[1;33m\u001b[0m\u001b[1;33m\u001b[0m\u001b[0m\n\u001b[0;32m      4\u001b[0m     \u001b[1;31m#plt.colorbar()\u001b[0m\u001b[1;33m\u001b[0m\u001b[1;33m\u001b[0m\u001b[1;33m\u001b[0m\u001b[0m\n\u001b[0;32m      5\u001b[0m     \u001b[0mdispl_scale\u001b[0m\u001b[1;33m(\u001b[0m\u001b[0mHLCPSFs2\u001b[0m\u001b[1;33m[\u001b[0m\u001b[1;33m:\u001b[0m\u001b[1;33m,\u001b[0m\u001b[1;33m:\u001b[0m\u001b[1;33m,\u001b[0m\u001b[0mi\u001b[0m\u001b[1;33m]\u001b[0m\u001b[1;33m,\u001b[0m\u001b[0mps\u001b[0m\u001b[1;33m=\u001b[0m\u001b[1;36m5\u001b[0m\u001b[1;33m*\u001b[0m\u001b[0mu\u001b[0m\u001b[1;33m.\u001b[0m\u001b[0mmilliarcsecond\u001b[0m\u001b[1;33m,\u001b[0m\u001b[0mnorm\u001b[0m\u001b[1;33m=\u001b[0m\u001b[0mLogNorm\u001b[0m\u001b[1;33m(\u001b[0m\u001b[0mvmax\u001b[0m\u001b[1;33m=\u001b[0m\u001b[1;36m1e-4\u001b[0m\u001b[1;33m,\u001b[0m\u001b[0mvmin\u001b[0m\u001b[1;33m=\u001b[0m\u001b[1;36m1e-13\u001b[0m\u001b[1;33m)\u001b[0m\u001b[1;33m)\u001b[0m\u001b[1;33m\u001b[0m\u001b[1;33m\u001b[0m\u001b[0m\n",
      "\u001b[1;31mNameError\u001b[0m: name 'xmas2' is not defined"
     ]
    }
   ],
   "source": [
    "for i,angle in enumerate(xmas2):\n",
    "    plt.figure(dpi=300)\n",
    "    #plt.imshow(HLCPSFs2[:,:,i],norm=LogNorm(vmax=1e-4,vmin=1e-13))\n",
    "    #plt.colorbar()\n",
    "    displ_scale(HLCPSFs2[:,:,i],ps=5*u.milliarcsecond,norm=LogNorm(vmax=1e-4,vmin=1e-13))\n",
    "    plt.title(str(angle)+\"\\n\"+str(hlc_header[\"lambda_c\"])+\"$\\mu$m\")\n",
    "    plt.savefig(str(angle)[:3]+\"mas_PSF.png\")\n",
    "    plt.show()"
   ]
  },
  {
   "cell_type": "code",
   "execution_count": 37,
   "metadata": {},
   "outputs": [
    {
     "name": "stderr",
     "output_type": "stream",
     "text": [
      "mesg: ttyname failed: Inappropriate ioctl for device\n",
      "ls: cannot access '*mas_PSF.png': No such file or directory\n",
      "-bash: line 1: convert: command not found\n"
     ]
    },
    {
     "ename": "CalledProcessError",
     "evalue": "Command 'b'convert -quality 100% -delay 10 -loop 0 $(ls *mas_PSF.png | sort -n)  HLC_animation.mpg\\n'' returned non-zero exit status 127.",
     "output_type": "error",
     "traceback": [
      "\u001b[1;31m---------------------------------------------------------------------------\u001b[0m",
      "\u001b[1;31mCalledProcessError\u001b[0m                        Traceback (most recent call last)",
      "\u001b[1;32m<ipython-input-37-1227d1a4690c>\u001b[0m in \u001b[0;36m<module>\u001b[1;34m\u001b[0m\n\u001b[1;32m----> 1\u001b[1;33m \u001b[0mget_ipython\u001b[0m\u001b[1;33m(\u001b[0m\u001b[1;33m)\u001b[0m\u001b[1;33m.\u001b[0m\u001b[0mrun_cell_magic\u001b[0m\u001b[1;33m(\u001b[0m\u001b[1;34m'bash'\u001b[0m\u001b[1;33m,\u001b[0m \u001b[1;34m''\u001b[0m\u001b[1;33m,\u001b[0m \u001b[1;34m'convert -quality 100% -delay 10 -loop 0 $(ls *mas_PSF.png | sort -n)  HLC_animation.mpg\\n'\u001b[0m\u001b[1;33m)\u001b[0m\u001b[1;33m\u001b[0m\u001b[1;33m\u001b[0m\u001b[0m\n\u001b[0m",
      "\u001b[1;32m~\\Anaconda3\\lib\\site-packages\\IPython\\core\\interactiveshell.py\u001b[0m in \u001b[0;36mrun_cell_magic\u001b[1;34m(self, magic_name, line, cell)\u001b[0m\n\u001b[0;32m   2350\u001b[0m             \u001b[1;32mwith\u001b[0m \u001b[0mself\u001b[0m\u001b[1;33m.\u001b[0m\u001b[0mbuiltin_trap\u001b[0m\u001b[1;33m:\u001b[0m\u001b[1;33m\u001b[0m\u001b[1;33m\u001b[0m\u001b[0m\n\u001b[0;32m   2351\u001b[0m                 \u001b[0margs\u001b[0m \u001b[1;33m=\u001b[0m \u001b[1;33m(\u001b[0m\u001b[0mmagic_arg_s\u001b[0m\u001b[1;33m,\u001b[0m \u001b[0mcell\u001b[0m\u001b[1;33m)\u001b[0m\u001b[1;33m\u001b[0m\u001b[1;33m\u001b[0m\u001b[0m\n\u001b[1;32m-> 2352\u001b[1;33m                 \u001b[0mresult\u001b[0m \u001b[1;33m=\u001b[0m \u001b[0mfn\u001b[0m\u001b[1;33m(\u001b[0m\u001b[1;33m*\u001b[0m\u001b[0margs\u001b[0m\u001b[1;33m,\u001b[0m \u001b[1;33m**\u001b[0m\u001b[0mkwargs\u001b[0m\u001b[1;33m)\u001b[0m\u001b[1;33m\u001b[0m\u001b[1;33m\u001b[0m\u001b[0m\n\u001b[0m\u001b[0;32m   2353\u001b[0m             \u001b[1;32mreturn\u001b[0m \u001b[0mresult\u001b[0m\u001b[1;33m\u001b[0m\u001b[1;33m\u001b[0m\u001b[0m\n\u001b[0;32m   2354\u001b[0m \u001b[1;33m\u001b[0m\u001b[0m\n",
      "\u001b[1;32m~\\Anaconda3\\lib\\site-packages\\IPython\\core\\magics\\script.py\u001b[0m in \u001b[0;36mnamed_script_magic\u001b[1;34m(line, cell)\u001b[0m\n\u001b[0;32m    140\u001b[0m             \u001b[1;32melse\u001b[0m\u001b[1;33m:\u001b[0m\u001b[1;33m\u001b[0m\u001b[1;33m\u001b[0m\u001b[0m\n\u001b[0;32m    141\u001b[0m                 \u001b[0mline\u001b[0m \u001b[1;33m=\u001b[0m \u001b[0mscript\u001b[0m\u001b[1;33m\u001b[0m\u001b[1;33m\u001b[0m\u001b[0m\n\u001b[1;32m--> 142\u001b[1;33m             \u001b[1;32mreturn\u001b[0m \u001b[0mself\u001b[0m\u001b[1;33m.\u001b[0m\u001b[0mshebang\u001b[0m\u001b[1;33m(\u001b[0m\u001b[0mline\u001b[0m\u001b[1;33m,\u001b[0m \u001b[0mcell\u001b[0m\u001b[1;33m)\u001b[0m\u001b[1;33m\u001b[0m\u001b[1;33m\u001b[0m\u001b[0m\n\u001b[0m\u001b[0;32m    143\u001b[0m \u001b[1;33m\u001b[0m\u001b[0m\n\u001b[0;32m    144\u001b[0m         \u001b[1;31m# write a basic docstring:\u001b[0m\u001b[1;33m\u001b[0m\u001b[1;33m\u001b[0m\u001b[1;33m\u001b[0m\u001b[0m\n",
      "\u001b[1;32m<C:\\Users\\Kian\\Anaconda3\\lib\\site-packages\\decorator.py:decorator-gen-111>\u001b[0m in \u001b[0;36mshebang\u001b[1;34m(self, line, cell)\u001b[0m\n",
      "\u001b[1;32m~\\Anaconda3\\lib\\site-packages\\IPython\\core\\magic.py\u001b[0m in \u001b[0;36m<lambda>\u001b[1;34m(f, *a, **k)\u001b[0m\n\u001b[0;32m    185\u001b[0m     \u001b[1;31m# but it's overkill for just that one bit of state.\u001b[0m\u001b[1;33m\u001b[0m\u001b[1;33m\u001b[0m\u001b[1;33m\u001b[0m\u001b[0m\n\u001b[0;32m    186\u001b[0m     \u001b[1;32mdef\u001b[0m \u001b[0mmagic_deco\u001b[0m\u001b[1;33m(\u001b[0m\u001b[0marg\u001b[0m\u001b[1;33m)\u001b[0m\u001b[1;33m:\u001b[0m\u001b[1;33m\u001b[0m\u001b[1;33m\u001b[0m\u001b[0m\n\u001b[1;32m--> 187\u001b[1;33m         \u001b[0mcall\u001b[0m \u001b[1;33m=\u001b[0m \u001b[1;32mlambda\u001b[0m \u001b[0mf\u001b[0m\u001b[1;33m,\u001b[0m \u001b[1;33m*\u001b[0m\u001b[0ma\u001b[0m\u001b[1;33m,\u001b[0m \u001b[1;33m**\u001b[0m\u001b[0mk\u001b[0m\u001b[1;33m:\u001b[0m \u001b[0mf\u001b[0m\u001b[1;33m(\u001b[0m\u001b[1;33m*\u001b[0m\u001b[0ma\u001b[0m\u001b[1;33m,\u001b[0m \u001b[1;33m**\u001b[0m\u001b[0mk\u001b[0m\u001b[1;33m)\u001b[0m\u001b[1;33m\u001b[0m\u001b[1;33m\u001b[0m\u001b[0m\n\u001b[0m\u001b[0;32m    188\u001b[0m \u001b[1;33m\u001b[0m\u001b[0m\n\u001b[0;32m    189\u001b[0m         \u001b[1;32mif\u001b[0m \u001b[0mcallable\u001b[0m\u001b[1;33m(\u001b[0m\u001b[0marg\u001b[0m\u001b[1;33m)\u001b[0m\u001b[1;33m:\u001b[0m\u001b[1;33m\u001b[0m\u001b[1;33m\u001b[0m\u001b[0m\n",
      "\u001b[1;32m~\\Anaconda3\\lib\\site-packages\\IPython\\core\\magics\\script.py\u001b[0m in \u001b[0;36mshebang\u001b[1;34m(self, line, cell)\u001b[0m\n\u001b[0;32m    243\u001b[0m             \u001b[0msys\u001b[0m\u001b[1;33m.\u001b[0m\u001b[0mstderr\u001b[0m\u001b[1;33m.\u001b[0m\u001b[0mflush\u001b[0m\u001b[1;33m(\u001b[0m\u001b[1;33m)\u001b[0m\u001b[1;33m\u001b[0m\u001b[1;33m\u001b[0m\u001b[0m\n\u001b[0;32m    244\u001b[0m         \u001b[1;32mif\u001b[0m \u001b[0margs\u001b[0m\u001b[1;33m.\u001b[0m\u001b[0mraise_error\u001b[0m \u001b[1;32mand\u001b[0m \u001b[0mp\u001b[0m\u001b[1;33m.\u001b[0m\u001b[0mreturncode\u001b[0m\u001b[1;33m!=\u001b[0m\u001b[1;36m0\u001b[0m\u001b[1;33m:\u001b[0m\u001b[1;33m\u001b[0m\u001b[1;33m\u001b[0m\u001b[0m\n\u001b[1;32m--> 245\u001b[1;33m             \u001b[1;32mraise\u001b[0m \u001b[0mCalledProcessError\u001b[0m\u001b[1;33m(\u001b[0m\u001b[0mp\u001b[0m\u001b[1;33m.\u001b[0m\u001b[0mreturncode\u001b[0m\u001b[1;33m,\u001b[0m \u001b[0mcell\u001b[0m\u001b[1;33m,\u001b[0m \u001b[0moutput\u001b[0m\u001b[1;33m=\u001b[0m\u001b[0mout\u001b[0m\u001b[1;33m,\u001b[0m \u001b[0mstderr\u001b[0m\u001b[1;33m=\u001b[0m\u001b[0merr\u001b[0m\u001b[1;33m)\u001b[0m\u001b[1;33m\u001b[0m\u001b[1;33m\u001b[0m\u001b[0m\n\u001b[0m\u001b[0;32m    246\u001b[0m \u001b[1;33m\u001b[0m\u001b[0m\n\u001b[0;32m    247\u001b[0m     \u001b[1;32mdef\u001b[0m \u001b[0m_run_script\u001b[0m\u001b[1;33m(\u001b[0m\u001b[0mself\u001b[0m\u001b[1;33m,\u001b[0m \u001b[0mp\u001b[0m\u001b[1;33m,\u001b[0m \u001b[0mcell\u001b[0m\u001b[1;33m,\u001b[0m \u001b[0mto_close\u001b[0m\u001b[1;33m)\u001b[0m\u001b[1;33m:\u001b[0m\u001b[1;33m\u001b[0m\u001b[1;33m\u001b[0m\u001b[0m\n",
      "\u001b[1;31mCalledProcessError\u001b[0m: Command 'b'convert -quality 100% -delay 10 -loop 0 $(ls *mas_PSF.png | sort -n)  HLC_animation.mpg\\n'' returned non-zero exit status 127."
     ]
    }
   ],
   "source": [
    "%%bash\n",
    "convert -quality 100% -delay 10 -loop 0 $(ls *mas_PSF.png | sort -n)  HLC_animation.mpg"
   ]
  },
  {
   "cell_type": "code",
   "execution_count": null,
   "metadata": {},
   "outputs": [],
   "source": []
  },
  {
   "cell_type": "code",
   "execution_count": null,
   "metadata": {},
   "outputs": [],
   "source": [
    "import poppy\n",
    "plt.figure(figsize=[4,3])\n",
    "ax=plt.subplot(111)#,aspect='equal')\n",
    "#ax.set_aspect(1)\n",
    "zodi_r_axis,zodi_ravg=poppy.utils.radial_profile(zodi_fits)#,header=zodi_fits[0].header)]))\n",
    "\n",
    "r_axis,ravg=poppy.utils.radial_profile(fits.HDUList([fits.ImageHDU(im,header=HLC_header)]))\n",
    "\n",
    "ax.plot(zodi_r_axis/1000,zodi_ravg/zodi_ravg.max(),'-.',label=\"Input\")\n",
    "\n",
    "ax.plot([lambda_D.decompose()*206265*3,lambda_D.decompose()*206265*3],[1e-12, 1],'--',color=\"orange\")\n",
    "ax.text(lambda_D.decompose()*206265*2.2,.85,\"IWA\",color=\"orange\")\n",
    "\n",
    "ax.plot(r_axis,ravg/ravg.max(),label=\"HLC output\")\n",
    "ax.set_ylim([.1,1])\n",
    "ax.set_xlim([.1,.5])\n",
    "\n",
    "#plt.yscale(\"log\")\n",
    "plt.xlabel(\"$\\prime\\prime$\")\n",
    "plt.ylabel(\"Normalized flux\")\n",
    "plt.legend()\n",
    "plt.show()"
   ]
  },
  {
   "cell_type": "code",
   "execution_count": 38,
   "metadata": {},
   "outputs": [
    {
     "ename": "NameError",
     "evalue": "name 'lambda_D' is not defined",
     "output_type": "error",
     "traceback": [
      "\u001b[1;31m---------------------------------------------------------------------------\u001b[0m",
      "\u001b[1;31mNameError\u001b[0m                                 Traceback (most recent call last)",
      "\u001b[1;32m<ipython-input-38-8170e8be2e42>\u001b[0m in \u001b[0;36m<module>\u001b[1;34m\u001b[0m\n\u001b[1;32m----> 1\u001b[1;33m \u001b[0mlambda_D\u001b[0m\u001b[1;33m\u001b[0m\u001b[1;33m\u001b[0m\u001b[0m\n\u001b[0m",
      "\u001b[1;31mNameError\u001b[0m: name 'lambda_D' is not defined"
     ]
    }
   ],
   "source": [
    "lambda_D"
   ]
  },
  {
   "cell_type": "code",
   "execution_count": 39,
   "metadata": {},
   "outputs": [],
   "source": [
    "def disk_through_hlc(fitsfile,\n",
    "                     thresh=1000,\n",
    "                     display=False,\n",
    "                     x_extent=.25,y_extent=0.25,\n",
    "                     load_existing=True,\n",
    "                     localzodi=0):\n",
    "    print(\"running disk through HLC\")\n",
    "    zodi_fits = fits.open(fitsfile)\n",
    "    outfits=\"output/\"+fitsfile.split(\"/\")[-1][:-4]+'_HLC.fits'\n",
    "    print(outfits,fitsfile)\n",
    "\n",
    "    if fitsfile.find(\"89\") !=-1:\n",
    "        thresh=50000\n",
    "\n",
    "\n",
    "    print(thresh)\n",
    "    print(\"local zodi: {}\".format(localzodi))\n",
    "\n",
    "    zodi = np.ma.masked_array(zodi_fits[0].data,zodi_fits[0].data<zodi_fits[0].data.max()/thresh)\n",
    "    zodi_fits[0].data=zodi\n",
    "    n = 200#zodi_fits[0].data.shape[0]\n",
    "    zodi_pixscale = zodi_fits[0].header[\"PIXELSCL\"]*u.arcsecond\n",
    "\n",
    "    pixnum = np.int(zodi_fits[0].data.shape[0])\n",
    "    x,y = np.meshgrid(np.arange(-pixnum/2,pixnum/2),np.arange(-pixnum/2,pixnum/2))\n",
    "    x = (x+.5).flatten()*zodi_pixscale\n",
    "\n",
    "    y = (y+.5).flatten()*zodi_pixscale\n",
    "    im = np.zeros([n,n])\n",
    "\n",
    "    zodi.mask#[zodi<zodi.max()/100] = True\n",
    "    if display:\n",
    "        plt.imshow(zodi)\n",
    "    try:\n",
    "        if load_existing:\n",
    "            im=fits.getdata(outfits)\n",
    "        else:\n",
    "            print(\"load_existing keyword False, throwing error to regenerate file \")\n",
    "            raise ValueError(\"\")\n",
    "\n",
    "    except:\n",
    "        for i,zodi_val in enumerate(zodi.flatten()):\n",
    "            if np.ma.is_masked(zodi_val):\n",
    "                continue\n",
    "            im += (localzodi+zodi_val)*hlc_processing.closest_monochrome_PSF(x[i],y[i],\n",
    "                                                                 my_interpolating_function,xmas2,\n",
    "                                              HLC_plate_scale)\n",
    "    if display:\n",
    "        halfpix = zodi_pixscale.to(u.arcsec).value*0.5\n",
    "        extent = ([x.min().to(u.arcsec).value-halfpix,\n",
    "           x.max().to(u.arcsec).value+halfpix, \n",
    "           y.min().to(u.arcsec).value-halfpix,\n",
    "            y.max().to(u.arcsec).value+halfpix])\n",
    "        plt.figure(figsize=[9,4])\n",
    "        plt.subplot(121)\n",
    "        plt.title(\"Input Flux\")\n",
    "\n",
    "        plt.xlim([-x_extent,x_extent])\n",
    "        plt.ylim([-y_extent,y_extent])\n",
    "\n",
    "\n",
    "        plt.ylabel(\"$\\prime\\prime$\")\n",
    "\n",
    "        plt.xlabel(\"$\\prime\\prime$\")\n",
    "\n",
    "\n",
    "\n",
    "        plt.grid()\n",
    "\n",
    "        \n",
    "        plt.imshow(zodi,extent=extent,norm=LogNorm(zodi.data[zodi>0].min(),zodi.data.max()))#zodi.data.min(),zodi.data.max))\n",
    "        axc=plt.colorbar()\n",
    "        axc.set_label(\"Jy\")\n",
    "        \n",
    "        plt.subplot(122)\n",
    "        pixnum = np.int(im.shape[0])\n",
    "        x,y = np.meshgrid(np.arange(-pixnum/2,pixnum/2),np.arange(-pixnum/2,pixnum/2))\n",
    "        x = (x+.5).flatten()*HLC_header[\"PIXELSCL\"]*u.arcsec\n",
    "\n",
    "        y = (y+.5).flatten()*HLC_header[\"PIXELSCL\"]*u.arcsec\n",
    "        halfpix = HLC_header[\"PIXELSCL\"]*.05\n",
    "        extent = ([x.min().to(u.arcsec).value-halfpix,\n",
    "        x.max().to(u.arcsec).value+halfpix, \n",
    "        y.min().to(u.arcsec).value-halfpix,\n",
    "        y.max().to(u.arcsec).value+halfpix])\n",
    "        plt.imshow(im.T,extent=extent)#,norm=LogNorm())\n",
    "        plt.colorbar()\n",
    "        plt.title(\"HLC Image of Included Flux\")\n",
    "\n",
    "        plt.xlim([-x_extent,x_extent])\n",
    "        plt.ylim([-y_extent,y_extent])\n",
    "\n",
    "        plt.grid()\n",
    "        plt.xlabel(\"$\\prime\\prime$\")\n",
    "\n",
    "\n",
    "        plt.tight_layout()\n",
    "    return im,zodi_fits,outfits\n"
   ]
  },
  {
   "cell_type": "code",
   "execution_count": 40,
   "metadata": {},
   "outputs": [
    {
     "ename": "NameError",
     "evalue": "name 'HLC_header' is not defined",
     "output_type": "error",
     "traceback": [
      "\u001b[1;31m---------------------------------------------------------------------------\u001b[0m",
      "\u001b[1;31mNameError\u001b[0m                                 Traceback (most recent call last)",
      "\u001b[1;32m<ipython-input-40-14a755e6365a>\u001b[0m in \u001b[0;36m<module>\u001b[1;34m\u001b[0m\n\u001b[1;32m----> 1\u001b[1;33m \u001b[0mprint\u001b[0m\u001b[1;33m(\u001b[0m\u001b[0mHLC_header\u001b[0m\u001b[1;33m[\u001b[0m\u001b[1;34m\"PIXELSCL\"\u001b[0m\u001b[1;33m]\u001b[0m\u001b[1;33m*\u001b[0m\u001b[0mu\u001b[0m\u001b[1;33m.\u001b[0m\u001b[0marcsec\u001b[0m\u001b[1;33m)\u001b[0m\u001b[1;33m\u001b[0m\u001b[1;33m\u001b[0m\u001b[0m\n\u001b[0m",
      "\u001b[1;31mNameError\u001b[0m: name 'HLC_header' is not defined"
     ]
    }
   ],
   "source": [
    "print(HLC_header[\"PIXELSCL\"]*u.arcsec)"
   ]
  },
  {
   "cell_type": "code",
   "execution_count": 41,
   "metadata": {},
   "outputs": [
    {
     "name": "stdout",
     "output_type": "stream",
     "text": [
      "running disk through HLC\n"
     ]
    },
    {
     "ename": "FileNotFoundError",
     "evalue": "[Errno 2] No such file or directory: 'C:\\\\Users\\\\Kian//Box Sync/WFIRST_SIT_FILES/DebesModels/Model_Ring/ring_inc0_r0.2.fits'",
     "output_type": "error",
     "traceback": [
      "\u001b[1;31m---------------------------------------------------------------------------\u001b[0m",
      "\u001b[1;31mFileNotFoundError\u001b[0m                         Traceback (most recent call last)",
      "\u001b[1;32m<ipython-input-41-2a3b85b283da>\u001b[0m in \u001b[0;36m<module>\u001b[1;34m\u001b[0m\n\u001b[0;32m      1\u001b[0m im,zodi,outfits=disk_through_hlc(home+'/Box Sync/WFIRST_SIT_FILES/DebesModels/Model_Ring/ring_inc0_r0.2.fits',\n\u001b[1;32m----> 2\u001b[1;33m                                  thresh=5,display=True,load_existing=True)\n\u001b[0m\u001b[0;32m      3\u001b[0m \u001b[0mplt\u001b[0m\u001b[1;33m.\u001b[0m\u001b[0mshow\u001b[0m\u001b[1;33m(\u001b[0m\u001b[1;33m)\u001b[0m\u001b[1;33m\u001b[0m\u001b[1;33m\u001b[0m\u001b[0m\n",
      "\u001b[1;32m<ipython-input-39-85de3f0e1bac>\u001b[0m in \u001b[0;36mdisk_through_hlc\u001b[1;34m(fitsfile, thresh, display, x_extent, y_extent, load_existing, localzodi)\u001b[0m\n\u001b[0;32m      6\u001b[0m                      localzodi=0):\n\u001b[0;32m      7\u001b[0m     \u001b[0mprint\u001b[0m\u001b[1;33m(\u001b[0m\u001b[1;34m\"running disk through HLC\"\u001b[0m\u001b[1;33m)\u001b[0m\u001b[1;33m\u001b[0m\u001b[1;33m\u001b[0m\u001b[0m\n\u001b[1;32m----> 8\u001b[1;33m     \u001b[0mzodi_fits\u001b[0m \u001b[1;33m=\u001b[0m \u001b[0mfits\u001b[0m\u001b[1;33m.\u001b[0m\u001b[0mopen\u001b[0m\u001b[1;33m(\u001b[0m\u001b[0mfitsfile\u001b[0m\u001b[1;33m)\u001b[0m\u001b[1;33m\u001b[0m\u001b[1;33m\u001b[0m\u001b[0m\n\u001b[0m\u001b[0;32m      9\u001b[0m     \u001b[0moutfits\u001b[0m\u001b[1;33m=\u001b[0m\u001b[1;34m\"output/\"\u001b[0m\u001b[1;33m+\u001b[0m\u001b[0mfitsfile\u001b[0m\u001b[1;33m.\u001b[0m\u001b[0msplit\u001b[0m\u001b[1;33m(\u001b[0m\u001b[1;34m\"/\"\u001b[0m\u001b[1;33m)\u001b[0m\u001b[1;33m[\u001b[0m\u001b[1;33m-\u001b[0m\u001b[1;36m1\u001b[0m\u001b[1;33m]\u001b[0m\u001b[1;33m[\u001b[0m\u001b[1;33m:\u001b[0m\u001b[1;33m-\u001b[0m\u001b[1;36m4\u001b[0m\u001b[1;33m]\u001b[0m\u001b[1;33m+\u001b[0m\u001b[1;34m'_HLC.fits'\u001b[0m\u001b[1;33m\u001b[0m\u001b[1;33m\u001b[0m\u001b[0m\n\u001b[0;32m     10\u001b[0m     \u001b[0mprint\u001b[0m\u001b[1;33m(\u001b[0m\u001b[0moutfits\u001b[0m\u001b[1;33m,\u001b[0m\u001b[0mfitsfile\u001b[0m\u001b[1;33m)\u001b[0m\u001b[1;33m\u001b[0m\u001b[1;33m\u001b[0m\u001b[0m\n",
      "\u001b[1;32m~\\Anaconda3\\lib\\site-packages\\astropy\\io\\fits\\hdu\\hdulist.py\u001b[0m in \u001b[0;36mfitsopen\u001b[1;34m(name, mode, memmap, save_backup, cache, lazy_load_hdus, **kwargs)\u001b[0m\n\u001b[0;32m    149\u001b[0m \u001b[1;33m\u001b[0m\u001b[0m\n\u001b[0;32m    150\u001b[0m     return HDUList.fromfile(name, mode, memmap, save_backup, cache,\n\u001b[1;32m--> 151\u001b[1;33m                             lazy_load_hdus, **kwargs)\n\u001b[0m\u001b[0;32m    152\u001b[0m \u001b[1;33m\u001b[0m\u001b[0m\n\u001b[0;32m    153\u001b[0m \u001b[1;33m\u001b[0m\u001b[0m\n",
      "\u001b[1;32m~\\Anaconda3\\lib\\site-packages\\astropy\\io\\fits\\hdu\\hdulist.py\u001b[0m in \u001b[0;36mfromfile\u001b[1;34m(cls, fileobj, mode, memmap, save_backup, cache, lazy_load_hdus, **kwargs)\u001b[0m\n\u001b[0;32m    388\u001b[0m         return cls._readfrom(fileobj=fileobj, mode=mode, memmap=memmap,\n\u001b[0;32m    389\u001b[0m                              \u001b[0msave_backup\u001b[0m\u001b[1;33m=\u001b[0m\u001b[0msave_backup\u001b[0m\u001b[1;33m,\u001b[0m \u001b[0mcache\u001b[0m\u001b[1;33m=\u001b[0m\u001b[0mcache\u001b[0m\u001b[1;33m,\u001b[0m\u001b[1;33m\u001b[0m\u001b[1;33m\u001b[0m\u001b[0m\n\u001b[1;32m--> 390\u001b[1;33m                              lazy_load_hdus=lazy_load_hdus, **kwargs)\n\u001b[0m\u001b[0;32m    391\u001b[0m \u001b[1;33m\u001b[0m\u001b[0m\n\u001b[0;32m    392\u001b[0m     \u001b[1;33m@\u001b[0m\u001b[0mclassmethod\u001b[0m\u001b[1;33m\u001b[0m\u001b[1;33m\u001b[0m\u001b[0m\n",
      "\u001b[1;32m~\\Anaconda3\\lib\\site-packages\\astropy\\io\\fits\\hdu\\hdulist.py\u001b[0m in \u001b[0;36m_readfrom\u001b[1;34m(cls, fileobj, data, mode, memmap, save_backup, cache, lazy_load_hdus, **kwargs)\u001b[0m\n\u001b[0;32m   1037\u001b[0m             \u001b[1;32mif\u001b[0m \u001b[1;32mnot\u001b[0m \u001b[0misinstance\u001b[0m\u001b[1;33m(\u001b[0m\u001b[0mfileobj\u001b[0m\u001b[1;33m,\u001b[0m \u001b[0m_File\u001b[0m\u001b[1;33m)\u001b[0m\u001b[1;33m:\u001b[0m\u001b[1;33m\u001b[0m\u001b[1;33m\u001b[0m\u001b[0m\n\u001b[0;32m   1038\u001b[0m                 \u001b[1;31m# instantiate a FITS file object (ffo)\u001b[0m\u001b[1;33m\u001b[0m\u001b[1;33m\u001b[0m\u001b[1;33m\u001b[0m\u001b[0m\n\u001b[1;32m-> 1039\u001b[1;33m                 \u001b[0mfileobj\u001b[0m \u001b[1;33m=\u001b[0m \u001b[0m_File\u001b[0m\u001b[1;33m(\u001b[0m\u001b[0mfileobj\u001b[0m\u001b[1;33m,\u001b[0m \u001b[0mmode\u001b[0m\u001b[1;33m=\u001b[0m\u001b[0mmode\u001b[0m\u001b[1;33m,\u001b[0m \u001b[0mmemmap\u001b[0m\u001b[1;33m=\u001b[0m\u001b[0mmemmap\u001b[0m\u001b[1;33m,\u001b[0m \u001b[0mcache\u001b[0m\u001b[1;33m=\u001b[0m\u001b[0mcache\u001b[0m\u001b[1;33m)\u001b[0m\u001b[1;33m\u001b[0m\u001b[1;33m\u001b[0m\u001b[0m\n\u001b[0m\u001b[0;32m   1040\u001b[0m             \u001b[1;31m# The Astropy mode is determined by the _File initializer if the\u001b[0m\u001b[1;33m\u001b[0m\u001b[1;33m\u001b[0m\u001b[1;33m\u001b[0m\u001b[0m\n\u001b[0;32m   1041\u001b[0m             \u001b[1;31m# supplied mode was None\u001b[0m\u001b[1;33m\u001b[0m\u001b[1;33m\u001b[0m\u001b[1;33m\u001b[0m\u001b[0m\n",
      "\u001b[1;32m~\\Anaconda3\\lib\\site-packages\\astropy\\utils\\decorators.py\u001b[0m in \u001b[0;36mwrapper\u001b[1;34m(*args, **kwargs)\u001b[0m\n\u001b[0;32m    519\u001b[0m                             \u001b[0mkwargs\u001b[0m\u001b[1;33m[\u001b[0m\u001b[0mnew_name\u001b[0m\u001b[1;33m[\u001b[0m\u001b[0mi\u001b[0m\u001b[1;33m]\u001b[0m\u001b[1;33m]\u001b[0m \u001b[1;33m=\u001b[0m \u001b[0mvalue\u001b[0m\u001b[1;33m\u001b[0m\u001b[1;33m\u001b[0m\u001b[0m\n\u001b[0;32m    520\u001b[0m \u001b[1;33m\u001b[0m\u001b[0m\n\u001b[1;32m--> 521\u001b[1;33m             \u001b[1;32mreturn\u001b[0m \u001b[0mfunction\u001b[0m\u001b[1;33m(\u001b[0m\u001b[1;33m*\u001b[0m\u001b[0margs\u001b[0m\u001b[1;33m,\u001b[0m \u001b[1;33m**\u001b[0m\u001b[0mkwargs\u001b[0m\u001b[1;33m)\u001b[0m\u001b[1;33m\u001b[0m\u001b[1;33m\u001b[0m\u001b[0m\n\u001b[0m\u001b[0;32m    522\u001b[0m \u001b[1;33m\u001b[0m\u001b[0m\n\u001b[0;32m    523\u001b[0m         \u001b[1;32mreturn\u001b[0m \u001b[0mwrapper\u001b[0m\u001b[1;33m\u001b[0m\u001b[1;33m\u001b[0m\u001b[0m\n",
      "\u001b[1;32m~\\Anaconda3\\lib\\site-packages\\astropy\\io\\fits\\file.py\u001b[0m in \u001b[0;36m__init__\u001b[1;34m(self, fileobj, mode, memmap, overwrite, cache)\u001b[0m\n\u001b[0;32m    176\u001b[0m             \u001b[0mself\u001b[0m\u001b[1;33m.\u001b[0m\u001b[0m_open_fileobj\u001b[0m\u001b[1;33m(\u001b[0m\u001b[0mfileobj\u001b[0m\u001b[1;33m,\u001b[0m \u001b[0mmode\u001b[0m\u001b[1;33m,\u001b[0m \u001b[0moverwrite\u001b[0m\u001b[1;33m)\u001b[0m\u001b[1;33m\u001b[0m\u001b[1;33m\u001b[0m\u001b[0m\n\u001b[0;32m    177\u001b[0m         \u001b[1;32melif\u001b[0m \u001b[0misinstance\u001b[0m\u001b[1;33m(\u001b[0m\u001b[0mfileobj\u001b[0m\u001b[1;33m,\u001b[0m \u001b[0mstr\u001b[0m\u001b[1;33m)\u001b[0m\u001b[1;33m:\u001b[0m\u001b[1;33m\u001b[0m\u001b[1;33m\u001b[0m\u001b[0m\n\u001b[1;32m--> 178\u001b[1;33m             \u001b[0mself\u001b[0m\u001b[1;33m.\u001b[0m\u001b[0m_open_filename\u001b[0m\u001b[1;33m(\u001b[0m\u001b[0mfileobj\u001b[0m\u001b[1;33m,\u001b[0m \u001b[0mmode\u001b[0m\u001b[1;33m,\u001b[0m \u001b[0moverwrite\u001b[0m\u001b[1;33m)\u001b[0m\u001b[1;33m\u001b[0m\u001b[1;33m\u001b[0m\u001b[0m\n\u001b[0m\u001b[0;32m    179\u001b[0m         \u001b[1;32melse\u001b[0m\u001b[1;33m:\u001b[0m\u001b[1;33m\u001b[0m\u001b[1;33m\u001b[0m\u001b[0m\n\u001b[0;32m    180\u001b[0m             \u001b[0mself\u001b[0m\u001b[1;33m.\u001b[0m\u001b[0m_open_filelike\u001b[0m\u001b[1;33m(\u001b[0m\u001b[0mfileobj\u001b[0m\u001b[1;33m,\u001b[0m \u001b[0mmode\u001b[0m\u001b[1;33m,\u001b[0m \u001b[0moverwrite\u001b[0m\u001b[1;33m)\u001b[0m\u001b[1;33m\u001b[0m\u001b[1;33m\u001b[0m\u001b[0m\n",
      "\u001b[1;32m~\\Anaconda3\\lib\\site-packages\\astropy\\io\\fits\\file.py\u001b[0m in \u001b[0;36m_open_filename\u001b[1;34m(self, filename, mode, overwrite)\u001b[0m\n\u001b[0;32m    553\u001b[0m \u001b[1;33m\u001b[0m\u001b[0m\n\u001b[0;32m    554\u001b[0m         \u001b[1;32mif\u001b[0m \u001b[1;32mnot\u001b[0m \u001b[0mself\u001b[0m\u001b[1;33m.\u001b[0m\u001b[0m_try_read_compressed\u001b[0m\u001b[1;33m(\u001b[0m\u001b[0mself\u001b[0m\u001b[1;33m.\u001b[0m\u001b[0mname\u001b[0m\u001b[1;33m,\u001b[0m \u001b[0mmagic\u001b[0m\u001b[1;33m,\u001b[0m \u001b[0mmode\u001b[0m\u001b[1;33m,\u001b[0m \u001b[0mext\u001b[0m\u001b[1;33m=\u001b[0m\u001b[0mext\u001b[0m\u001b[1;33m)\u001b[0m\u001b[1;33m:\u001b[0m\u001b[1;33m\u001b[0m\u001b[1;33m\u001b[0m\u001b[0m\n\u001b[1;32m--> 555\u001b[1;33m             \u001b[0mself\u001b[0m\u001b[1;33m.\u001b[0m\u001b[0m_file\u001b[0m \u001b[1;33m=\u001b[0m \u001b[0mfileobj_open\u001b[0m\u001b[1;33m(\u001b[0m\u001b[0mself\u001b[0m\u001b[1;33m.\u001b[0m\u001b[0mname\u001b[0m\u001b[1;33m,\u001b[0m \u001b[0mIO_FITS_MODES\u001b[0m\u001b[1;33m[\u001b[0m\u001b[0mmode\u001b[0m\u001b[1;33m]\u001b[0m\u001b[1;33m)\u001b[0m\u001b[1;33m\u001b[0m\u001b[1;33m\u001b[0m\u001b[0m\n\u001b[0m\u001b[0;32m    556\u001b[0m             \u001b[0mself\u001b[0m\u001b[1;33m.\u001b[0m\u001b[0mclose_on_error\u001b[0m \u001b[1;33m=\u001b[0m \u001b[1;32mTrue\u001b[0m\u001b[1;33m\u001b[0m\u001b[1;33m\u001b[0m\u001b[0m\n\u001b[0;32m    557\u001b[0m \u001b[1;33m\u001b[0m\u001b[0m\n",
      "\u001b[1;32m~\\Anaconda3\\lib\\site-packages\\astropy\\io\\fits\\util.py\u001b[0m in \u001b[0;36mfileobj_open\u001b[1;34m(filename, mode)\u001b[0m\n\u001b[0;32m    386\u001b[0m     \"\"\"\n\u001b[0;32m    387\u001b[0m \u001b[1;33m\u001b[0m\u001b[0m\n\u001b[1;32m--> 388\u001b[1;33m     \u001b[1;32mreturn\u001b[0m \u001b[0mopen\u001b[0m\u001b[1;33m(\u001b[0m\u001b[0mfilename\u001b[0m\u001b[1;33m,\u001b[0m \u001b[0mmode\u001b[0m\u001b[1;33m,\u001b[0m \u001b[0mbuffering\u001b[0m\u001b[1;33m=\u001b[0m\u001b[1;36m0\u001b[0m\u001b[1;33m)\u001b[0m\u001b[1;33m\u001b[0m\u001b[1;33m\u001b[0m\u001b[0m\n\u001b[0m\u001b[0;32m    389\u001b[0m \u001b[1;33m\u001b[0m\u001b[0m\n\u001b[0;32m    390\u001b[0m \u001b[1;33m\u001b[0m\u001b[0m\n",
      "\u001b[1;31mFileNotFoundError\u001b[0m: [Errno 2] No such file or directory: 'C:\\\\Users\\\\Kian//Box Sync/WFIRST_SIT_FILES/DebesModels/Model_Ring/ring_inc0_r0.2.fits'"
     ]
    }
   ],
   "source": [
    "im,zodi,outfits=disk_through_hlc(home+'/Box Sync/WFIRST_SIT_FILES/DebesModels/Model_Ring/ring_inc0_r0.2.fits',\n",
    "                                 thresh=5,display=True,load_existing=True)\n",
    "plt.show()"
   ]
  },
  {
   "cell_type": "code",
   "execution_count": 42,
   "metadata": {},
   "outputs": [],
   "source": [
    "inner=[s for s in debes_models if \"0.4\" in s]\n",
    "#on_axis.sort()\n",
    "debes_models.sort()#reverse=True)\n",
    "#gap.sort()\n",
    "subset=['/Users/edouglas/Box Sync/WFIRST_SIT_FILES/DebesModels/Model_Annulus/annulus_inc45_r0.2.fits',\n",
    " #'/Users/edouglas/Box Sync/WFIRST_SIT_FILES/DebesModels/Model_Annulus/annulus_inc45_r0.1.fits',\n",
    " #'/Users/edouglas//Box Sync/WFIRST_SIT_FILES/annulus_inc45_r0.4.fits',\n",
    "       ]"
   ]
  },
  {
   "cell_type": "code",
   "execution_count": 43,
   "metadata": {},
   "outputs": [
    {
     "name": "stdout",
     "output_type": "stream",
     "text": [
      "localzodi.fits\n"
     ]
    },
    {
     "ename": "FileNotFoundError",
     "evalue": "[Errno 2] No such file or directory: 'localzodi.fits'",
     "output_type": "error",
     "traceback": [
      "\u001b[1;31m---------------------------------------------------------------------------\u001b[0m",
      "\u001b[1;31mFileNotFoundError\u001b[0m                         Traceback (most recent call last)",
      "\u001b[1;32m<ipython-input-43-010b347a61b0>\u001b[0m in \u001b[0;36m<module>\u001b[1;34m\u001b[0m\n\u001b[0;32m     63\u001b[0m \u001b[1;33m\u001b[0m\u001b[0m\n\u001b[0;32m     64\u001b[0m \u001b[1;32mfor\u001b[0m \u001b[0mmodel\u001b[0m \u001b[1;32min\u001b[0m \u001b[1;33m[\u001b[0m\u001b[1;34m\"localzodi.fits\"\u001b[0m\u001b[1;33m]\u001b[0m\u001b[1;33m:\u001b[0m\u001b[1;33m\u001b[0m\u001b[1;33m\u001b[0m\u001b[0m\n\u001b[1;32m---> 65\u001b[1;33m     \u001b[0mprocess_file\u001b[0m\u001b[1;33m(\u001b[0m\u001b[0mmodel\u001b[0m\u001b[1;33m)\u001b[0m\u001b[1;33m\u001b[0m\u001b[1;33m\u001b[0m\u001b[0m\n\u001b[0m",
      "\u001b[1;32m<ipython-input-43-010b347a61b0>\u001b[0m in \u001b[0;36mprocess_file\u001b[1;34m(model)\u001b[0m\n\u001b[0;32m      5\u001b[0m \u001b[1;32mdef\u001b[0m \u001b[0mprocess_file\u001b[0m\u001b[1;33m(\u001b[0m\u001b[0mmodel\u001b[0m\u001b[1;33m)\u001b[0m\u001b[1;33m:\u001b[0m\u001b[1;33m\u001b[0m\u001b[1;33m\u001b[0m\u001b[0m\n\u001b[0;32m      6\u001b[0m     \u001b[0mprint\u001b[0m\u001b[1;33m(\u001b[0m\u001b[0mmodel\u001b[0m\u001b[1;33m)\u001b[0m\u001b[1;33m\u001b[0m\u001b[1;33m\u001b[0m\u001b[0m\n\u001b[1;32m----> 7\u001b[1;33m     \u001b[0mzodi_r_axis\u001b[0m\u001b[1;33m,\u001b[0m\u001b[0mzodi_ravg\u001b[0m\u001b[1;33m=\u001b[0m\u001b[0mpoppy\u001b[0m\u001b[1;33m.\u001b[0m\u001b[0mutils\u001b[0m\u001b[1;33m.\u001b[0m\u001b[0mradial_profile\u001b[0m\u001b[1;33m(\u001b[0m\u001b[0mmodel\u001b[0m\u001b[1;33m)\u001b[0m\u001b[1;33m\u001b[0m\u001b[1;33m\u001b[0m\u001b[0m\n\u001b[0m\u001b[0;32m      8\u001b[0m \u001b[1;33m\u001b[0m\u001b[0m\n\u001b[0;32m      9\u001b[0m \u001b[1;33m\u001b[0m\u001b[0m\n",
      "\u001b[1;32m~\\Anaconda3\\lib\\site-packages\\poppy\\utils.py\u001b[0m in \u001b[0;36mradial_profile\u001b[1;34m(hdulist_or_filename, ext, ee, center, stddev, binsize, maxradius, normalize, pa_range)\u001b[0m\n\u001b[0;32m    555\u001b[0m     \"\"\"\n\u001b[0;32m    556\u001b[0m     \u001b[1;32mif\u001b[0m \u001b[0misinstance\u001b[0m\u001b[1;33m(\u001b[0m\u001b[0mhdulist_or_filename\u001b[0m\u001b[1;33m,\u001b[0m \u001b[0mstr\u001b[0m\u001b[1;33m)\u001b[0m\u001b[1;33m:\u001b[0m\u001b[1;33m\u001b[0m\u001b[1;33m\u001b[0m\u001b[0m\n\u001b[1;32m--> 557\u001b[1;33m         \u001b[0mhdu_list\u001b[0m \u001b[1;33m=\u001b[0m \u001b[0mfits\u001b[0m\u001b[1;33m.\u001b[0m\u001b[0mopen\u001b[0m\u001b[1;33m(\u001b[0m\u001b[0mhdulist_or_filename\u001b[0m\u001b[1;33m)\u001b[0m\u001b[1;33m\u001b[0m\u001b[1;33m\u001b[0m\u001b[0m\n\u001b[0m\u001b[0;32m    558\u001b[0m     \u001b[1;32melif\u001b[0m \u001b[0misinstance\u001b[0m\u001b[1;33m(\u001b[0m\u001b[0mhdulist_or_filename\u001b[0m\u001b[1;33m,\u001b[0m \u001b[0mfits\u001b[0m\u001b[1;33m.\u001b[0m\u001b[0mHDUList\u001b[0m\u001b[1;33m)\u001b[0m\u001b[1;33m:\u001b[0m\u001b[1;33m\u001b[0m\u001b[1;33m\u001b[0m\u001b[0m\n\u001b[0;32m    559\u001b[0m         \u001b[0mhdu_list\u001b[0m \u001b[1;33m=\u001b[0m \u001b[0mhdulist_or_filename\u001b[0m\u001b[1;33m\u001b[0m\u001b[1;33m\u001b[0m\u001b[0m\n",
      "\u001b[1;32m~\\Anaconda3\\lib\\site-packages\\astropy\\io\\fits\\hdu\\hdulist.py\u001b[0m in \u001b[0;36mfitsopen\u001b[1;34m(name, mode, memmap, save_backup, cache, lazy_load_hdus, **kwargs)\u001b[0m\n\u001b[0;32m    149\u001b[0m \u001b[1;33m\u001b[0m\u001b[0m\n\u001b[0;32m    150\u001b[0m     return HDUList.fromfile(name, mode, memmap, save_backup, cache,\n\u001b[1;32m--> 151\u001b[1;33m                             lazy_load_hdus, **kwargs)\n\u001b[0m\u001b[0;32m    152\u001b[0m \u001b[1;33m\u001b[0m\u001b[0m\n\u001b[0;32m    153\u001b[0m \u001b[1;33m\u001b[0m\u001b[0m\n",
      "\u001b[1;32m~\\Anaconda3\\lib\\site-packages\\astropy\\io\\fits\\hdu\\hdulist.py\u001b[0m in \u001b[0;36mfromfile\u001b[1;34m(cls, fileobj, mode, memmap, save_backup, cache, lazy_load_hdus, **kwargs)\u001b[0m\n\u001b[0;32m    388\u001b[0m         return cls._readfrom(fileobj=fileobj, mode=mode, memmap=memmap,\n\u001b[0;32m    389\u001b[0m                              \u001b[0msave_backup\u001b[0m\u001b[1;33m=\u001b[0m\u001b[0msave_backup\u001b[0m\u001b[1;33m,\u001b[0m \u001b[0mcache\u001b[0m\u001b[1;33m=\u001b[0m\u001b[0mcache\u001b[0m\u001b[1;33m,\u001b[0m\u001b[1;33m\u001b[0m\u001b[1;33m\u001b[0m\u001b[0m\n\u001b[1;32m--> 390\u001b[1;33m                              lazy_load_hdus=lazy_load_hdus, **kwargs)\n\u001b[0m\u001b[0;32m    391\u001b[0m \u001b[1;33m\u001b[0m\u001b[0m\n\u001b[0;32m    392\u001b[0m     \u001b[1;33m@\u001b[0m\u001b[0mclassmethod\u001b[0m\u001b[1;33m\u001b[0m\u001b[1;33m\u001b[0m\u001b[0m\n",
      "\u001b[1;32m~\\Anaconda3\\lib\\site-packages\\astropy\\io\\fits\\hdu\\hdulist.py\u001b[0m in \u001b[0;36m_readfrom\u001b[1;34m(cls, fileobj, data, mode, memmap, save_backup, cache, lazy_load_hdus, **kwargs)\u001b[0m\n\u001b[0;32m   1037\u001b[0m             \u001b[1;32mif\u001b[0m \u001b[1;32mnot\u001b[0m \u001b[0misinstance\u001b[0m\u001b[1;33m(\u001b[0m\u001b[0mfileobj\u001b[0m\u001b[1;33m,\u001b[0m \u001b[0m_File\u001b[0m\u001b[1;33m)\u001b[0m\u001b[1;33m:\u001b[0m\u001b[1;33m\u001b[0m\u001b[1;33m\u001b[0m\u001b[0m\n\u001b[0;32m   1038\u001b[0m                 \u001b[1;31m# instantiate a FITS file object (ffo)\u001b[0m\u001b[1;33m\u001b[0m\u001b[1;33m\u001b[0m\u001b[1;33m\u001b[0m\u001b[0m\n\u001b[1;32m-> 1039\u001b[1;33m                 \u001b[0mfileobj\u001b[0m \u001b[1;33m=\u001b[0m \u001b[0m_File\u001b[0m\u001b[1;33m(\u001b[0m\u001b[0mfileobj\u001b[0m\u001b[1;33m,\u001b[0m \u001b[0mmode\u001b[0m\u001b[1;33m=\u001b[0m\u001b[0mmode\u001b[0m\u001b[1;33m,\u001b[0m \u001b[0mmemmap\u001b[0m\u001b[1;33m=\u001b[0m\u001b[0mmemmap\u001b[0m\u001b[1;33m,\u001b[0m \u001b[0mcache\u001b[0m\u001b[1;33m=\u001b[0m\u001b[0mcache\u001b[0m\u001b[1;33m)\u001b[0m\u001b[1;33m\u001b[0m\u001b[1;33m\u001b[0m\u001b[0m\n\u001b[0m\u001b[0;32m   1040\u001b[0m             \u001b[1;31m# The Astropy mode is determined by the _File initializer if the\u001b[0m\u001b[1;33m\u001b[0m\u001b[1;33m\u001b[0m\u001b[1;33m\u001b[0m\u001b[0m\n\u001b[0;32m   1041\u001b[0m             \u001b[1;31m# supplied mode was None\u001b[0m\u001b[1;33m\u001b[0m\u001b[1;33m\u001b[0m\u001b[1;33m\u001b[0m\u001b[0m\n",
      "\u001b[1;32m~\\Anaconda3\\lib\\site-packages\\astropy\\utils\\decorators.py\u001b[0m in \u001b[0;36mwrapper\u001b[1;34m(*args, **kwargs)\u001b[0m\n\u001b[0;32m    519\u001b[0m                             \u001b[0mkwargs\u001b[0m\u001b[1;33m[\u001b[0m\u001b[0mnew_name\u001b[0m\u001b[1;33m[\u001b[0m\u001b[0mi\u001b[0m\u001b[1;33m]\u001b[0m\u001b[1;33m]\u001b[0m \u001b[1;33m=\u001b[0m \u001b[0mvalue\u001b[0m\u001b[1;33m\u001b[0m\u001b[1;33m\u001b[0m\u001b[0m\n\u001b[0;32m    520\u001b[0m \u001b[1;33m\u001b[0m\u001b[0m\n\u001b[1;32m--> 521\u001b[1;33m             \u001b[1;32mreturn\u001b[0m \u001b[0mfunction\u001b[0m\u001b[1;33m(\u001b[0m\u001b[1;33m*\u001b[0m\u001b[0margs\u001b[0m\u001b[1;33m,\u001b[0m \u001b[1;33m**\u001b[0m\u001b[0mkwargs\u001b[0m\u001b[1;33m)\u001b[0m\u001b[1;33m\u001b[0m\u001b[1;33m\u001b[0m\u001b[0m\n\u001b[0m\u001b[0;32m    522\u001b[0m \u001b[1;33m\u001b[0m\u001b[0m\n\u001b[0;32m    523\u001b[0m         \u001b[1;32mreturn\u001b[0m \u001b[0mwrapper\u001b[0m\u001b[1;33m\u001b[0m\u001b[1;33m\u001b[0m\u001b[0m\n",
      "\u001b[1;32m~\\Anaconda3\\lib\\site-packages\\astropy\\io\\fits\\file.py\u001b[0m in \u001b[0;36m__init__\u001b[1;34m(self, fileobj, mode, memmap, overwrite, cache)\u001b[0m\n\u001b[0;32m    176\u001b[0m             \u001b[0mself\u001b[0m\u001b[1;33m.\u001b[0m\u001b[0m_open_fileobj\u001b[0m\u001b[1;33m(\u001b[0m\u001b[0mfileobj\u001b[0m\u001b[1;33m,\u001b[0m \u001b[0mmode\u001b[0m\u001b[1;33m,\u001b[0m \u001b[0moverwrite\u001b[0m\u001b[1;33m)\u001b[0m\u001b[1;33m\u001b[0m\u001b[1;33m\u001b[0m\u001b[0m\n\u001b[0;32m    177\u001b[0m         \u001b[1;32melif\u001b[0m \u001b[0misinstance\u001b[0m\u001b[1;33m(\u001b[0m\u001b[0mfileobj\u001b[0m\u001b[1;33m,\u001b[0m \u001b[0mstr\u001b[0m\u001b[1;33m)\u001b[0m\u001b[1;33m:\u001b[0m\u001b[1;33m\u001b[0m\u001b[1;33m\u001b[0m\u001b[0m\n\u001b[1;32m--> 178\u001b[1;33m             \u001b[0mself\u001b[0m\u001b[1;33m.\u001b[0m\u001b[0m_open_filename\u001b[0m\u001b[1;33m(\u001b[0m\u001b[0mfileobj\u001b[0m\u001b[1;33m,\u001b[0m \u001b[0mmode\u001b[0m\u001b[1;33m,\u001b[0m \u001b[0moverwrite\u001b[0m\u001b[1;33m)\u001b[0m\u001b[1;33m\u001b[0m\u001b[1;33m\u001b[0m\u001b[0m\n\u001b[0m\u001b[0;32m    179\u001b[0m         \u001b[1;32melse\u001b[0m\u001b[1;33m:\u001b[0m\u001b[1;33m\u001b[0m\u001b[1;33m\u001b[0m\u001b[0m\n\u001b[0;32m    180\u001b[0m             \u001b[0mself\u001b[0m\u001b[1;33m.\u001b[0m\u001b[0m_open_filelike\u001b[0m\u001b[1;33m(\u001b[0m\u001b[0mfileobj\u001b[0m\u001b[1;33m,\u001b[0m \u001b[0mmode\u001b[0m\u001b[1;33m,\u001b[0m \u001b[0moverwrite\u001b[0m\u001b[1;33m)\u001b[0m\u001b[1;33m\u001b[0m\u001b[1;33m\u001b[0m\u001b[0m\n",
      "\u001b[1;32m~\\Anaconda3\\lib\\site-packages\\astropy\\io\\fits\\file.py\u001b[0m in \u001b[0;36m_open_filename\u001b[1;34m(self, filename, mode, overwrite)\u001b[0m\n\u001b[0;32m    553\u001b[0m \u001b[1;33m\u001b[0m\u001b[0m\n\u001b[0;32m    554\u001b[0m         \u001b[1;32mif\u001b[0m \u001b[1;32mnot\u001b[0m \u001b[0mself\u001b[0m\u001b[1;33m.\u001b[0m\u001b[0m_try_read_compressed\u001b[0m\u001b[1;33m(\u001b[0m\u001b[0mself\u001b[0m\u001b[1;33m.\u001b[0m\u001b[0mname\u001b[0m\u001b[1;33m,\u001b[0m \u001b[0mmagic\u001b[0m\u001b[1;33m,\u001b[0m \u001b[0mmode\u001b[0m\u001b[1;33m,\u001b[0m \u001b[0mext\u001b[0m\u001b[1;33m=\u001b[0m\u001b[0mext\u001b[0m\u001b[1;33m)\u001b[0m\u001b[1;33m:\u001b[0m\u001b[1;33m\u001b[0m\u001b[1;33m\u001b[0m\u001b[0m\n\u001b[1;32m--> 555\u001b[1;33m             \u001b[0mself\u001b[0m\u001b[1;33m.\u001b[0m\u001b[0m_file\u001b[0m \u001b[1;33m=\u001b[0m \u001b[0mfileobj_open\u001b[0m\u001b[1;33m(\u001b[0m\u001b[0mself\u001b[0m\u001b[1;33m.\u001b[0m\u001b[0mname\u001b[0m\u001b[1;33m,\u001b[0m \u001b[0mIO_FITS_MODES\u001b[0m\u001b[1;33m[\u001b[0m\u001b[0mmode\u001b[0m\u001b[1;33m]\u001b[0m\u001b[1;33m)\u001b[0m\u001b[1;33m\u001b[0m\u001b[1;33m\u001b[0m\u001b[0m\n\u001b[0m\u001b[0;32m    556\u001b[0m             \u001b[0mself\u001b[0m\u001b[1;33m.\u001b[0m\u001b[0mclose_on_error\u001b[0m \u001b[1;33m=\u001b[0m \u001b[1;32mTrue\u001b[0m\u001b[1;33m\u001b[0m\u001b[1;33m\u001b[0m\u001b[0m\n\u001b[0;32m    557\u001b[0m \u001b[1;33m\u001b[0m\u001b[0m\n",
      "\u001b[1;32m~\\Anaconda3\\lib\\site-packages\\astropy\\io\\fits\\util.py\u001b[0m in \u001b[0;36mfileobj_open\u001b[1;34m(filename, mode)\u001b[0m\n\u001b[0;32m    386\u001b[0m     \"\"\"\n\u001b[0;32m    387\u001b[0m \u001b[1;33m\u001b[0m\u001b[0m\n\u001b[1;32m--> 388\u001b[1;33m     \u001b[1;32mreturn\u001b[0m \u001b[0mopen\u001b[0m\u001b[1;33m(\u001b[0m\u001b[0mfilename\u001b[0m\u001b[1;33m,\u001b[0m \u001b[0mmode\u001b[0m\u001b[1;33m,\u001b[0m \u001b[0mbuffering\u001b[0m\u001b[1;33m=\u001b[0m\u001b[1;36m0\u001b[0m\u001b[1;33m)\u001b[0m\u001b[1;33m\u001b[0m\u001b[1;33m\u001b[0m\u001b[0m\n\u001b[0m\u001b[0;32m    389\u001b[0m \u001b[1;33m\u001b[0m\u001b[0m\n\u001b[0;32m    390\u001b[0m \u001b[1;33m\u001b[0m\u001b[0m\n",
      "\u001b[1;31mFileNotFoundError\u001b[0m: [Errno 2] No such file or directory: 'localzodi.fits'"
     ]
    }
   ],
   "source": [
    "import traceback\n",
    "\n",
    "\n",
    "    \n",
    "def process_file(model):\n",
    "    print(model)\n",
    "    zodi_r_axis,zodi_ravg=poppy.utils.radial_profile(model)\n",
    "\n",
    "    \n",
    "    try:    \n",
    "        if model.find(\"zodipic\") == 0:\n",
    "            thresh=2500\n",
    "            zoomf=1\n",
    "            zodi_r_axis=zodi_r_axis/1000\n",
    "        else:\n",
    "            thresh=1/im.min()\n",
    "            zoomf=2\n",
    "        plt.figure(figsize=[9,4])\n",
    "\n",
    "        im,zodi_fits,outfile=disk_through_hlc(model,thresh=thresh,\n",
    "                                              display=True,\n",
    "                                              load_existing=False,\n",
    "                           #y_extent=float(model[-8:-5])*zoomf,\n",
    "                           #x_extent=float(model[-8:-5])*zoomf,\n",
    "                                             localzodi=localzodi)\n",
    "        out_HDU = fits.HDUList([fits.PrimaryHDU([im])])\n",
    "        out_HDU[0].header = zodifits.header\n",
    "        out_HDU[0].header[\"LOCALZODI\"]=localzodi\n",
    "        out_HDU[0].header[\"PIXELSCL\"]=HLC_plate_scale.value\n",
    "        if localzodi ==0:\n",
    "            file = model.split(\"/\")[-1][:-4]+'_HLC.fits'\n",
    "            path = model.split(\"/\")[-1][:-4]+'_HLC.fits'\n",
    "        else:\n",
    "            file = model.split(\"/\")[-1][:-4]+'_localHLC.fits'\n",
    "            path = model.split(\"/\")[-1][:-4]+'_localHLC.fits'\n",
    "        out_HDU.write(outfits,overwrite=True)\n",
    "        plt.savefig(model[:-4]+'_HLC.png')\n",
    "        plt.figure(figsize=[4,3])\n",
    "        ax=plt.subplot(111)#,aspect='equal')\n",
    "        #ax.set_aspect(1)\n",
    "\n",
    "        r_axis,ravg=poppy.utils.radial_profile(fits.HDUList([fits.ImageHDU(im,header=HLC_header)]))\n",
    "\n",
    "        ax.plot(zodi_r_axis,zodi_ravg/np.nanmax(zodi_ravg),'-.',label=\"Input\")\n",
    "\n",
    "        ax.plot([lambda_D.decompose()*206265*3,lambda_D.decompose()*206265*3],[1e-12, 1],'--',color=\"orange\")\n",
    "        ax.text(lambda_D.decompose()*206265*2.2,.85,\"IWA\",color=\"orange\")\n",
    "\n",
    "        ax.plot(r_axis,ravg/ravg.max(),label=\"HLC output\")\n",
    "        ax.set_ylim([.1,1])\n",
    "        ax.set_xlim([-.05,.5])\n",
    "\n",
    "        #plt.yscale(\"log\")\n",
    "        plt.xlabel(\"$\\prime\\prime$\")\n",
    "        plt.ylabel(\"Normalized flux\")\n",
    "        plt.legend()\n",
    "        plt.savefig(model[:-4]+'_HLC_curve.png',bbox_inches=\"tight\")\n",
    "        plt.close()\n",
    "\n",
    "    except Exception as err:\n",
    "        traceback.print_last()\n",
    "        #traceback.print_tb(err.__traceback__)\n",
    "\n",
    "for model in [\"localzodi.fits\"]:\n",
    "    process_file(model)"
   ]
  },
  {
   "cell_type": "code",
   "execution_count": 44,
   "metadata": {},
   "outputs": [
    {
     "ename": "NameError",
     "evalue": "name 'out_HDU' is not defined",
     "output_type": "error",
     "traceback": [
      "\u001b[1;31m---------------------------------------------------------------------------\u001b[0m",
      "\u001b[1;31mNameError\u001b[0m                                 Traceback (most recent call last)",
      "\u001b[1;32m<ipython-input-44-ea7f8dbf2591>\u001b[0m in \u001b[0;36m<module>\u001b[1;34m\u001b[0m\n\u001b[1;32m----> 1\u001b[1;33m \u001b[0mout_HDU\u001b[0m\u001b[1;33m.\u001b[0m\u001b[0mwriteto\u001b[0m\u001b[1;33m(\u001b[0m\u001b[0moutfits\u001b[0m\u001b[1;33m,\u001b[0m\u001b[0moverwrite\u001b[0m\u001b[1;33m=\u001b[0m\u001b[1;32mFalse\u001b[0m\u001b[1;33m)\u001b[0m\u001b[1;33m\u001b[0m\u001b[1;33m\u001b[0m\u001b[0m\n\u001b[0m\u001b[0;32m      2\u001b[0m \u001b[1;33m\u001b[0m\u001b[0m\n",
      "\u001b[1;31mNameError\u001b[0m: name 'out_HDU' is not defined"
     ]
    }
   ],
   "source": [
    "out_HDU.writeto(outfits,overwrite=False)\n",
    "\n"
   ]
  },
  {
   "cell_type": "markdown",
   "metadata": {},
   "source": [
    "## Time PSF generation\n",
    "as a function of  oversampling"
   ]
  },
  {
   "cell_type": "code",
   "execution_count": null,
   "metadata": {},
   "outputs": [],
   "source": []
  },
  {
   "cell_type": "code",
   "execution_count": null,
   "metadata": {},
   "outputs": [],
   "source": []
  },
  {
   "cell_type": "code",
   "execution_count": 45,
   "metadata": {},
   "outputs": [
    {
     "ename": "NameError",
     "evalue": "name 'ifs_spc' is not defined",
     "output_type": "error",
     "traceback": [
      "\u001b[1;31m---------------------------------------------------------------------------\u001b[0m",
      "\u001b[1;31mNameError\u001b[0m                                 Traceback (most recent call last)",
      "\u001b[1;32m<ipython-input-45-c8da815a74df>\u001b[0m in \u001b[0;36m<module>\u001b[1;34m\u001b[0m\n\u001b[1;32m----> 1\u001b[1;33m \u001b[0mifs_spc\u001b[0m\u001b[1;33m.\u001b[0m\u001b[0moutput_mode\u001b[0m \u001b[1;33m=\u001b[0m \u001b[1;34m'Detector sampled image'\u001b[0m\u001b[1;33m\u001b[0m\u001b[1;33m\u001b[0m\u001b[0m\n\u001b[0m\u001b[0;32m      2\u001b[0m \u001b[0mget_ipython\u001b[0m\u001b[1;33m(\u001b[0m\u001b[1;33m)\u001b[0m\u001b[1;33m.\u001b[0m\u001b[0mrun_line_magic\u001b[0m\u001b[1;33m(\u001b[0m\u001b[1;34m'timeit'\u001b[0m\u001b[1;33m,\u001b[0m \u001b[1;34m'cube=hlc_processing.cartesian_off_axis_psf_interpol(ifs_spc,0,0,wavelengths,fov_arcsec=FOV,oversample=2, display=False)'\u001b[0m\u001b[1;33m)\u001b[0m\u001b[1;33m\u001b[0m\u001b[1;33m\u001b[0m\u001b[0m\n\u001b[0;32m      3\u001b[0m \u001b[0mifs_spc\u001b[0m\u001b[1;33m.\u001b[0m\u001b[0moutput_mode\u001b[0m \u001b[1;33m=\u001b[0m \u001b[1;34m'Oversampled image'\u001b[0m\u001b[1;33m\u001b[0m\u001b[1;33m\u001b[0m\u001b[0m\n\u001b[0;32m      4\u001b[0m \u001b[0mget_ipython\u001b[0m\u001b[1;33m(\u001b[0m\u001b[1;33m)\u001b[0m\u001b[1;33m.\u001b[0m\u001b[0mrun_line_magic\u001b[0m\u001b[1;33m(\u001b[0m\u001b[1;34m'timeit'\u001b[0m\u001b[1;33m,\u001b[0m \u001b[1;34m'cube=hlc_processing.cartesian_off_axis_psf_interpol(ifs_spc,0,0,wavelengths,fov_arcsec=FOV,oversample=2, display=False)'\u001b[0m\u001b[1;33m)\u001b[0m\u001b[1;33m\u001b[0m\u001b[1;33m\u001b[0m\u001b[0m\n",
      "\u001b[1;31mNameError\u001b[0m: name 'ifs_spc' is not defined"
     ]
    }
   ],
   "source": [
    "ifs_spc.output_mode = 'Detector sampled image'\n",
    "%timeit cube=hlc_processing.cartesian_off_axis_psf_interpol(ifs_spc,0,0,wavelengths,fov_arcsec=FOV,oversample=2, display=False)\n",
    "ifs_spc.output_mode = 'Oversampled image'\n",
    "%timeit cube=hlc_processing.cartesian_off_axis_psf_interpol(ifs_spc,0,0,wavelengths,fov_arcsec=FOV,oversample=2, display=False)\n"
   ]
  },
  {
   "cell_type": "code",
   "execution_count": 46,
   "metadata": {},
   "outputs": [
    {
     "ename": "NameError",
     "evalue": "name 'n_thresh' is not defined",
     "output_type": "error",
     "traceback": [
      "\u001b[1;31m---------------------------------------------------------------------------\u001b[0m",
      "\u001b[1;31mNameError\u001b[0m                                 Traceback (most recent call last)",
      "\u001b[1;32m<ipython-input-46-8dadd1ef1e5b>\u001b[0m in \u001b[0;36m<module>\u001b[1;34m\u001b[0m\n\u001b[0;32m      2\u001b[0m \u001b[1;31m#on my machine each PSF takes about 500 milliseconds\u001b[0m\u001b[1;33m\u001b[0m\u001b[1;33m\u001b[0m\u001b[1;33m\u001b[0m\u001b[0m\n\u001b[0;32m      3\u001b[0m \u001b[1;33m\u001b[0m\u001b[0m\n\u001b[1;32m----> 4\u001b[1;33m \u001b[0mprint\u001b[0m\u001b[1;33m(\u001b[0m\u001b[1;34m\"predicting %.2g minute run time\"\u001b[0m\u001b[1;33m%\u001b[0m\u001b[1;33m(\u001b[0m\u001b[0mn_thresh\u001b[0m\u001b[1;33m*\u001b[0m\u001b[1;36m.5\u001b[0m\u001b[1;33m/\u001b[0m\u001b[1;36m60.\u001b[0m\u001b[1;33m)\u001b[0m\u001b[1;33m)\u001b[0m\u001b[1;33m\u001b[0m\u001b[1;33m\u001b[0m\u001b[0m\n\u001b[0m",
      "\u001b[1;31mNameError\u001b[0m: name 'n_thresh' is not defined"
     ]
    }
   ],
   "source": [
    "#predict time it will take to process one band\n",
    "#on my machine each PSF takes about 500 milliseconds\n",
    "\n",
    "print(\"predicting %.2g minute run time\"%(n_thresh*.5/60.))\n"
   ]
  },
  {
   "cell_type": "markdown",
   "metadata": {},
   "source": [
    "## generate an on-axis PSF"
   ]
  },
  {
   "cell_type": "code",
   "execution_count": null,
   "metadata": {},
   "outputs": [],
   "source": []
  },
  {
   "cell_type": "code",
   "execution_count": 47,
   "metadata": {},
   "outputs": [
    {
     "ename": "NameError",
     "evalue": "name 'ifs_spc' is not defined",
     "output_type": "error",
     "traceback": [
      "\u001b[1;31m---------------------------------------------------------------------------\u001b[0m",
      "\u001b[1;31mNameError\u001b[0m                                 Traceback (most recent call last)",
      "\u001b[1;32m<ipython-input-47-09c4f97de911>\u001b[0m in \u001b[0;36m<module>\u001b[1;34m\u001b[0m\n\u001b[0;32m      1\u001b[0m \u001b[1;31m#xvals = [-0.55,0,0.55]#\u001b[0m\u001b[1;33m\u001b[0m\u001b[1;33m\u001b[0m\u001b[1;33m\u001b[0m\u001b[0m\n\u001b[0;32m      2\u001b[0m \u001b[1;31m#yvals= xvals\u001b[0m\u001b[1;33m\u001b[0m\u001b[1;33m\u001b[0m\u001b[1;33m\u001b[0m\u001b[0m\n\u001b[1;32m----> 3\u001b[1;33m \u001b[0mifs_spc\u001b[0m\u001b[1;33m.\u001b[0m\u001b[0mautoselect_mode\u001b[0m\u001b[1;33m(\u001b[0m\u001b[0mwavelengths\u001b[0m\u001b[1;33m[\u001b[0m\u001b[1;36m0\u001b[0m\u001b[1;33m]\u001b[0m\u001b[1;33m)\u001b[0m\u001b[1;33m\u001b[0m\u001b[1;33m\u001b[0m\u001b[0m\n\u001b[0m\u001b[0;32m      4\u001b[0m proto_psf=cartesian_off_axis_psf(ifs_spc,\n\u001b[0;32m      5\u001b[0m                        \u001b[1;36m0\u001b[0m\u001b[1;33m,\u001b[0m\u001b[1;36m0\u001b[0m\u001b[1;33m,\u001b[0m\u001b[1;33m\u001b[0m\u001b[1;33m\u001b[0m\u001b[0m\n",
      "\u001b[1;31mNameError\u001b[0m: name 'ifs_spc' is not defined"
     ]
    }
   ],
   "source": [
    "#xvals = [-0.55,0,0.55]#\n",
    "#yvals= xvals\n",
    "ifs_spc.autoselect_mode(wavelengths[0])\n",
    "proto_psf=cartesian_off_axis_psf(ifs_spc,\n",
    "                       0,0,\n",
    "                       [wavelengths[0]],\n",
    "                       fov_arcsec=FOV, oversample=2, display=False)\n",
    "proto_psf[0].data = input_cube[0,center,center]*proto_psf[0].data\n",
    "\n",
    "poppy.display_PSF(fits.HDUList([fits.PrimaryHDU(proto_psf[0].data[0],\n",
    "                                                header=proto_psf[0].header)]),\n",
    "                  vmax=1e-8,\n",
    "                  vmin=1e-16)"
   ]
  },
  {
   "cell_type": "code",
   "execution_count": 48,
   "metadata": {
    "scrolled": true
   },
   "outputs": [
    {
     "ename": "NameError",
     "evalue": "name 'wavelengths' is not defined",
     "output_type": "error",
     "traceback": [
      "\u001b[1;31m---------------------------------------------------------------------------\u001b[0m",
      "\u001b[1;31mNameError\u001b[0m                                 Traceback (most recent call last)",
      "\u001b[1;32m<ipython-input-48-8d97a7a8ad1d>\u001b[0m in \u001b[0;36m<module>\u001b[1;34m\u001b[0m\n\u001b[0;32m      2\u001b[0m \u001b[0mon_axis_psfs\u001b[0m\u001b[1;33m=\u001b[0m\u001b[1;33m[\u001b[0m\u001b[1;33m]\u001b[0m\u001b[1;33m\u001b[0m\u001b[1;33m\u001b[0m\u001b[0m\n\u001b[0;32m      3\u001b[0m \u001b[1;33m\u001b[0m\u001b[0m\n\u001b[1;32m----> 4\u001b[1;33m \u001b[1;32mfor\u001b[0m \u001b[0mwavelen\u001b[0m \u001b[1;32min\u001b[0m \u001b[0mwavelengths\u001b[0m\u001b[1;33m:\u001b[0m\u001b[1;33m\u001b[0m\u001b[1;33m\u001b[0m\u001b[0m\n\u001b[0m\u001b[0;32m      5\u001b[0m     \u001b[0mifs_spc\u001b[0m\u001b[1;33m.\u001b[0m\u001b[0mautoselect_mode\u001b[0m\u001b[1;33m(\u001b[0m\u001b[0mwavelen\u001b[0m\u001b[1;33m)\u001b[0m\u001b[1;33m\u001b[0m\u001b[1;33m\u001b[0m\u001b[0m\n\u001b[0;32m      6\u001b[0m     \u001b[0mprint\u001b[0m\u001b[1;33m(\u001b[0m\u001b[0mwavelen\u001b[0m\u001b[1;33m,\u001b[0m\u001b[0mifs_spc\u001b[0m\u001b[1;33m.\u001b[0m\u001b[0mmode\u001b[0m\u001b[1;33m)\u001b[0m\u001b[1;33m\u001b[0m\u001b[1;33m\u001b[0m\u001b[0m\n",
      "\u001b[1;31mNameError\u001b[0m: name 'wavelengths' is not defined"
     ]
    }
   ],
   "source": [
    "wavelength_cubes=[]\n",
    "on_axis_psfs=[]\n",
    "\n",
    "for wavelen in wavelengths:\n",
    "    ifs_spc.autoselect_mode(wavelen)\n",
    "    print(wavelen,ifs_spc.mode)\n",
    "    oversample=2\n",
    "    proto_psf=cartesian_off_axis_psf(ifs_spc,\n",
    "                       0,0,\n",
    "                       [wavelen],\n",
    "                       fov_arcsec=FOV, oversample=oversample,\n",
    "                                     display=False)\n",
    "\n",
    "    proto_psf[0].data = input_cube[0,center,center]*proto_psf[0].data\n",
    "    on_axis_psfs.append(proto_psf)\n",
    "    cube=np.zeros(proto_psf[0].data.shape)\n",
    "\n",
    "    for x in range(nx):\n",
    "        for y in range(ny):\n",
    "            if  input_cube[0,y,x] <thresh:\n",
    "                continue\n",
    "            psf=cartesian_off_axis_psf(ifs_spc,\n",
    "                       xas[y,x],yas[y,x],\n",
    "                       [wavelen],\n",
    "                       fov_arcsec=FOV,\n",
    "                                   oversample=oversample,\n",
    "                                   display=False)[0].data\n",
    "            #normalize PSF\n",
    "            #psf = psf#/psf.sum()\n",
    "            #assume transmission is unity and scale by the input power:\n",
    "            cube += input_cube[0,y,x]*psf\n",
    "    \n",
    "    wavelength_cubes.append(cube)"
   ]
  },
  {
   "cell_type": "code",
   "execution_count": 49,
   "metadata": {},
   "outputs": [
    {
     "ename": "IndexError",
     "evalue": "list index out of range",
     "output_type": "error",
     "traceback": [
      "\u001b[1;31m---------------------------------------------------------------------------\u001b[0m",
      "\u001b[1;31mIndexError\u001b[0m                                Traceback (most recent call last)",
      "\u001b[1;32m<ipython-input-49-b2e7e71034f6>\u001b[0m in \u001b[0;36m<module>\u001b[1;34m\u001b[0m\n\u001b[1;32m----> 1\u001b[1;33m \u001b[0mon_axis_psfs\u001b[0m\u001b[1;33m[\u001b[0m\u001b[1;36m1\u001b[0m\u001b[1;33m]\u001b[0m\u001b[1;33m[\u001b[0m\u001b[1;36m0\u001b[0m\u001b[1;33m]\u001b[0m\u001b[1;33m.\u001b[0m\u001b[0mheader\u001b[0m\u001b[1;33m\u001b[0m\u001b[1;33m\u001b[0m\u001b[0m\n\u001b[0m",
      "\u001b[1;31mIndexError\u001b[0m: list index out of range"
     ]
    }
   ],
   "source": [
    "on_axis_psfs[1][0].header"
   ]
  },
  {
   "cell_type": "code",
   "execution_count": 50,
   "metadata": {},
   "outputs": [
    {
     "ename": "IndentationError",
     "evalue": "unexpected indent (<ipython-input-50-c9be3d5074f7>, line 52)",
     "output_type": "error",
     "traceback": [
      "\u001b[1;36m  File \u001b[1;32m\"<ipython-input-50-c9be3d5074f7>\"\u001b[1;36m, line \u001b[1;32m52\u001b[0m\n\u001b[1;33m    haystack_slice[0].header[\"INPUT_FITS\"] = haystacks[0].header[\"INPUT_FITS\"]\u001b[0m\n\u001b[1;37m    ^\u001b[0m\n\u001b[1;31mIndentationError\u001b[0m\u001b[1;31m:\u001b[0m unexpected indent\n"
     ]
    }
   ],
   "source": [
    "'''rgb_cube = np.zeros([3,wavelength_cubes[0].shape[0],\n",
    "                     wavelength_cubes[0].shape[1]])\n",
    "rgb_fits = fits.HDUList([fits.PrimaryHDU(rgb_cube,header=on_axis_psfs[0][0].header])])\n",
    "rgb_fits[0].header[\"HISTORY\"] = \"Cube of multiple wavelength runs\"\n",
    "rgb_fits[0].header[\"HISTORY\"] = \"Mode family:\" + str(ifs_spc)\n",
    "rgb_fits[0].header[\"HISTORY\"] = \"Run Wavelengths:\"+str(wavelengths)\n",
    "'''\n",
    "for i,wavelen in enumerate(wavelengths):\n",
    "    plt.figure(figsize=[12,4])\n",
    "    plt.subplot(131)\n",
    "    plt.title(\"Raw $\\lambda=$%.3g \"%wavelen)\n",
    "    image=wavelength_cubes[i].squeeze()\n",
    "    vmax=1e-8\n",
    "    vmin=1e-14\n",
    "    plt.imshow(image,\n",
    "           cmap=plt.cm.plasma,\n",
    "           interpolation=\"nearest\",\n",
    "           origin='lower',\n",
    "               vmin=vmin,vmax=vmax,\n",
    "          norm=LogNorm())\n",
    "    plt.colorbar()\n",
    "\n",
    "    plt.subplot(132)\n",
    "    plt.title(\"On Axis PSF\")\n",
    "    plt.imshow(on_axis_psfs[i][0].data.squeeze(),\n",
    "           cmap=plt.cm.plasma,\n",
    "           interpolation=\"nearest\",\n",
    "           origin='lower',\n",
    "               vmin=vmin,vmax=vmax,\n",
    "          norm=LogNorm())\n",
    "    plt.colorbar()\n",
    "\n",
    "\n",
    "    plt.subplot(133)\n",
    "    plt.title(\"On-axis PSF subtracted\")\n",
    "    diff=(image-on_axis_psfs[i][0].data.squeeze())\n",
    "    plt.imshow(diff,\n",
    "           cmap=plt.cm.plasma,\n",
    "           origin='lower',\n",
    "           interpolation=\"nearest\",\n",
    "               vmin=vmin,vmax=vmax,\n",
    "          norm=LogNorm())\n",
    "    plt.colorbar()\n",
    "    \n",
    "    \n",
    "    haystack_slice = fits.HDUList([fits.PrimaryHDU(data=image,\n",
    "                                                 header=    on_axis_psfs[i][0].header)])\n",
    "    haystack_slice[0].header[\"HISTORY\"] = \"Scene composed of %i pixels above thresh = %.3g\"%(n_thresh,\n",
    "                                                                                             contrast_floor)\n",
    "    \n",
    "1\n",
    "    haystack_slice[0].header[\"INPUT_FITS\"] = haystacks[0].header[\"INPUT_FITS\"]\n",
    "    haystack_slice[0].header[\"INPUT_PIXELSCL\"] = haystacks[0].header[\"PIXELSCL\"]\n",
    "    haystack_slice[0].header[\"INPUT_flux\"]  = haystacks[0].header[\"INPUT_flux\"]\n",
    "    slice_fname =haystacks[0].header[\"INPUT_FITS\"]+\".\"+haystack_slice[0].header[\"MODE\"]+\\\n",
    "        \"_%i_nm\"%(wavelen*1e9)+\".fits.gz\"\n",
    "    psf_fname =haystacks[0].header[\"INPUT_FITS\"]+\".\"+haystack_slice[0].header[\"MODE\"]+\\\n",
    "        \"_%i_nm\"%(wavelen*1e9)+\"_onaxis.fits.gz\"\n",
    "    haystack_slice.writeto(home+slice_fname, overwrite=True)\n",
    "    on_axis_psfs[i].writeto(home+psf_fname, overwrite=True)\n",
    "    #rgb_cube[i,:,:]= diff\n",
    "\n"
   ]
  },
  {
   "cell_type": "code",
   "execution_count": 51,
   "metadata": {},
   "outputs": [
    {
     "ename": "NameError",
     "evalue": "name 'haystack_slice' is not defined",
     "output_type": "error",
     "traceback": [
      "\u001b[1;31m---------------------------------------------------------------------------\u001b[0m",
      "\u001b[1;31mNameError\u001b[0m                                 Traceback (most recent call last)",
      "\u001b[1;32m<ipython-input-51-a35365b9c082>\u001b[0m in \u001b[0;36m<module>\u001b[1;34m\u001b[0m\n\u001b[1;32m----> 1\u001b[1;33m \u001b[0mhaystack_slice\u001b[0m\u001b[1;33m[\u001b[0m\u001b[1;36m0\u001b[0m\u001b[1;33m]\u001b[0m\u001b[1;33m.\u001b[0m\u001b[0mheader\u001b[0m\u001b[1;33m\u001b[0m\u001b[1;33m\u001b[0m\u001b[0m\n\u001b[0m",
      "\u001b[1;31mNameError\u001b[0m: name 'haystack_slice' is not defined"
     ]
    }
   ],
   "source": [
    "haystack_slice[0].header"
   ]
  },
  {
   "cell_type": "code",
   "execution_count": null,
   "metadata": {},
   "outputs": [],
   "source": []
  },
  {
   "cell_type": "markdown",
   "metadata": {},
   "source": [
    "## Create an empty PSF library datastructure\n"
   ]
  },
  {
   "cell_type": "code",
   "execution_count": 52,
   "metadata": {},
   "outputs": [
    {
     "ename": "IndexError",
     "evalue": "list index out of range",
     "output_type": "error",
     "traceback": [
      "\u001b[1;31m---------------------------------------------------------------------------\u001b[0m",
      "\u001b[1;31mIndexError\u001b[0m                                Traceback (most recent call last)",
      "\u001b[1;32m<ipython-input-52-c399551849b5>\u001b[0m in \u001b[0;36m<module>\u001b[1;34m\u001b[0m\n\u001b[1;32m----> 1\u001b[1;33m \u001b[0mon_axis_psfs\u001b[0m\u001b[1;33m[\u001b[0m\u001b[1;36m2\u001b[0m\u001b[1;33m]\u001b[0m\u001b[1;33m[\u001b[0m\u001b[1;36m0\u001b[0m\u001b[1;33m]\u001b[0m\u001b[1;33m.\u001b[0m\u001b[0mdata\u001b[0m\u001b[1;33m.\u001b[0m\u001b[0mshape\u001b[0m\u001b[1;33m\u001b[0m\u001b[1;33m\u001b[0m\u001b[0m\n\u001b[0m",
      "\u001b[1;31mIndexError\u001b[0m: list index out of range"
     ]
    }
   ],
   "source": [
    "on_axis_psfs[2][0].data.shape"
   ]
  },
  {
   "cell_type": "markdown",
   "metadata": {},
   "source": [
    "## Generate library of PSFs"
   ]
  },
  {
   "cell_type": "code",
   "execution_count": null,
   "metadata": {},
   "outputs": [],
   "source": []
  },
  {
   "cell_type": "markdown",
   "metadata": {
    "collapsed": true
   },
   "source": [
    "## Test that applying the library to the input scene returns the same answer as the direct approach"
   ]
  },
  {
   "cell_type": "code",
   "execution_count": 53,
   "metadata": {},
   "outputs": [
    {
     "data": {
      "text/plain": [
       "0.012354402457508377"
      ]
     },
     "execution_count": 53,
     "metadata": {},
     "output_type": "execute_result"
    }
   ],
   "source": [
    "out_pixscale"
   ]
  },
  {
   "cell_type": "code",
   "execution_count": 54,
   "metadata": {},
   "outputs": [],
   "source": [
    "from astropy import constants as c"
   ]
  },
  {
   "cell_type": "code",
   "execution_count": 55,
   "metadata": {},
   "outputs": [
    {
     "data": {
      "text/latex": [
       "$1.6632093 \\times 10^{-11} \\; \\mathrm{\\frac{kg}{m\\,s^{3}}}$"
      ],
      "text/plain": [
       "<Quantity 1.66320929e-11 kg / (m s3)>"
      ]
     },
     "execution_count": 55,
     "metadata": {},
     "output_type": "execute_result"
    }
   ],
   "source": [
    "(1.8342642e-06*u.jansky*c.c/(575*u.nm)**2).decompose()#/(1240*u.nm*u.eV*1*u.nm/(575*u.nm)**2)).decompose()"
   ]
  },
  {
   "cell_type": "code",
   "execution_count": 56,
   "metadata": {},
   "outputs": [
    {
     "data": {
      "text/latex": [
       "$91.738901 \\; \\mathrm{\\frac{ph}{s\\,m^{2}}}$"
      ],
      "text/plain": [
       "<Quantity 91.73890096 ph / (m2 s)>"
      ]
     },
     "execution_count": 56,
     "metadata": {},
     "output_type": "execute_result"
    }
   ],
   "source": [
    "1.51e7*u.photon/u.second/u.m**2/(15/575)*10**(-17/2.5)"
   ]
  },
  {
   "cell_type": "code",
   "execution_count": 57,
   "metadata": {},
   "outputs": [
    {
     "data": {
      "text/plain": [
       "(<Quantity 4.66476972e-07 ph / (Angstrom cm2 s)>,\n",
       " <Quantity 10.55146053 ph / s>)"
      ]
     },
     "execution_count": 57,
     "metadata": {},
     "output_type": "execute_result"
    }
   ],
   "source": [
    "import astropy.units as u\n",
    "bw=50*u.nm\n",
    "A=(np.pi*(1.2*u.m)**2)\n",
    "\n",
    "phot_flux=((1.7e-6 * u.Jy).to(u.photon / u.cm**2 / u.s / u.AA,\n",
    "                equivalencies=u.spectral_density(5500 * u.AA))  )\n",
    "phot_flux,(phot_flux*bw*A).decompose()"
   ]
  },
  {
   "cell_type": "markdown",
   "metadata": {
    "collapsed": true
   },
   "source": [
    "$  F_0 \\  (z 10^{-m_{z}/2.5}) \\  \\pi^2 \\ (X\\lambda)^2 \\ \\Delta\\lambda  \\ \\text{QE}_{eff}$\n"
   ]
  },
  {
   "cell_type": "code",
   "execution_count": null,
   "metadata": {},
   "outputs": [],
   "source": [
    "F0=949*u.photons/u.sec/u.cm**2/u.AA\n",
    "z=3\n",
    "mz=22\n",
    "wavel=575*u.nm\n",
    "dlambda=50*u.nm\n",
    "QE_eff=.05\n",
    "X=0.7\n",
    "F0*z(10**(-mz/2.5))*np.pi**2*(X*wavel)**2*dlambda*QE_eff"
   ]
  },
  {
   "cell_type": "code",
   "execution_count": null,
   "metadata": {},
   "outputs": [],
   "source": []
  },
  {
   "cell_type": "code",
   "execution_count": null,
   "metadata": {},
   "outputs": [],
   "source": []
  }
 ],
 "metadata": {
  "anaconda-cloud": {},
  "kernelspec": {
   "display_name": "Python 3",
   "language": "python",
   "name": "python3"
  },
  "language_info": {
   "codemirror_mode": {
    "name": "ipython",
    "version": 3
   },
   "file_extension": ".py",
   "mimetype": "text/x-python",
   "name": "python",
   "nbconvert_exporter": "python",
   "pygments_lexer": "ipython3",
   "version": "3.7.3"
  }
 },
 "nbformat": 4,
 "nbformat_minor": 1
}
